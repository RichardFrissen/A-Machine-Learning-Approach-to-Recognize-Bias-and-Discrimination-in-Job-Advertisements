{
 "cells": [
  {
   "cell_type": "markdown",
   "id": "allied-desktop",
   "metadata": {},
   "source": [
    "## 1. Import libraries and requirements"
   ]
  },
  {
   "cell_type": "code",
   "execution_count": 1,
   "id": "ruled-transmission",
   "metadata": {},
   "outputs": [
    {
     "name": "stderr",
     "output_type": "stream",
     "text": [
      "2021-07-26 21:57:56.643542: W tensorflow/stream_executor/platform/default/dso_loader.cc:64] Could not load dynamic library 'libcudart.so.11.0'; dlerror: libcudart.so.11.0: cannot open shared object file: No such file or directory\n",
      "2021-07-26 21:57:56.643600: I tensorflow/stream_executor/cuda/cudart_stub.cc:29] Ignore above cudart dlerror if you do not have a GPU set up on your machine.\n",
      "/opt/conda/lib/python3.9/site-packages/torch/cuda/__init__.py:52: UserWarning: CUDA initialization: Found no NVIDIA driver on your system. Please check that you have an NVIDIA GPU and installed a driver from http://www.nvidia.com/Download/index.aspx (Triggered internally at  /pytorch/c10/cuda/CUDAFunctions.cpp:100.)\n",
      "  return torch._C._cuda_getDeviceCount() > 0\n"
     ]
    }
   ],
   "source": [
    "# Loading required packages\n",
    "import spacy\n",
    "import pandas as pd\n",
    "import re\n",
    "# import gensim\n",
    "# import gensim.downloader\n",
    "# from gensim.models import Word2Vec\n",
    "# from gensim.test.utils import common_texts\n",
    "# from gensim.models import Word2Vec\n",
    "# from gensim.models.phrases import Phrases, Phraser\n",
    "import nltk\n",
    "from numpy import mean\n",
    "from numpy import std\n",
    "from sklearn import svm\n",
    "from sklearn.linear_model import LogisticRegression\n",
    "from sklearn.linear_model import LogisticRegressionCV\n",
    "from sklearn.tree import DecisionTreeClassifier\n",
    "from sklearn.ensemble import RandomForestClassifier\n",
    "from sklearn.neighbors import KNeighborsClassifier\n",
    "from sklearn.naive_bayes import GaussianNB\n",
    "from sklearn.neural_network import MLPClassifier\n",
    "from sklearn import preprocessing\n",
    "from sklearn.metrics import accuracy_score\n",
    "from sklearn.metrics import precision_score\n",
    "from sklearn.metrics import f1_score\n",
    "from sklearn.metrics import recall_score\n",
    "from sklearn.metrics import confusion_matrix\n",
    "from sklearn.metrics import classification_report\n",
    "import matplotlib.pyplot as plt  \n",
    "from sklearn.metrics import plot_confusion_matrix\n",
    "from sklearn.datasets import make_classification\n",
    "from sklearn.model_selection import KFold\n",
    "from sklearn.model_selection import cross_validate\n",
    "from sklearn.model_selection import cross_val_score\n",
    "from sklearn.model_selection import train_test_split\n",
    "from sklearn.dummy import DummyClassifier\n",
    "from statistics import mean\n",
    "import json\n",
    "import csv\n",
    "import ast\n",
    "import numpy as np\n",
    "\n",
    "from flair.embeddings import WordEmbeddings\n",
    "from flair.data import Sentence\n",
    "from flair.embeddings import TransformerWordEmbeddings\n",
    "from flair.embeddings import FlairEmbeddings\n",
    "\n",
    "from tqdm import tqdm\n",
    "\n",
    "# Set seed\n",
    "seed = np.random.seed(1)\n",
    "\n",
    "\n",
    "# Select Spacy model\n",
    "# Efficiency\n",
    "nlp = spacy.load(\"en_core_web_sm\")\n",
    "\n",
    "# Accuracy\n",
    "# nlp = spacy.load(\"en_core_web_trf\")\n",
    "\n",
    "# Change working directory\n",
    "# %cd '/Users/richardfrissen/Documents/Maastricht University/Thesis/Development/Datasets'"
   ]
  },
  {
   "cell_type": "code",
   "execution_count": null,
   "id": "undefined-module",
   "metadata": {},
   "outputs": [],
   "source": [
    "# Define columns and read annotated data\n",
    "columns = ['Token', 'Label', 'pos', 'ent_type', 'is_alpha', 'is_ascii', 'is_digit', 'is_lower', 'is_upper', 'is_title', 'is_punct', 'is_space', 'like_num', 'is_oov', 'is_stop', 'like_num', 'lang', 'sentiment']\n",
    "data = pd.read_csv('FULL_Annotation_data_output.tsv', sep='\\t', nrows=500000, header = None)"
   ]
  },
  {
   "cell_type": "code",
   "execution_count": null,
   "id": "proprietary-commodity",
   "metadata": {},
   "outputs": [],
   "source": [
    "%%time\n",
    "\n",
    "# Generate linguistic features for each token\n",
    "\n",
    "def feature_extraction(input_column):\n",
    "    features = [[],[],[],[],[],[],[],[],[],[],[],[],[],[],[],[]]\n",
    "    for i in input_column:\n",
    "        i = str(i)\n",
    "        doc = nlp(i)\n",
    "        word = i\n",
    "        for token in doc:\n",
    "            features[0].append(token.pos)\n",
    "            features[1].append(token.ent_type)\n",
    "            features[2].append(token.is_alpha)\n",
    "            features[3].append(token.is_ascii)\n",
    "            features[4].append(token.is_digit)\n",
    "            features[5].append(token.is_lower)\n",
    "            features[6].append(token.is_upper)\n",
    "            features[7].append(token.is_title)\n",
    "            features[8].append(token.is_punct)\n",
    "            features[9].append(token.is_space)\n",
    "            features[10].append(token.like_num)\n",
    "            features[11].append(token.is_oov)\n",
    "            features[12].append(token.is_stop)\n",
    "            features[13].append(token.lang)\n",
    "            features[14].append(token.sentiment)\n",
    "            features[15].append(len(word))\n",
    "    return features\n",
    "\n",
    "features = feature_extraction(data[0])"
   ]
  },
  {
   "cell_type": "code",
   "execution_count": null,
   "id": "selected-organ",
   "metadata": {},
   "outputs": [],
   "source": [
    "%%time\n",
    "\n",
    "# Convert list to dataframe\n",
    "features = pd.DataFrame(features)\n",
    "\n",
    "# We need to transpose this dataframe first\n",
    "features = features.transpose()\n",
    "\n",
    "# We concat the annotated data with the linguistic features\n",
    "data = pd.concat([data, features], axis=1)\n",
    "data.columns = ['Token', 'Label', 'pos', 'ent_type', 'is_alpha', 'is_ascii', 'is_digit', 'is_lower', 'is_upper', 'is_title', 'is_punct', 'is_space', 'like_num', 'is_oov', 'is_stop', 'lang', 'sentiment', 'word_length']\n",
    "\n",
    "data.head(10)"
   ]
  },
  {
   "cell_type": "code",
   "execution_count": null,
   "id": "hired-trial",
   "metadata": {},
   "outputs": [],
   "source": [
    "# Optionally the data can be saved to create a checkpoint\n",
    "\n",
    "data.to_csv('data_features_full_dataset.csv', index = False)\n",
    "\n",
    "data = pd.read_csv('data_features_full_dataset.csv', nrows = 500000, header = 0)\n",
    "\n",
    "data.shape"
   ]
  },
  {
   "cell_type": "code",
   "execution_count": null,
   "id": "33b2d9af-6558-48da-b620-f1239601eec1",
   "metadata": {},
   "outputs": [],
   "source": [
    "data.head(10)"
   ]
  },
  {
   "cell_type": "code",
   "execution_count": null,
   "id": "delayed-expression",
   "metadata": {
    "tags": []
   },
   "outputs": [],
   "source": [
    "# init word embedding\n",
    "embedding = FlairEmbeddings('news-forward-fast')"
   ]
  },
  {
   "cell_type": "code",
   "execution_count": null,
   "id": "minute-radius",
   "metadata": {},
   "outputs": [],
   "source": [
    "%%time\n",
    "\n",
    "# Generate word embeddings for each token\n",
    "\n",
    "def flair_wordembed(input_column):\n",
    "    flair_result =[]\n",
    "    counter = 0\n",
    "    for i in tqdm(input_column):\n",
    "        counter = counter +1\n",
    "        try:\n",
    "            i = str(i)\n",
    "            token = Sentence(i)\n",
    "            embedding.embed(token)\n",
    "            for token in token:\n",
    "                result_array = token.embedding\n",
    "            result_list = result_array.tolist()\n",
    "            flair_result.append(result_list)\n",
    "        except KeyError:\n",
    "            flair_result.append(np.nan)\n",
    "        except TypeError: \n",
    "            flair_result.append(np.nan)\n",
    "        except IndexError:\n",
    "            flair_result.append(np.nan)\n",
    "\n",
    "    return flair_result\n",
    "\n",
    "\n",
    "# Flair_Word_Embeddings\n",
    "word_embedding = flair_wordembed(data['Token'])"
   ]
  },
  {
   "cell_type": "code",
   "execution_count": null,
   "id": "deadly-writing",
   "metadata": {},
   "outputs": [],
   "source": [
    "len(word_embedding)"
   ]
  },
  {
   "cell_type": "code",
   "execution_count": null,
   "id": "70eedee5-4b8d-4ad2-ae54-0e6a6cff6287",
   "metadata": {},
   "outputs": [],
   "source": [
    "# Optionally the data can be saved to create a checkpoint\n",
    "\n",
    "import pickle\n",
    "\n",
    "f = open('word_embedding_flair.pckl', 'wb')\n",
    "pickle.dump(word_embedding, f)\n",
    "f.close()\n",
    "\n",
    "f = open('word_embedding_flair.pckl', 'rb')\n",
    "word_embedding = pickle.load(f)\n",
    "f.close()"
   ]
  },
  {
   "cell_type": "code",
   "execution_count": null,
   "id": "24c41e0d-77f1-48ef-abd1-679bf9130776",
   "metadata": {},
   "outputs": [],
   "source": [
    "%%time\n",
    "\n",
    "# Replace empty values in the list of word embeddings for words \n",
    "# we couldn't generate a word embedding for\n",
    "\n",
    "word_embedding_complete = []\n",
    "\n",
    "for i in tqdm(word_embedding):\n",
    "    try:\n",
    "        if len(i) == 0:\n",
    "            i = []\n",
    "        else:\n",
    "            i = i\n",
    "        word_embedding_complete.append(i)\n",
    "        \n",
    "    except TypeError:\n",
    "        i = []\n",
    "        word_embedding_complete.append(i)"
   ]
  },
  {
   "cell_type": "code",
   "execution_count": null,
   "id": "e89346d3-6372-4abc-841b-aa523fb42fa8",
   "metadata": {},
   "outputs": [],
   "source": [
    "# Check and verify length\n",
    "# Length must be the same as the nrows of the dataframe\n",
    "\n",
    "len(word_embedding_complete)"
   ]
  },
  {
   "cell_type": "code",
   "execution_count": null,
   "id": "julian-phase",
   "metadata": {},
   "outputs": [],
   "source": [
    "%%time\n",
    "\n",
    "# Convert list to dataframe\n",
    "word_embedding_df = pd.DataFrame(word_embedding_complete)\n",
    "word_embedding_series = word_embedding_df.apply(pd.Series)\n",
    "\n",
    "# We concat the annotated data with the linguistic features\n",
    "data = pd.concat([data, word_embedding_series], axis=1)"
   ]
  },
  {
   "cell_type": "code",
   "execution_count": null,
   "id": "appropriate-dominican",
   "metadata": {},
   "outputs": [],
   "source": [
    "data.head(10)"
   ]
  },
  {
   "cell_type": "code",
   "execution_count": 2,
   "id": "artificial-christianity",
   "metadata": {},
   "outputs": [
    {
     "name": "stdout",
     "output_type": "stream",
     "text": [
      "CPU times: user 849 ms, sys: 65.5 ms, total: 915 ms\n",
      "Wall time: 992 ms\n"
     ]
    },
    {
     "data": {
      "text/html": [
       "<div>\n",
       "<style scoped>\n",
       "    .dataframe tbody tr th:only-of-type {\n",
       "        vertical-align: middle;\n",
       "    }\n",
       "\n",
       "    .dataframe tbody tr th {\n",
       "        vertical-align: top;\n",
       "    }\n",
       "\n",
       "    .dataframe thead th {\n",
       "        text-align: right;\n",
       "    }\n",
       "</style>\n",
       "<table border=\"1\" class=\"dataframe\">\n",
       "  <thead>\n",
       "    <tr style=\"text-align: right;\">\n",
       "      <th></th>\n",
       "      <th>Token</th>\n",
       "      <th>Label</th>\n",
       "      <th>pos</th>\n",
       "      <th>ent_type</th>\n",
       "      <th>is_alpha</th>\n",
       "      <th>is_ascii</th>\n",
       "      <th>is_digit</th>\n",
       "      <th>is_lower</th>\n",
       "      <th>is_upper</th>\n",
       "      <th>is_title</th>\n",
       "      <th>is_punct</th>\n",
       "      <th>is_space</th>\n",
       "      <th>like_num</th>\n",
       "      <th>is_oov</th>\n",
       "      <th>is_stop</th>\n",
       "      <th>lang</th>\n",
       "      <th>sentiment</th>\n",
       "      <th>word_length</th>\n",
       "      <th>0</th>\n",
       "    </tr>\n",
       "  </thead>\n",
       "  <tbody>\n",
       "    <tr>\n",
       "      <th>0</th>\n",
       "      <td>food</td>\n",
       "      <td>O</td>\n",
       "      <td>92</td>\n",
       "      <td>0</td>\n",
       "      <td>True</td>\n",
       "      <td>True</td>\n",
       "      <td>False</td>\n",
       "      <td>True</td>\n",
       "      <td>False</td>\n",
       "      <td>False</td>\n",
       "      <td>False</td>\n",
       "      <td>False</td>\n",
       "      <td>False</td>\n",
       "      <td>True</td>\n",
       "      <td>False</td>\n",
       "      <td>14626626061804382878</td>\n",
       "      <td>0.0</td>\n",
       "      <td>4</td>\n",
       "      <td>-0.021038</td>\n",
       "    </tr>\n",
       "    <tr>\n",
       "      <th>1</th>\n",
       "      <td>a</td>\n",
       "      <td>O</td>\n",
       "      <td>90</td>\n",
       "      <td>0</td>\n",
       "      <td>True</td>\n",
       "      <td>True</td>\n",
       "      <td>False</td>\n",
       "      <td>True</td>\n",
       "      <td>False</td>\n",
       "      <td>False</td>\n",
       "      <td>False</td>\n",
       "      <td>False</td>\n",
       "      <td>False</td>\n",
       "      <td>True</td>\n",
       "      <td>True</td>\n",
       "      <td>14626626061804382878</td>\n",
       "      <td>0.0</td>\n",
       "      <td>1</td>\n",
       "      <td>-0.003446</td>\n",
       "    </tr>\n",
       "    <tr>\n",
       "      <th>2</th>\n",
       "      <td>fast</td>\n",
       "      <td>O</td>\n",
       "      <td>86</td>\n",
       "      <td>0</td>\n",
       "      <td>True</td>\n",
       "      <td>True</td>\n",
       "      <td>False</td>\n",
       "      <td>True</td>\n",
       "      <td>False</td>\n",
       "      <td>False</td>\n",
       "      <td>False</td>\n",
       "      <td>False</td>\n",
       "      <td>False</td>\n",
       "      <td>True</td>\n",
       "      <td>False</td>\n",
       "      <td>14626626061804382878</td>\n",
       "      <td>0.0</td>\n",
       "      <td>4</td>\n",
       "      <td>-0.006778</td>\n",
       "    </tr>\n",
       "    <tr>\n",
       "      <th>3</th>\n",
       "      <td>grow</td>\n",
       "      <td>O</td>\n",
       "      <td>100</td>\n",
       "      <td>0</td>\n",
       "      <td>True</td>\n",
       "      <td>True</td>\n",
       "      <td>False</td>\n",
       "      <td>True</td>\n",
       "      <td>False</td>\n",
       "      <td>False</td>\n",
       "      <td>False</td>\n",
       "      <td>False</td>\n",
       "      <td>False</td>\n",
       "      <td>True</td>\n",
       "      <td>False</td>\n",
       "      <td>14626626061804382878</td>\n",
       "      <td>0.0</td>\n",
       "      <td>4</td>\n",
       "      <td>-0.005069</td>\n",
       "    </tr>\n",
       "    <tr>\n",
       "      <th>4</th>\n",
       "      <td>-winne</td>\n",
       "      <td>O</td>\n",
       "      <td>97</td>\n",
       "      <td>0</td>\n",
       "      <td>False</td>\n",
       "      <td>True</td>\n",
       "      <td>False</td>\n",
       "      <td>True</td>\n",
       "      <td>False</td>\n",
       "      <td>False</td>\n",
       "      <td>False</td>\n",
       "      <td>False</td>\n",
       "      <td>False</td>\n",
       "      <td>True</td>\n",
       "      <td>False</td>\n",
       "      <td>14626626061804382878</td>\n",
       "      <td>0.0</td>\n",
       "      <td>6</td>\n",
       "      <td>0.004650</td>\n",
       "    </tr>\n",
       "    <tr>\n",
       "      <th>5</th>\n",
       "      <td>online</td>\n",
       "      <td>O</td>\n",
       "      <td>86</td>\n",
       "      <td>0</td>\n",
       "      <td>True</td>\n",
       "      <td>True</td>\n",
       "      <td>False</td>\n",
       "      <td>True</td>\n",
       "      <td>False</td>\n",
       "      <td>False</td>\n",
       "      <td>False</td>\n",
       "      <td>False</td>\n",
       "      <td>False</td>\n",
       "      <td>True</td>\n",
       "      <td>False</td>\n",
       "      <td>14626626061804382878</td>\n",
       "      <td>0.0</td>\n",
       "      <td>6</td>\n",
       "      <td>0.001168</td>\n",
       "    </tr>\n",
       "    <tr>\n",
       "      <th>6</th>\n",
       "      <td>food</td>\n",
       "      <td>O</td>\n",
       "      <td>92</td>\n",
       "      <td>0</td>\n",
       "      <td>True</td>\n",
       "      <td>True</td>\n",
       "      <td>False</td>\n",
       "      <td>True</td>\n",
       "      <td>False</td>\n",
       "      <td>False</td>\n",
       "      <td>False</td>\n",
       "      <td>False</td>\n",
       "      <td>False</td>\n",
       "      <td>True</td>\n",
       "      <td>False</td>\n",
       "      <td>14626626061804382878</td>\n",
       "      <td>0.0</td>\n",
       "      <td>4</td>\n",
       "      <td>-0.021038</td>\n",
       "    </tr>\n",
       "    <tr>\n",
       "      <th>7</th>\n",
       "      <td>community</td>\n",
       "      <td>O</td>\n",
       "      <td>92</td>\n",
       "      <td>0</td>\n",
       "      <td>True</td>\n",
       "      <td>True</td>\n",
       "      <td>False</td>\n",
       "      <td>True</td>\n",
       "      <td>False</td>\n",
       "      <td>False</td>\n",
       "      <td>False</td>\n",
       "      <td>False</td>\n",
       "      <td>False</td>\n",
       "      <td>True</td>\n",
       "      <td>False</td>\n",
       "      <td>14626626061804382878</td>\n",
       "      <td>0.0</td>\n",
       "      <td>9</td>\n",
       "      <td>-0.005408</td>\n",
       "    </tr>\n",
       "    <tr>\n",
       "      <th>8</th>\n",
       "      <td>and</td>\n",
       "      <td>O</td>\n",
       "      <td>89</td>\n",
       "      <td>0</td>\n",
       "      <td>True</td>\n",
       "      <td>True</td>\n",
       "      <td>False</td>\n",
       "      <td>True</td>\n",
       "      <td>False</td>\n",
       "      <td>False</td>\n",
       "      <td>False</td>\n",
       "      <td>False</td>\n",
       "      <td>False</td>\n",
       "      <td>True</td>\n",
       "      <td>True</td>\n",
       "      <td>14626626061804382878</td>\n",
       "      <td>0.0</td>\n",
       "      <td>3</td>\n",
       "      <td>0.011620</td>\n",
       "    </tr>\n",
       "    <tr>\n",
       "      <th>9</th>\n",
       "      <td>crowd</td>\n",
       "      <td>O</td>\n",
       "      <td>92</td>\n",
       "      <td>0</td>\n",
       "      <td>True</td>\n",
       "      <td>True</td>\n",
       "      <td>False</td>\n",
       "      <td>True</td>\n",
       "      <td>False</td>\n",
       "      <td>False</td>\n",
       "      <td>False</td>\n",
       "      <td>False</td>\n",
       "      <td>False</td>\n",
       "      <td>True</td>\n",
       "      <td>False</td>\n",
       "      <td>14626626061804382878</td>\n",
       "      <td>0.0</td>\n",
       "      <td>5</td>\n",
       "      <td>-0.015084</td>\n",
       "    </tr>\n",
       "  </tbody>\n",
       "</table>\n",
       "</div>"
      ],
      "text/plain": [
       "       Token Label  pos  ent_type  is_alpha  is_ascii  is_digit  is_lower  \\\n",
       "0       food     O   92         0      True      True     False      True   \n",
       "1          a     O   90         0      True      True     False      True   \n",
       "2       fast     O   86         0      True      True     False      True   \n",
       "3       grow     O  100         0      True      True     False      True   \n",
       "4     -winne     O   97         0     False      True     False      True   \n",
       "5     online     O   86         0      True      True     False      True   \n",
       "6       food     O   92         0      True      True     False      True   \n",
       "7  community     O   92         0      True      True     False      True   \n",
       "8        and     O   89         0      True      True     False      True   \n",
       "9      crowd     O   92         0      True      True     False      True   \n",
       "\n",
       "   is_upper  is_title  is_punct  is_space  like_num  is_oov  is_stop  \\\n",
       "0     False     False     False     False     False    True    False   \n",
       "1     False     False     False     False     False    True     True   \n",
       "2     False     False     False     False     False    True    False   \n",
       "3     False     False     False     False     False    True    False   \n",
       "4     False     False     False     False     False    True    False   \n",
       "5     False     False     False     False     False    True    False   \n",
       "6     False     False     False     False     False    True    False   \n",
       "7     False     False     False     False     False    True    False   \n",
       "8     False     False     False     False     False    True     True   \n",
       "9     False     False     False     False     False    True    False   \n",
       "\n",
       "                   lang  sentiment  word_length         0  \n",
       "0  14626626061804382878        0.0            4 -0.021038  \n",
       "1  14626626061804382878        0.0            1 -0.003446  \n",
       "2  14626626061804382878        0.0            4 -0.006778  \n",
       "3  14626626061804382878        0.0            4 -0.005069  \n",
       "4  14626626061804382878        0.0            6  0.004650  \n",
       "5  14626626061804382878        0.0            6  0.001168  \n",
       "6  14626626061804382878        0.0            4 -0.021038  \n",
       "7  14626626061804382878        0.0            9 -0.005408  \n",
       "8  14626626061804382878        0.0            3  0.011620  \n",
       "9  14626626061804382878        0.0            5 -0.015084  "
      ]
     },
     "execution_count": 2,
     "metadata": {},
     "output_type": "execute_result"
    }
   ],
   "source": [
    "%%time\n",
    "\n",
    "# Optionally the data can be saved to create a checkpoint\n",
    "\n",
    "# data.to_csv('data_features_full_wordembedding_flair.csv', index = False)\n",
    "\n",
    "data = pd.read_csv('data_features_full_wordembedding_flair.csv', nrows=500000, na_values=['nan'])\n",
    "\n",
    "data.head(10)"
   ]
  },
  {
   "cell_type": "code",
   "execution_count": 3,
   "id": "accessible-warren",
   "metadata": {},
   "outputs": [
    {
     "name": "stdout",
     "output_type": "stream",
     "text": [
      "CPU times: user 102 ms, sys: 152 µs, total: 102 ms\n",
      "Wall time: 101 ms\n"
     ]
    },
    {
     "data": {
      "text/html": [
       "<div>\n",
       "<style scoped>\n",
       "    .dataframe tbody tr th:only-of-type {\n",
       "        vertical-align: middle;\n",
       "    }\n",
       "\n",
       "    .dataframe tbody tr th {\n",
       "        vertical-align: top;\n",
       "    }\n",
       "\n",
       "    .dataframe thead th {\n",
       "        text-align: right;\n",
       "    }\n",
       "</style>\n",
       "<table border=\"1\" class=\"dataframe\">\n",
       "  <thead>\n",
       "    <tr style=\"text-align: right;\">\n",
       "      <th></th>\n",
       "      <th>Label</th>\n",
       "      <th>pos</th>\n",
       "      <th>ent_type</th>\n",
       "      <th>is_alpha</th>\n",
       "      <th>is_ascii</th>\n",
       "      <th>is_digit</th>\n",
       "      <th>is_lower</th>\n",
       "      <th>is_upper</th>\n",
       "      <th>is_title</th>\n",
       "      <th>is_punct</th>\n",
       "      <th>is_space</th>\n",
       "      <th>like_num</th>\n",
       "      <th>is_oov</th>\n",
       "      <th>is_stop</th>\n",
       "      <th>lang</th>\n",
       "      <th>sentiment</th>\n",
       "      <th>word_length</th>\n",
       "      <th>0</th>\n",
       "    </tr>\n",
       "  </thead>\n",
       "  <tbody>\n",
       "    <tr>\n",
       "      <th>0</th>\n",
       "      <td>O</td>\n",
       "      <td>92</td>\n",
       "      <td>0</td>\n",
       "      <td>True</td>\n",
       "      <td>True</td>\n",
       "      <td>False</td>\n",
       "      <td>True</td>\n",
       "      <td>False</td>\n",
       "      <td>False</td>\n",
       "      <td>False</td>\n",
       "      <td>False</td>\n",
       "      <td>False</td>\n",
       "      <td>True</td>\n",
       "      <td>False</td>\n",
       "      <td>14626626061804382878</td>\n",
       "      <td>0.0</td>\n",
       "      <td>4</td>\n",
       "      <td>-0.021038</td>\n",
       "    </tr>\n",
       "    <tr>\n",
       "      <th>1</th>\n",
       "      <td>O</td>\n",
       "      <td>90</td>\n",
       "      <td>0</td>\n",
       "      <td>True</td>\n",
       "      <td>True</td>\n",
       "      <td>False</td>\n",
       "      <td>True</td>\n",
       "      <td>False</td>\n",
       "      <td>False</td>\n",
       "      <td>False</td>\n",
       "      <td>False</td>\n",
       "      <td>False</td>\n",
       "      <td>True</td>\n",
       "      <td>True</td>\n",
       "      <td>14626626061804382878</td>\n",
       "      <td>0.0</td>\n",
       "      <td>1</td>\n",
       "      <td>-0.003446</td>\n",
       "    </tr>\n",
       "    <tr>\n",
       "      <th>2</th>\n",
       "      <td>O</td>\n",
       "      <td>86</td>\n",
       "      <td>0</td>\n",
       "      <td>True</td>\n",
       "      <td>True</td>\n",
       "      <td>False</td>\n",
       "      <td>True</td>\n",
       "      <td>False</td>\n",
       "      <td>False</td>\n",
       "      <td>False</td>\n",
       "      <td>False</td>\n",
       "      <td>False</td>\n",
       "      <td>True</td>\n",
       "      <td>False</td>\n",
       "      <td>14626626061804382878</td>\n",
       "      <td>0.0</td>\n",
       "      <td>4</td>\n",
       "      <td>-0.006778</td>\n",
       "    </tr>\n",
       "    <tr>\n",
       "      <th>3</th>\n",
       "      <td>O</td>\n",
       "      <td>100</td>\n",
       "      <td>0</td>\n",
       "      <td>True</td>\n",
       "      <td>True</td>\n",
       "      <td>False</td>\n",
       "      <td>True</td>\n",
       "      <td>False</td>\n",
       "      <td>False</td>\n",
       "      <td>False</td>\n",
       "      <td>False</td>\n",
       "      <td>False</td>\n",
       "      <td>True</td>\n",
       "      <td>False</td>\n",
       "      <td>14626626061804382878</td>\n",
       "      <td>0.0</td>\n",
       "      <td>4</td>\n",
       "      <td>-0.005069</td>\n",
       "    </tr>\n",
       "    <tr>\n",
       "      <th>4</th>\n",
       "      <td>O</td>\n",
       "      <td>97</td>\n",
       "      <td>0</td>\n",
       "      <td>False</td>\n",
       "      <td>True</td>\n",
       "      <td>False</td>\n",
       "      <td>True</td>\n",
       "      <td>False</td>\n",
       "      <td>False</td>\n",
       "      <td>False</td>\n",
       "      <td>False</td>\n",
       "      <td>False</td>\n",
       "      <td>True</td>\n",
       "      <td>False</td>\n",
       "      <td>14626626061804382878</td>\n",
       "      <td>0.0</td>\n",
       "      <td>6</td>\n",
       "      <td>0.004650</td>\n",
       "    </tr>\n",
       "    <tr>\n",
       "      <th>5</th>\n",
       "      <td>O</td>\n",
       "      <td>86</td>\n",
       "      <td>0</td>\n",
       "      <td>True</td>\n",
       "      <td>True</td>\n",
       "      <td>False</td>\n",
       "      <td>True</td>\n",
       "      <td>False</td>\n",
       "      <td>False</td>\n",
       "      <td>False</td>\n",
       "      <td>False</td>\n",
       "      <td>False</td>\n",
       "      <td>True</td>\n",
       "      <td>False</td>\n",
       "      <td>14626626061804382878</td>\n",
       "      <td>0.0</td>\n",
       "      <td>6</td>\n",
       "      <td>0.001168</td>\n",
       "    </tr>\n",
       "    <tr>\n",
       "      <th>6</th>\n",
       "      <td>O</td>\n",
       "      <td>92</td>\n",
       "      <td>0</td>\n",
       "      <td>True</td>\n",
       "      <td>True</td>\n",
       "      <td>False</td>\n",
       "      <td>True</td>\n",
       "      <td>False</td>\n",
       "      <td>False</td>\n",
       "      <td>False</td>\n",
       "      <td>False</td>\n",
       "      <td>False</td>\n",
       "      <td>True</td>\n",
       "      <td>False</td>\n",
       "      <td>14626626061804382878</td>\n",
       "      <td>0.0</td>\n",
       "      <td>4</td>\n",
       "      <td>-0.021038</td>\n",
       "    </tr>\n",
       "    <tr>\n",
       "      <th>7</th>\n",
       "      <td>O</td>\n",
       "      <td>92</td>\n",
       "      <td>0</td>\n",
       "      <td>True</td>\n",
       "      <td>True</td>\n",
       "      <td>False</td>\n",
       "      <td>True</td>\n",
       "      <td>False</td>\n",
       "      <td>False</td>\n",
       "      <td>False</td>\n",
       "      <td>False</td>\n",
       "      <td>False</td>\n",
       "      <td>True</td>\n",
       "      <td>False</td>\n",
       "      <td>14626626061804382878</td>\n",
       "      <td>0.0</td>\n",
       "      <td>9</td>\n",
       "      <td>-0.005408</td>\n",
       "    </tr>\n",
       "    <tr>\n",
       "      <th>8</th>\n",
       "      <td>O</td>\n",
       "      <td>89</td>\n",
       "      <td>0</td>\n",
       "      <td>True</td>\n",
       "      <td>True</td>\n",
       "      <td>False</td>\n",
       "      <td>True</td>\n",
       "      <td>False</td>\n",
       "      <td>False</td>\n",
       "      <td>False</td>\n",
       "      <td>False</td>\n",
       "      <td>False</td>\n",
       "      <td>True</td>\n",
       "      <td>True</td>\n",
       "      <td>14626626061804382878</td>\n",
       "      <td>0.0</td>\n",
       "      <td>3</td>\n",
       "      <td>0.011620</td>\n",
       "    </tr>\n",
       "    <tr>\n",
       "      <th>9</th>\n",
       "      <td>O</td>\n",
       "      <td>92</td>\n",
       "      <td>0</td>\n",
       "      <td>True</td>\n",
       "      <td>True</td>\n",
       "      <td>False</td>\n",
       "      <td>True</td>\n",
       "      <td>False</td>\n",
       "      <td>False</td>\n",
       "      <td>False</td>\n",
       "      <td>False</td>\n",
       "      <td>False</td>\n",
       "      <td>True</td>\n",
       "      <td>False</td>\n",
       "      <td>14626626061804382878</td>\n",
       "      <td>0.0</td>\n",
       "      <td>5</td>\n",
       "      <td>-0.015084</td>\n",
       "    </tr>\n",
       "  </tbody>\n",
       "</table>\n",
       "</div>"
      ],
      "text/plain": [
       "  Label  pos  ent_type  is_alpha  is_ascii  is_digit  is_lower  is_upper  \\\n",
       "0     O   92         0      True      True     False      True     False   \n",
       "1     O   90         0      True      True     False      True     False   \n",
       "2     O   86         0      True      True     False      True     False   \n",
       "3     O  100         0      True      True     False      True     False   \n",
       "4     O   97         0     False      True     False      True     False   \n",
       "5     O   86         0      True      True     False      True     False   \n",
       "6     O   92         0      True      True     False      True     False   \n",
       "7     O   92         0      True      True     False      True     False   \n",
       "8     O   89         0      True      True     False      True     False   \n",
       "9     O   92         0      True      True     False      True     False   \n",
       "\n",
       "   is_title  is_punct  is_space  like_num  is_oov  is_stop  \\\n",
       "0     False     False     False     False    True    False   \n",
       "1     False     False     False     False    True     True   \n",
       "2     False     False     False     False    True    False   \n",
       "3     False     False     False     False    True    False   \n",
       "4     False     False     False     False    True    False   \n",
       "5     False     False     False     False    True    False   \n",
       "6     False     False     False     False    True    False   \n",
       "7     False     False     False     False    True    False   \n",
       "8     False     False     False     False    True     True   \n",
       "9     False     False     False     False    True    False   \n",
       "\n",
       "                   lang  sentiment  word_length         0  \n",
       "0  14626626061804382878        0.0            4 -0.021038  \n",
       "1  14626626061804382878        0.0            1 -0.003446  \n",
       "2  14626626061804382878        0.0            4 -0.006778  \n",
       "3  14626626061804382878        0.0            4 -0.005069  \n",
       "4  14626626061804382878        0.0            6  0.004650  \n",
       "5  14626626061804382878        0.0            6  0.001168  \n",
       "6  14626626061804382878        0.0            4 -0.021038  \n",
       "7  14626626061804382878        0.0            9 -0.005408  \n",
       "8  14626626061804382878        0.0            3  0.011620  \n",
       "9  14626626061804382878        0.0            5 -0.015084  "
      ]
     },
     "execution_count": 3,
     "metadata": {},
     "output_type": "execute_result"
    }
   ],
   "source": [
    "%%time\n",
    "\n",
    "# Replace NaN values with a \"0\"\n",
    "\n",
    "data = data.replace(np.nan, '0', regex=True)\n",
    "\n",
    "# We drop the token, as it is no longer needed for prediction\n",
    "data.drop('Token', axis=1, inplace=True)\n",
    "data.head(10)"
   ]
  },
  {
   "cell_type": "code",
   "execution_count": 4,
   "id": "floating-aluminum",
   "metadata": {},
   "outputs": [
    {
     "name": "stdout",
     "output_type": "stream",
     "text": [
      "CPU times: user 201 ms, sys: 103 ms, total: 305 ms\n",
      "Wall time: 306 ms\n"
     ]
    }
   ],
   "source": [
    "%%time\n",
    "\n",
    "# 80% / 20% split\n",
    "# Train, Test = train_test_split(data1, test_size=0.2, shuffle=False)\n",
    "\n",
    "X = data.drop(['Label'],axis=1).values # independant features\n",
    "y = data['Label'].values # dependant variable\n",
    "\n",
    "X_train, X_test, y_train, y_test = train_test_split(X, y, test_size=0.2, shuffle=False)"
   ]
  },
  {
   "cell_type": "code",
   "execution_count": 5,
   "id": "induced-allergy",
   "metadata": {},
   "outputs": [],
   "source": [
    "# Delete data to save memory\n",
    "\n",
    "del(data)"
   ]
  },
  {
   "cell_type": "code",
   "execution_count": 6,
   "id": "champion-wrist",
   "metadata": {},
   "outputs": [
    {
     "data": {
      "text/plain": [
       "((400000, 17), (400000,))"
      ]
     },
     "execution_count": 6,
     "metadata": {},
     "output_type": "execute_result"
    }
   ],
   "source": [
    "X_train.shape, y_train.shape"
   ]
  },
  {
   "cell_type": "code",
   "execution_count": 7,
   "id": "ranging-cartoon",
   "metadata": {},
   "outputs": [
    {
     "data": {
      "text/plain": [
       "((100000, 17), (100000,))"
      ]
     },
     "execution_count": 7,
     "metadata": {},
     "output_type": "execute_result"
    }
   ],
   "source": [
    "X_test.shape, y_test.shape"
   ]
  },
  {
   "cell_type": "code",
   "execution_count": 8,
   "id": "persistent-cincinnati",
   "metadata": {},
   "outputs": [
    {
     "name": "stdout",
     "output_type": "stream",
     "text": [
      "CPU times: user 4 µs, sys: 9 µs, total: 13 µs\n",
      "Wall time: 23.4 µs\n"
     ]
    }
   ],
   "source": [
    "%%time\n",
    "\n",
    "max_iterations = 1000000000\n",
    "\n",
    "classifier = []\n",
    "accuracy = []\n",
    "precision = []\n",
    "recall = []\n",
    "f1 = []"
   ]
  },
  {
   "cell_type": "code",
   "execution_count": 10,
   "id": "9dee7068-0f0a-4b42-8d7c-c4f87561bd37",
   "metadata": {},
   "outputs": [
    {
     "name": "stdout",
     "output_type": "stream",
     "text": [
      "CPU times: user 213 ms, sys: 12.8 ms, total: 226 ms\n",
      "Wall time: 225 ms\n"
     ]
    },
    {
     "data": {
      "text/plain": [
       "DummyClassifier(strategy='uniform')"
      ]
     },
     "execution_count": 10,
     "metadata": {},
     "output_type": "execute_result"
    }
   ],
   "source": [
    "%%time\n",
    "# Baseline\n",
    "\n",
    "clf = DummyClassifier(strategy=\"uniform\", random_state=seed)\n",
    "\n",
    "\n",
    "# Model fit\n",
    "clf.fit(X_train, y_train)"
   ]
  },
  {
   "cell_type": "code",
   "execution_count": 11,
   "id": "bae9837b-2752-43b6-b0a2-7070e55216c2",
   "metadata": {},
   "outputs": [],
   "source": [
    "# Optionally the data can be saved to create a checkpoint - Baseline\n",
    "\n",
    "import pickle\n",
    "\n",
    "f = open('flair_baseline.pckl', 'wb')\n",
    "pickle.dump(clf, f)\n",
    "f.close()\n",
    "\n",
    "f = open('flair_baseline.pckl', 'rb')\n",
    "clf = pickle.load(f)\n",
    "f.close()"
   ]
  },
  {
   "cell_type": "code",
   "execution_count": 12,
   "id": "d35ad413-3e48-4798-a685-7c6d08627458",
   "metadata": {},
   "outputs": [
    {
     "name": "stdout",
     "output_type": "stream",
     "text": [
      "Accuracy: 0.16662\n",
      "Precision: 0.16669788143411368\n",
      "Recall: 0.16315833387324433\n",
      "F1_score: 0.05833372562723548\n"
     ]
    },
    {
     "data": {
      "image/png": "[encoded data removed]",
      "text/plain": [
       "<Figure size 432x288 with 2 Axes>"
      ]
     },
     "metadata": {
      "needs_background": "light"
     },
     "output_type": "display_data"
    },
    {
     "name": "stdout",
     "output_type": "stream",
     "text": [
      "                                 precision    recall  f1-score   support\n",
      "\n",
      "Demographic and Racial language       0.00      0.15      0.00        62\n",
      "             Exclusive language       0.00      0.13      0.00       160\n",
      "           Feminine-coded words       0.02      0.18      0.03      1656\n",
      "        LGBTQ-coloured language       0.00      0.20      0.00         5\n",
      "          Masculine-coded words       0.02      0.15      0.03      1758\n",
      "                              O       0.96      0.17      0.28     96359\n",
      "\n",
      "                       accuracy                           0.17    100000\n",
      "                      macro avg       0.17      0.16      0.06    100000\n",
      "                   weighted avg       0.93      0.17      0.27    100000\n",
      "\n"
     ]
    }
   ],
   "source": [
    "# Evaluation Baseline\n",
    "\n",
    "y_pred = clf.predict(X_test)\n",
    "\n",
    "print(\"Accuracy:\", accuracy_score(y_test, y_pred))\n",
    "print(\"Precision:\", precision_score(y_test, y_pred, average='macro',zero_division=0))\n",
    "print(\"Recall:\", recall_score(y_test, y_pred, average='macro'))\n",
    "print(\"F1_score:\", f1_score(y_test, y_pred, average='macro'))\n",
    "\n",
    "classifier.append(\"Baseline\")\n",
    "accuracy.append(accuracy_score(y_test, y_pred))\n",
    "precision.append(precision_score(y_test, y_pred, average='macro',zero_division=0))\n",
    "recall.append(recall_score(y_test, y_pred, average='macro'))\n",
    "f1.append(f1_score(y_test, y_pred, average='macro'))\n",
    "\n",
    "plot_confusion_matrix(clf, X_test, y_test, xticks_rotation='vertical')\n",
    "plt.show()\n",
    "\n",
    "print(classification_report(y_test,y_pred))"
   ]
  },
  {
   "cell_type": "code",
   "execution_count": 13,
   "id": "4f8ed4fe-d9bf-470b-a6f3-d1c07fca79a1",
   "metadata": {},
   "outputs": [
    {
     "name": "stdout",
     "output_type": "stream",
     "text": [
      "CPU times: user 5 µs, sys: 6 µs, total: 11 µs\n",
      "Wall time: 20 µs\n"
     ]
    }
   ],
   "source": [
    "%%time\n",
    "\n",
    "# Find optimal SVM parameters\n",
    "\n",
    "# from sklearn import svm\n",
    "# from sklearn.model_selection import GridSearchCV\n",
    "\n",
    "# Cs = [0.001, 0.01, 0.1, 1, 10]\n",
    "# gammas = [0.001, 0.01, 0.1, 1]\n",
    "# param_grid = {'C': Cs, 'gamma' : gammas, 'kernel': ('linear', 'rbf', 'poly', 'sigmoid')}\n",
    "# grid_search = GridSearchCV(svm.SVC(random_state=seed), param_grid, cv=10, n_jobs=-1)\n",
    "# grid_search.fit(X_train, y_train)\n",
    "# grid_search.best_params_\n",
    "\n",
    "# print(grid_search.best_params_)"
   ]
  },
  {
   "cell_type": "code",
   "execution_count": null,
   "id": "young-pavilion",
   "metadata": {},
   "outputs": [],
   "source": [
    "%%time\n",
    "# Support Vector Machine\n",
    "# best: {'C': 10, 'gamma': 1, 'kernel': 'rbf'}\n",
    "\n",
    "scoring = ['precision_macro', 'recall_macro', \"f1_macro\"]\n",
    "clf = svm.SVC(kernel='rbf', random_state=seed, max_iter=max_iterations, C=10, gamma=1, probability=True)\n",
    "# scores_SVM = cross_validate(clf, X_train, y_train, scoring = scoring, cv=10, n_jobs=-1)\n",
    "# SVM_avg_precision = mean(scores_SVM['test_precision_macro'])\n",
    "# SVM_avg_recall = mean(scores_SVM['test_recall_macro'])\n",
    "# SVM_avg_f1 = mean(scores_SVM['test_f1_macro'])\n",
    "\n",
    "# print(SVM_avg_precision)\n",
    "# print(SVM_avg_recall)\n",
    "# print(SVM_avg_f1)\n",
    "\n",
    "# Model fit\n",
    "clf.fit(X_train, y_train)"
   ]
  },
  {
   "cell_type": "code",
   "execution_count": null,
   "id": "baking-lightweight",
   "metadata": {},
   "outputs": [],
   "source": [
    "# Optionally the data can be saved to create a checkpoint - SVM\n",
    "\n",
    "import pickle\n",
    "\n",
    "f = open('flair_svm_prob.pckl', 'wb')\n",
    "pickle.dump(clf, f)\n",
    "f.close()\n",
    "\n",
    "# f = open('flair_svm.pckl', 'rb')\n",
    "# clf = pickle.load(f)\n",
    "# f.close()"
   ]
  },
  {
   "cell_type": "code",
   "execution_count": 16,
   "id": "intimate-polyester",
   "metadata": {},
   "outputs": [
    {
     "name": "stdout",
     "output_type": "stream",
     "text": [
      "Accuracy: 0.08633\n",
      "Precision: 0.16650046087334688\n",
      "Recall: 0.16292520726164653\n",
      "F1_score: 0.035810183636352626\n"
     ]
    },
    {
     "data": {
      "image/png": "[encoded data removed]",
      "text/plain": [
       "<Figure size 432x288 with 2 Axes>"
      ]
     },
     "metadata": {
      "needs_background": "light"
     },
     "output_type": "display_data"
    },
    {
     "name": "stdout",
     "output_type": "stream",
     "text": [
      "                                 precision    recall  f1-score   support\n",
      "\n",
      "Demographic and Racial language       0.00      0.29      0.00        62\n",
      "             Exclusive language       0.00      0.16      0.00       160\n",
      "           Feminine-coded words       0.02      0.19      0.03      1656\n",
      "        LGBTQ-coloured language       0.00      0.20      0.00         5\n",
      "          Masculine-coded words       0.01      0.05      0.02      1758\n",
      "                              O       0.96      0.08      0.16     96359\n",
      "\n",
      "                       accuracy                           0.09    100000\n",
      "                      macro avg       0.17      0.16      0.04    100000\n",
      "                   weighted avg       0.93      0.09      0.15    100000\n",
      "\n"
     ]
    }
   ],
   "source": [
    "# Evaluation Support Vector Machine\n",
    "\n",
    "y_pred = clf.predict(X_test)\n",
    "\n",
    "print(\"Accuracy:\", accuracy_score(y_test, y_pred))\n",
    "print(\"Precision:\", precision_score(y_test, y_pred, average='macro',zero_division=0))\n",
    "print(\"Recall:\", recall_score(y_test, y_pred, average='macro'))\n",
    "print(\"F1_score:\", f1_score(y_test, y_pred, average='macro'))\n",
    "\n",
    "classifier.append(\"SVM\")\n",
    "accuracy.append(accuracy_score(y_test, y_pred))\n",
    "precision.append(precision_score(y_test, y_pred, average='macro',zero_division=0))\n",
    "recall.append(recall_score(y_test, y_pred, average='macro'))\n",
    "f1.append(f1_score(y_test, y_pred, average='macro'))\n",
    "\n",
    "plot_confusion_matrix(clf, X_test, y_test, xticks_rotation='vertical')\n",
    "plt.show()\n",
    "\n",
    "print(classification_report(y_test,y_pred))"
   ]
  },
  {
   "cell_type": "code",
   "execution_count": 17,
   "id": "98362cd1-1ab6-4068-8844-8613106bb9f0",
   "metadata": {},
   "outputs": [
    {
     "name": "stdout",
     "output_type": "stream",
     "text": [
      "CPU times: user 3 µs, sys: 0 ns, total: 3 µs\n",
      "Wall time: 5.48 µs\n"
     ]
    }
   ],
   "source": [
    "%%time\n",
    "\n",
    "# Find optimal Logistic Regression settings\n",
    "\n",
    "# from sklearn import svm\n",
    "# from sklearn.model_selection import GridSearchCV\n",
    "\n",
    "# Cs = [0.001, 0.01, 0.1, 1, 10]\n",
    "# penaltys = ['l1', 'l2', 'elasticnet']\n",
    "# param_grid = {'C': Cs, 'penalty' : penaltys, 'solver': ('newton-cg', 'lbfgs', 'liblinear', 'sag', 'saga')}\n",
    "# grid_search = GridSearchCV(LogisticRegression(random_state=seed), param_grid, cv=10, n_jobs=-1)\n",
    "# grid_search.fit(X_train, y_train)\n",
    "# grid_search.best_params_\n",
    "\n",
    "# print(grid_search.best_params_)"
   ]
  },
  {
   "cell_type": "code",
   "execution_count": 18,
   "id": "russian-jaguar",
   "metadata": {},
   "outputs": [
    {
     "name": "stderr",
     "output_type": "stream",
     "text": [
      "/opt/conda/lib/python3.9/site-packages/scipy/optimize/linesearch.py:437: LineSearchWarning: Rounding errors prevent the line search from converging\n",
      "  warn(msg, LineSearchWarning)\n",
      "/opt/conda/lib/python3.9/site-packages/scipy/optimize/linesearch.py:327: LineSearchWarning: The line search algorithm did not converge\n",
      "  warn('The line search algorithm did not converge', LineSearchWarning)\n",
      "/opt/conda/lib/python3.9/site-packages/sklearn/utils/optimize.py:195: UserWarning: Line Search failed\n",
      "  warnings.warn('Line Search failed')\n",
      "/opt/conda/lib/python3.9/site-packages/sklearn/metrics/_classification.py:1248: UndefinedMetricWarning: Precision is ill-defined and being set to 0.0 in labels with no predicted samples. Use `zero_division` parameter to control this behavior.\n",
      "  _warn_prf(average, modifier, msg_start, len(result))\n",
      "/opt/conda/lib/python3.9/site-packages/scipy/optimize/linesearch.py:327: LineSearchWarning: The line search algorithm did not converge\n",
      "  warn('The line search algorithm did not converge', LineSearchWarning)\n",
      "/opt/conda/lib/python3.9/site-packages/sklearn/utils/optimize.py:195: UserWarning: Line Search failed\n",
      "  warnings.warn('Line Search failed')\n",
      "/opt/conda/lib/python3.9/site-packages/sklearn/metrics/_classification.py:1248: UndefinedMetricWarning: Precision is ill-defined and being set to 0.0 in labels with no predicted samples. Use `zero_division` parameter to control this behavior.\n",
      "  _warn_prf(average, modifier, msg_start, len(result))\n",
      "/opt/conda/lib/python3.9/site-packages/scipy/optimize/linesearch.py:437: LineSearchWarning: Rounding errors prevent the line search from converging\n",
      "  warn(msg, LineSearchWarning)\n",
      "/opt/conda/lib/python3.9/site-packages/scipy/optimize/linesearch.py:327: LineSearchWarning: The line search algorithm did not converge\n",
      "  warn('The line search algorithm did not converge', LineSearchWarning)\n",
      "/opt/conda/lib/python3.9/site-packages/sklearn/utils/optimize.py:195: UserWarning: Line Search failed\n",
      "  warnings.warn('Line Search failed')\n",
      "/opt/conda/lib/python3.9/site-packages/sklearn/metrics/_classification.py:1248: UndefinedMetricWarning: Precision is ill-defined and being set to 0.0 in labels with no predicted samples. Use `zero_division` parameter to control this behavior.\n",
      "  _warn_prf(average, modifier, msg_start, len(result))\n",
      "/opt/conda/lib/python3.9/site-packages/scipy/optimize/linesearch.py:437: LineSearchWarning: Rounding errors prevent the line search from converging\n",
      "  warn(msg, LineSearchWarning)\n",
      "/opt/conda/lib/python3.9/site-packages/scipy/optimize/linesearch.py:327: LineSearchWarning: The line search algorithm did not converge\n",
      "  warn('The line search algorithm did not converge', LineSearchWarning)\n",
      "/opt/conda/lib/python3.9/site-packages/sklearn/utils/optimize.py:195: UserWarning: Line Search failed\n",
      "  warnings.warn('Line Search failed')\n",
      "/opt/conda/lib/python3.9/site-packages/sklearn/metrics/_classification.py:1248: UndefinedMetricWarning: Precision is ill-defined and being set to 0.0 in labels with no predicted samples. Use `zero_division` parameter to control this behavior.\n",
      "  _warn_prf(average, modifier, msg_start, len(result))\n",
      "/opt/conda/lib/python3.9/site-packages/scipy/optimize/linesearch.py:327: LineSearchWarning: The line search algorithm did not converge\n",
      "  warn('The line search algorithm did not converge', LineSearchWarning)\n",
      "/opt/conda/lib/python3.9/site-packages/sklearn/utils/optimize.py:195: UserWarning: Line Search failed\n",
      "  warnings.warn('Line Search failed')\n",
      "/opt/conda/lib/python3.9/site-packages/sklearn/metrics/_classification.py:1248: UndefinedMetricWarning: Precision is ill-defined and being set to 0.0 in labels with no predicted samples. Use `zero_division` parameter to control this behavior.\n",
      "  _warn_prf(average, modifier, msg_start, len(result))\n",
      "/opt/conda/lib/python3.9/site-packages/scipy/optimize/linesearch.py:327: LineSearchWarning: The line search algorithm did not converge\n",
      "  warn('The line search algorithm did not converge', LineSearchWarning)\n",
      "/opt/conda/lib/python3.9/site-packages/sklearn/utils/optimize.py:195: UserWarning: Line Search failed\n",
      "  warnings.warn('Line Search failed')\n",
      "/opt/conda/lib/python3.9/site-packages/scipy/optimize/linesearch.py:437: LineSearchWarning: Rounding errors prevent the line search from converging\n",
      "  warn(msg, LineSearchWarning)\n",
      "/opt/conda/lib/python3.9/site-packages/scipy/optimize/linesearch.py:327: LineSearchWarning: The line search algorithm did not converge\n",
      "  warn('The line search algorithm did not converge', LineSearchWarning)\n",
      "/opt/conda/lib/python3.9/site-packages/sklearn/utils/optimize.py:195: UserWarning: Line Search failed\n",
      "  warnings.warn('Line Search failed')\n",
      "/opt/conda/lib/python3.9/site-packages/sklearn/metrics/_classification.py:1248: UndefinedMetricWarning: Precision is ill-defined and being set to 0.0 in labels with no predicted samples. Use `zero_division` parameter to control this behavior.\n",
      "  _warn_prf(average, modifier, msg_start, len(result))\n",
      "/opt/conda/lib/python3.9/site-packages/sklearn/metrics/_classification.py:1248: UndefinedMetricWarning: Precision is ill-defined and being set to 0.0 in labels with no predicted samples. Use `zero_division` parameter to control this behavior.\n",
      "  _warn_prf(average, modifier, msg_start, len(result))\n",
      "/opt/conda/lib/python3.9/site-packages/scipy/optimize/linesearch.py:437: LineSearchWarning: Rounding errors prevent the line search from converging\n",
      "  warn(msg, LineSearchWarning)\n",
      "/opt/conda/lib/python3.9/site-packages/scipy/optimize/linesearch.py:327: LineSearchWarning: The line search algorithm did not converge\n",
      "  warn('The line search algorithm did not converge', LineSearchWarning)\n",
      "/opt/conda/lib/python3.9/site-packages/sklearn/utils/optimize.py:195: UserWarning: Line Search failed\n",
      "  warnings.warn('Line Search failed')\n",
      "/opt/conda/lib/python3.9/site-packages/sklearn/metrics/_classification.py:1248: UndefinedMetricWarning: Precision is ill-defined and being set to 0.0 in labels with no predicted samples. Use `zero_division` parameter to control this behavior.\n",
      "  _warn_prf(average, modifier, msg_start, len(result))\n",
      "/opt/conda/lib/python3.9/site-packages/scipy/optimize/linesearch.py:327: LineSearchWarning: The line search algorithm did not converge\n",
      "  warn('The line search algorithm did not converge', LineSearchWarning)\n",
      "/opt/conda/lib/python3.9/site-packages/sklearn/utils/optimize.py:195: UserWarning: Line Search failed\n",
      "  warnings.warn('Line Search failed')\n",
      "/opt/conda/lib/python3.9/site-packages/sklearn/metrics/_classification.py:1248: UndefinedMetricWarning: Precision is ill-defined and being set to 0.0 in labels with no predicted samples. Use `zero_division` parameter to control this behavior.\n",
      "  _warn_prf(average, modifier, msg_start, len(result))\n",
      "/opt/conda/lib/python3.9/site-packages/scipy/optimize/linesearch.py:327: LineSearchWarning: The line search algorithm did not converge\n",
      "  warn('The line search algorithm did not converge', LineSearchWarning)\n",
      "/opt/conda/lib/python3.9/site-packages/sklearn/utils/optimize.py:195: UserWarning: Line Search failed\n",
      "  warnings.warn('Line Search failed')\n",
      "/opt/conda/lib/python3.9/site-packages/sklearn/metrics/_classification.py:1248: UndefinedMetricWarning: Precision is ill-defined and being set to 0.0 in labels with no predicted samples. Use `zero_division` parameter to control this behavior.\n",
      "  _warn_prf(average, modifier, msg_start, len(result))\n"
     ]
    },
    {
     "name": "stdout",
     "output_type": "stream",
     "text": [
      "0.16036208333333332\n",
      "0.16666666666666666\n",
      "0.16345360393227235\n",
      "CPU times: user 8min 56s, sys: 40min 55s, total: 49min 52s\n",
      "Wall time: 2min 17s\n"
     ]
    },
    {
     "name": "stderr",
     "output_type": "stream",
     "text": [
      "/opt/conda/lib/python3.9/site-packages/scipy/optimize/linesearch.py:327: LineSearchWarning: The line search algorithm did not converge\n",
      "  warn('The line search algorithm did not converge', LineSearchWarning)\n",
      "/opt/conda/lib/python3.9/site-packages/sklearn/utils/optimize.py:195: UserWarning: Line Search failed\n",
      "  warnings.warn('Line Search failed')\n"
     ]
    },
    {
     "data": {
      "text/plain": [
       "LogisticRegression(max_iter=1000000000, solver='newton-cg')"
      ]
     },
     "execution_count": 18,
     "metadata": {},
     "output_type": "execute_result"
    }
   ],
   "source": [
    "%%time\n",
    "\n",
    "# Logistic Regression\n",
    "\n",
    "scoring = ['precision_macro', 'recall_macro', \"f1_macro\"]\n",
    "clf = LogisticRegression(solver='newton-cg', random_state=seed, max_iter=max_iterations)\n",
    "scores_LR = cross_validate(clf, X_train, y_train, scoring = scoring, cv=10, n_jobs=-1)\n",
    "LR_avg_precision = mean(scores_LR['test_precision_macro'])\n",
    "LR_avg_recall = mean(scores_LR['test_recall_macro'])\n",
    "LR_avg_f1 = mean(scores_LR['test_f1_macro'])\n",
    "\n",
    "print(LR_avg_precision)\n",
    "print(LR_avg_recall)\n",
    "print(LR_avg_f1)\n",
    "\n",
    "# Model fit\n",
    "clf.fit(X_train, y_train)"
   ]
  },
  {
   "cell_type": "code",
   "execution_count": 19,
   "id": "391c7000-3aa1-4cd3-b4d7-406d92ed0cce",
   "metadata": {},
   "outputs": [],
   "source": [
    "# Optionally the data can be saved to create a checkpoint - LR\n",
    "\n",
    "import pickle\n",
    "\n",
    "f = open('flair_lr.pckl', 'wb')\n",
    "pickle.dump(clf, f)\n",
    "f.close()\n",
    "\n",
    "f = open('flair_lr.pckl', 'rb')\n",
    "clf = pickle.load(f)\n",
    "f.close()"
   ]
  },
  {
   "cell_type": "code",
   "execution_count": 20,
   "id": "medium-tribute",
   "metadata": {},
   "outputs": [
    {
     "name": "stdout",
     "output_type": "stream",
     "text": [
      "Accuracy: 0.96359\n",
      "Precision: 0.16059833333333332\n",
      "Recall: 0.16666666666666666\n",
      "F1_score: 0.1635762387599584\n"
     ]
    },
    {
     "data": {
      "image/png": "[encoded data removed]",
      "text/plain": [
       "<Figure size 432x288 with 2 Axes>"
      ]
     },
     "metadata": {
      "needs_background": "light"
     },
     "output_type": "display_data"
    },
    {
     "name": "stderr",
     "output_type": "stream",
     "text": [
      "/opt/conda/lib/python3.9/site-packages/sklearn/metrics/_classification.py:1248: UndefinedMetricWarning: Precision and F-score are ill-defined and being set to 0.0 in labels with no predicted samples. Use `zero_division` parameter to control this behavior.\n",
      "  _warn_prf(average, modifier, msg_start, len(result))\n",
      "/opt/conda/lib/python3.9/site-packages/sklearn/metrics/_classification.py:1248: UndefinedMetricWarning: Precision and F-score are ill-defined and being set to 0.0 in labels with no predicted samples. Use `zero_division` parameter to control this behavior.\n",
      "  _warn_prf(average, modifier, msg_start, len(result))\n"
     ]
    },
    {
     "name": "stdout",
     "output_type": "stream",
     "text": [
      "                                 precision    recall  f1-score   support\n",
      "\n",
      "Demographic and Racial language       0.00      0.00      0.00        62\n",
      "             Exclusive language       0.00      0.00      0.00       160\n",
      "           Feminine-coded words       0.00      0.00      0.00      1656\n",
      "        LGBTQ-coloured language       0.00      0.00      0.00         5\n",
      "          Masculine-coded words       0.00      0.00      0.00      1758\n",
      "                              O       0.96      1.00      0.98     96359\n",
      "\n",
      "                       accuracy                           0.96    100000\n",
      "                      macro avg       0.16      0.17      0.16    100000\n",
      "                   weighted avg       0.93      0.96      0.95    100000\n",
      "\n"
     ]
    },
    {
     "name": "stderr",
     "output_type": "stream",
     "text": [
      "/opt/conda/lib/python3.9/site-packages/sklearn/metrics/_classification.py:1248: UndefinedMetricWarning: Precision and F-score are ill-defined and being set to 0.0 in labels with no predicted samples. Use `zero_division` parameter to control this behavior.\n",
      "  _warn_prf(average, modifier, msg_start, len(result))\n"
     ]
    }
   ],
   "source": [
    "# Evaluation Logistic Regression\n",
    "\n",
    "y_pred = clf.predict(X_test)\n",
    "\n",
    "print(\"Accuracy:\", accuracy_score(y_test, y_pred))\n",
    "print(\"Precision:\", precision_score(y_test, y_pred, average='macro',zero_division=0))\n",
    "print(\"Recall:\", recall_score(y_test, y_pred, average='macro'))\n",
    "print(\"F1_score:\", f1_score(y_test, y_pred, average='macro'))\n",
    "\n",
    "classifier.append(\"LR\")\n",
    "accuracy.append(accuracy_score(y_test, y_pred))\n",
    "precision.append(precision_score(y_test, y_pred, average='macro',zero_division=0))\n",
    "recall.append(recall_score(y_test, y_pred, average='macro'))\n",
    "f1.append(f1_score(y_test, y_pred, average='macro'))\n",
    "\n",
    "plot_confusion_matrix(clf, X_test, y_test, xticks_rotation='vertical')\n",
    "plt.show()\n",
    "\n",
    "print(classification_report(y_test,y_pred))"
   ]
  },
  {
   "cell_type": "code",
   "execution_count": 21,
   "id": "functional-location",
   "metadata": {},
   "outputs": [
    {
     "name": "stdout",
     "output_type": "stream",
     "text": [
      "0.9425995514604015\n",
      "0.9666969996978505\n",
      "0.949021289561353\n",
      "CPU times: user 5.43 s, sys: 555 ms, total: 5.99 s\n",
      "Wall time: 10.2 s\n"
     ]
    },
    {
     "data": {
      "text/plain": [
       "DecisionTreeClassifier()"
      ]
     },
     "execution_count": 21,
     "metadata": {},
     "output_type": "execute_result"
    }
   ],
   "source": [
    "%%time\n",
    "\n",
    "# Decision Tree\n",
    "\n",
    "# Cross validation\n",
    "scoring = ['precision_macro', 'recall_macro', \"f1_macro\"]\n",
    "clf = DecisionTreeClassifier(random_state=seed)\n",
    "scores_DT = cross_validate(clf, X_train, y_train, scoring = scoring, cv=10, n_jobs=-1)\n",
    "DT_avg_precision = mean(scores_DT['test_precision_macro'])\n",
    "DT_avg_recall = mean(scores_DT['test_recall_macro'])\n",
    "DT_avg_f1 = mean(scores_DT['test_f1_macro'])\n",
    "\n",
    "print(DT_avg_precision)\n",
    "print(DT_avg_recall)\n",
    "print(DT_avg_f1)\n",
    "\n",
    "# Model fit\n",
    "clf.fit(X_train, y_train)"
   ]
  },
  {
   "cell_type": "code",
   "execution_count": 22,
   "id": "1f777e8e-085c-4c5d-85a6-1acb6606796a",
   "metadata": {},
   "outputs": [],
   "source": [
    "# Optionally the data can be saved to create a checkpoint - DT\n",
    "\n",
    "import pickle\n",
    "\n",
    "f = open('flair_dt.pckl', 'wb')\n",
    "pickle.dump(clf, f)\n",
    "f.close()\n",
    "\n",
    "f = open('flair_dt.pckl', 'rb')\n",
    "clf = pickle.load(f)\n",
    "f.close()"
   ]
  },
  {
   "cell_type": "code",
   "execution_count": 23,
   "id": "attractive-waterproof",
   "metadata": {},
   "outputs": [
    {
     "name": "stdout",
     "output_type": "stream",
     "text": [
      "Accuracy: 0.99929\n",
      "Precision: 0.9353718721780431\n",
      "Recall: 0.9180584379426318\n",
      "F1_score: 0.9252800727843725\n"
     ]
    },
    {
     "data": {
      "image/png": "[encoded data removed]",
      "text/plain": [
       "<Figure size 432x288 with 2 Axes>"
      ]
     },
     "metadata": {
      "needs_background": "light"
     },
     "output_type": "display_data"
    },
    {
     "name": "stdout",
     "output_type": "stream",
     "text": [
      "                                 precision    recall  f1-score   support\n",
      "\n",
      "Demographic and Racial language       0.92      0.95      0.94        62\n",
      "             Exclusive language       0.96      0.97      0.96       160\n",
      "           Feminine-coded words       1.00      1.00      1.00      1656\n",
      "        LGBTQ-coloured language       0.75      0.60      0.67         5\n",
      "          Masculine-coded words       0.99      0.99      0.99      1758\n",
      "                              O       1.00      1.00      1.00     96359\n",
      "\n",
      "                       accuracy                           1.00    100000\n",
      "                      macro avg       0.94      0.92      0.93    100000\n",
      "                   weighted avg       1.00      1.00      1.00    100000\n",
      "\n"
     ]
    }
   ],
   "source": [
    "# Evaluation Decision Tree\n",
    "\n",
    "y_pred = clf.predict(X_test)\n",
    "\n",
    "print(\"Accuracy:\", accuracy_score(y_test, y_pred))\n",
    "print(\"Precision:\", precision_score(y_test, y_pred, average='macro',zero_division=0))\n",
    "print(\"Recall:\", recall_score(y_test, y_pred, average='macro'))\n",
    "print(\"F1_score:\", f1_score(y_test, y_pred, average='macro'))\n",
    "\n",
    "classifier.append(\"DT\")\n",
    "accuracy.append(accuracy_score(y_test, y_pred))\n",
    "precision.append(precision_score(y_test, y_pred, average='macro',zero_division=0))\n",
    "recall.append(recall_score(y_test, y_pred, average='macro'))\n",
    "f1.append(f1_score(y_test, y_pred, average='macro'))\n",
    "\n",
    "plot_confusion_matrix(clf, X_test, y_test, xticks_rotation='vertical')\n",
    "plt.show()\n",
    "\n",
    "print(classification_report(y_test,y_pred))"
   ]
  },
  {
   "cell_type": "code",
   "execution_count": 24,
   "id": "floppy-weather",
   "metadata": {},
   "outputs": [
    {
     "name": "stderr",
     "output_type": "stream",
     "text": [
      "/opt/conda/lib/python3.9/site-packages/sklearn/metrics/_classification.py:1248: UndefinedMetricWarning: Precision is ill-defined and being set to 0.0 in labels with no predicted samples. Use `zero_division` parameter to control this behavior.\n",
      "  _warn_prf(average, modifier, msg_start, len(result))\n",
      "/opt/conda/lib/python3.9/site-packages/sklearn/metrics/_classification.py:1248: UndefinedMetricWarning: Precision is ill-defined and being set to 0.0 in labels with no predicted samples. Use `zero_division` parameter to control this behavior.\n",
      "  _warn_prf(average, modifier, msg_start, len(result))\n",
      "/opt/conda/lib/python3.9/site-packages/sklearn/metrics/_classification.py:1248: UndefinedMetricWarning: Precision is ill-defined and being set to 0.0 in labels with no predicted samples. Use `zero_division` parameter to control this behavior.\n",
      "  _warn_prf(average, modifier, msg_start, len(result))\n"
     ]
    },
    {
     "name": "stdout",
     "output_type": "stream",
     "text": [
      "0.7222352259649332\n",
      "0.6572681201404135\n",
      "0.6805292998606396\n",
      "CPU times: user 1min 7s, sys: 551 ms, total: 1min 8s\n",
      "Wall time: 2min 10s\n"
     ]
    },
    {
     "data": {
      "text/plain": [
       "RandomForestClassifier()"
      ]
     },
     "execution_count": 24,
     "metadata": {},
     "output_type": "execute_result"
    }
   ],
   "source": [
    "%%time\n",
    "\n",
    "# Random Forest\n",
    "\n",
    "scoring = ['precision_macro', 'recall_macro', \"f1_macro\"]\n",
    "clf = RandomForestClassifier(random_state=seed)\n",
    "scores_RF = cross_validate(clf, X_train, y_train, scoring = scoring, cv=10, n_jobs=-1)\n",
    "RF_avg_precision = mean(scores_RF['test_precision_macro'])\n",
    "RF_avg_recall = mean(scores_RF['test_recall_macro'])\n",
    "RF_avg_f1 = mean(scores_RF['test_f1_macro'])\n",
    "\n",
    "print(RF_avg_precision)\n",
    "print(RF_avg_recall)\n",
    "print(RF_avg_f1)\n",
    "\n",
    "# Model fit\n",
    "clf.fit(X_train, y_train)"
   ]
  },
  {
   "cell_type": "code",
   "execution_count": 25,
   "id": "9ed1bbc0-f0fc-4a6f-9ed0-d480f339358f",
   "metadata": {},
   "outputs": [],
   "source": [
    "# Optionally the data can be saved to create a checkpoint - RF\n",
    "\n",
    "import pickle\n",
    "\n",
    "f = open('flair_rf.pckl', 'wb')\n",
    "pickle.dump(clf, f)\n",
    "f.close()\n",
    "\n",
    "f = open('flair_rf.pckl', 'rb')\n",
    "clf = pickle.load(f)\n",
    "f.close()"
   ]
  },
  {
   "cell_type": "code",
   "execution_count": 26,
   "id": "british-theorem",
   "metadata": {},
   "outputs": [
    {
     "name": "stdout",
     "output_type": "stream",
     "text": [
      "Accuracy: 0.98897\n",
      "Precision: 0.7068649972957094\n",
      "Recall: 0.6629968447188798\n",
      "F1_score: 0.6833232016670893\n"
     ]
    },
    {
     "data": {
      "image/png": "[encoded data removed]",
      "text/plain": [
       "<Figure size 432x288 with 2 Axes>"
      ]
     },
     "metadata": {
      "needs_background": "light"
     },
     "output_type": "display_data"
    },
    {
     "name": "stdout",
     "output_type": "stream",
     "text": [
      "                                 precision    recall  f1-score   support\n",
      "\n",
      "Demographic and Racial language       0.56      0.50      0.53        62\n",
      "             Exclusive language       0.73      0.59      0.66       160\n",
      "           Feminine-coded words       0.92      0.88      0.90      1656\n",
      "        LGBTQ-coloured language       0.20      0.20      0.20         5\n",
      "          Masculine-coded words       0.83      0.81      0.82      1758\n",
      "                              O       0.99      1.00      0.99     96359\n",
      "\n",
      "                       accuracy                           0.99    100000\n",
      "                      macro avg       0.71      0.66      0.68    100000\n",
      "                   weighted avg       0.99      0.99      0.99    100000\n",
      "\n"
     ]
    }
   ],
   "source": [
    "# Evaluation Random Forest\n",
    "\n",
    "y_pred = clf.predict(X_test)\n",
    "\n",
    "print(\"Accuracy:\", accuracy_score(y_test, y_pred))\n",
    "print(\"Precision:\", precision_score(y_test, y_pred, average='macro',zero_division=0))\n",
    "print(\"Recall:\", recall_score(y_test, y_pred, average='macro'))\n",
    "print(\"F1_score:\", f1_score(y_test, y_pred, average='macro'))\n",
    "\n",
    "classifier.append(\"RF\")\n",
    "accuracy.append(accuracy_score(y_test, y_pred))\n",
    "precision.append(precision_score(y_test, y_pred, average='macro',zero_division=0))\n",
    "recall.append(recall_score(y_test, y_pred, average='macro'))\n",
    "f1.append(f1_score(y_test, y_pred, average='macro'))\n",
    "\n",
    "plot_confusion_matrix(clf, X_test, y_test, xticks_rotation='vertical')\n",
    "plt.show()\n",
    "\n",
    "print(classification_report(y_test,y_pred))"
   ]
  },
  {
   "cell_type": "code",
   "execution_count": 27,
   "id": "2aac63ed-9d7b-422b-8006-a26c9bf53758",
   "metadata": {},
   "outputs": [
    {
     "name": "stdout",
     "output_type": "stream",
     "text": [
      "CPU times: user 2 µs, sys: 3 µs, total: 5 µs\n",
      "Wall time: 11.2 µs\n"
     ]
    }
   ],
   "source": [
    "%%time\n",
    "\n",
    "# Find optimal Neural network MLP settings\n",
    "\n",
    "# from sklearn import svm\n",
    "# from sklearn.model_selection import GridSearchCV\n",
    "\n",
    "# activations = ['identity', 'logistic', 'tanh', 'relu']\n",
    "# alphas = [0.0001, 0.001, 00.1, 0.1, 1]\n",
    "# param_grid = {'activation': activations, 'alpha' : alphas, 'solver': ('lbfgs', 'sgd', 'adam'), 'learning_rate': ('constant', 'invscaling', 'adaptive')}\n",
    "# grid_search = GridSearchCV(MLPClassifier(random_state=seed), param_grid, cv=10, n_jobs=-1)\n",
    "# grid_search.fit(X_train, y_train)\n",
    "# grid_search.best_params_\n",
    "\n",
    "# print(grid_search.best_params_)"
   ]
  },
  {
   "cell_type": "code",
   "execution_count": 28,
   "id": "conventional-plastic",
   "metadata": {},
   "outputs": [
    {
     "name": "stderr",
     "output_type": "stream",
     "text": [
      "/opt/conda/lib/python3.9/site-packages/sklearn/metrics/_classification.py:1248: UndefinedMetricWarning: Precision is ill-defined and being set to 0.0 in labels with no predicted samples. Use `zero_division` parameter to control this behavior.\n",
      "  _warn_prf(average, modifier, msg_start, len(result))\n",
      "/opt/conda/lib/python3.9/site-packages/sklearn/metrics/_classification.py:1248: UndefinedMetricWarning: Precision is ill-defined and being set to 0.0 in labels with no predicted samples. Use `zero_division` parameter to control this behavior.\n",
      "  _warn_prf(average, modifier, msg_start, len(result))\n",
      "/opt/conda/lib/python3.9/site-packages/sklearn/metrics/_classification.py:1248: UndefinedMetricWarning: Precision is ill-defined and being set to 0.0 in labels with no predicted samples. Use `zero_division` parameter to control this behavior.\n",
      "  _warn_prf(average, modifier, msg_start, len(result))\n",
      "/opt/conda/lib/python3.9/site-packages/sklearn/metrics/_classification.py:1248: UndefinedMetricWarning: Precision is ill-defined and being set to 0.0 in labels with no predicted samples. Use `zero_division` parameter to control this behavior.\n",
      "  _warn_prf(average, modifier, msg_start, len(result))\n",
      "/opt/conda/lib/python3.9/site-packages/sklearn/metrics/_classification.py:1248: UndefinedMetricWarning: Precision is ill-defined and being set to 0.0 in labels with no predicted samples. Use `zero_division` parameter to control this behavior.\n",
      "  _warn_prf(average, modifier, msg_start, len(result))\n",
      "/opt/conda/lib/python3.9/site-packages/sklearn/metrics/_classification.py:1248: UndefinedMetricWarning: Precision is ill-defined and being set to 0.0 in labels with no predicted samples. Use `zero_division` parameter to control this behavior.\n",
      "  _warn_prf(average, modifier, msg_start, len(result))\n",
      "/opt/conda/lib/python3.9/site-packages/sklearn/metrics/_classification.py:1248: UndefinedMetricWarning: Precision is ill-defined and being set to 0.0 in labels with no predicted samples. Use `zero_division` parameter to control this behavior.\n",
      "  _warn_prf(average, modifier, msg_start, len(result))\n",
      "/opt/conda/lib/python3.9/site-packages/sklearn/metrics/_classification.py:1248: UndefinedMetricWarning: Precision is ill-defined and being set to 0.0 in labels with no predicted samples. Use `zero_division` parameter to control this behavior.\n",
      "  _warn_prf(average, modifier, msg_start, len(result))\n",
      "/opt/conda/lib/python3.9/site-packages/sklearn/metrics/_classification.py:1248: UndefinedMetricWarning: Precision is ill-defined and being set to 0.0 in labels with no predicted samples. Use `zero_division` parameter to control this behavior.\n",
      "  _warn_prf(average, modifier, msg_start, len(result))\n",
      "/opt/conda/lib/python3.9/site-packages/sklearn/metrics/_classification.py:1248: UndefinedMetricWarning: Precision is ill-defined and being set to 0.0 in labels with no predicted samples. Use `zero_division` parameter to control this behavior.\n",
      "  _warn_prf(average, modifier, msg_start, len(result))\n"
     ]
    },
    {
     "name": "stdout",
     "output_type": "stream",
     "text": [
      "0.16036208333333332\n",
      "0.16666666666666666\n",
      "0.16345360393227235\n",
      "CPU times: user 10min 36s, sys: 34min 59s, total: 45min 36s\n",
      "Wall time: 2min 2s\n"
     ]
    },
    {
     "data": {
      "text/plain": [
       "MLPClassifier()"
      ]
     },
     "execution_count": 28,
     "metadata": {},
     "output_type": "execute_result"
    }
   ],
   "source": [
    "%%time\n",
    "\n",
    "# Neural network MLP\n",
    "\n",
    "scoring = ['precision_macro', 'recall_macro', \"f1_macro\"]\n",
    "clf = MLPClassifier(solver='adam', random_state=seed)\n",
    "scores_NN = cross_validate(clf, X_train, y_train, scoring = scoring, cv=10, n_jobs=-1)\n",
    "NN_avg_precision = mean(scores_NN['test_precision_macro'])\n",
    "NN_avg_recall = mean(scores_NN['test_recall_macro'])\n",
    "NN_avg_f1 = mean(scores_NN['test_f1_macro'])\n",
    "\n",
    "print(NN_avg_precision)\n",
    "print(NN_avg_recall)\n",
    "print(NN_avg_f1)\n",
    "\n",
    "# Model fit\n",
    "clf.fit(X_train, y_train)"
   ]
  },
  {
   "cell_type": "code",
   "execution_count": 29,
   "id": "e735aaac-d1f6-4710-bc71-66638e2e6360",
   "metadata": {},
   "outputs": [],
   "source": [
    "# Optionally the data can be saved to create a checkpoint - MLP\n",
    "\n",
    "import pickle\n",
    "\n",
    "f = open('flair_mlp.pckl', 'wb')\n",
    "pickle.dump(clf, f)\n",
    "f.close()\n",
    "\n",
    "f = open('flair_mlp.pckl', 'rb')\n",
    "clf = pickle.load(f)\n",
    "f.close()"
   ]
  },
  {
   "cell_type": "code",
   "execution_count": 30,
   "id": "trained-imagination",
   "metadata": {},
   "outputs": [
    {
     "name": "stdout",
     "output_type": "stream",
     "text": [
      "Accuracy: 0.96359\n",
      "Precision: 0.16059833333333332\n",
      "Recall: 0.16666666666666666\n",
      "F1_score: 0.1635762387599584\n"
     ]
    },
    {
     "data": {
      "image/png": "[encoded data removed]",
      "text/plain": [
       "<Figure size 432x288 with 2 Axes>"
      ]
     },
     "metadata": {
      "needs_background": "light"
     },
     "output_type": "display_data"
    },
    {
     "name": "stderr",
     "output_type": "stream",
     "text": [
      "/opt/conda/lib/python3.9/site-packages/sklearn/metrics/_classification.py:1248: UndefinedMetricWarning: Precision and F-score are ill-defined and being set to 0.0 in labels with no predicted samples. Use `zero_division` parameter to control this behavior.\n",
      "  _warn_prf(average, modifier, msg_start, len(result))\n",
      "/opt/conda/lib/python3.9/site-packages/sklearn/metrics/_classification.py:1248: UndefinedMetricWarning: Precision and F-score are ill-defined and being set to 0.0 in labels with no predicted samples. Use `zero_division` parameter to control this behavior.\n",
      "  _warn_prf(average, modifier, msg_start, len(result))\n"
     ]
    },
    {
     "name": "stdout",
     "output_type": "stream",
     "text": [
      "                                 precision    recall  f1-score   support\n",
      "\n",
      "Demographic and Racial language       0.00      0.00      0.00        62\n",
      "             Exclusive language       0.00      0.00      0.00       160\n",
      "           Feminine-coded words       0.00      0.00      0.00      1656\n",
      "        LGBTQ-coloured language       0.00      0.00      0.00         5\n",
      "          Masculine-coded words       0.00      0.00      0.00      1758\n",
      "                              O       0.96      1.00      0.98     96359\n",
      "\n",
      "                       accuracy                           0.96    100000\n",
      "                      macro avg       0.16      0.17      0.16    100000\n",
      "                   weighted avg       0.93      0.96      0.95    100000\n",
      "\n"
     ]
    },
    {
     "name": "stderr",
     "output_type": "stream",
     "text": [
      "/opt/conda/lib/python3.9/site-packages/sklearn/metrics/_classification.py:1248: UndefinedMetricWarning: Precision and F-score are ill-defined and being set to 0.0 in labels with no predicted samples. Use `zero_division` parameter to control this behavior.\n",
      "  _warn_prf(average, modifier, msg_start, len(result))\n"
     ]
    }
   ],
   "source": [
    "# Evaluation Neural network MLP\n",
    "\n",
    "y_pred = clf.predict(X_test)\n",
    "\n",
    "print(\"Accuracy:\", accuracy_score(y_test, y_pred))\n",
    "print(\"Precision:\", precision_score(y_test, y_pred, average='macro',zero_division=0))\n",
    "print(\"Recall:\", recall_score(y_test, y_pred, average='macro'))\n",
    "print(\"F1_score:\", f1_score(y_test, y_pred, average='macro'))\n",
    "\n",
    "classifier.append(\"MLP\")\n",
    "accuracy.append(accuracy_score(y_test, y_pred))\n",
    "precision.append(precision_score(y_test, y_pred, average='macro',zero_division=0))\n",
    "recall.append(recall_score(y_test, y_pred, average='macro'))\n",
    "f1.append(f1_score(y_test, y_pred, average='macro'))\n",
    "\n",
    "plot_confusion_matrix(clf, X_test, y_test, xticks_rotation='vertical')\n",
    "plt.show()\n",
    "\n",
    "print(classification_report(y_test,y_pred))"
   ]
  },
  {
   "cell_type": "code",
   "execution_count": 31,
   "id": "duplicate-beverage",
   "metadata": {},
   "outputs": [
    {
     "name": "stderr",
     "output_type": "stream",
     "text": [
      "/opt/conda/lib/python3.9/site-packages/sklearn/metrics/_classification.py:1248: UndefinedMetricWarning: Precision is ill-defined and being set to 0.0 in labels with no predicted samples. Use `zero_division` parameter to control this behavior.\n",
      "  _warn_prf(average, modifier, msg_start, len(result))\n",
      "/opt/conda/lib/python3.9/site-packages/sklearn/metrics/_classification.py:1248: UndefinedMetricWarning: Precision is ill-defined and being set to 0.0 in labels with no predicted samples. Use `zero_division` parameter to control this behavior.\n",
      "  _warn_prf(average, modifier, msg_start, len(result))\n",
      "/opt/conda/lib/python3.9/site-packages/sklearn/metrics/_classification.py:1248: UndefinedMetricWarning: Precision is ill-defined and being set to 0.0 in labels with no predicted samples. Use `zero_division` parameter to control this behavior.\n",
      "  _warn_prf(average, modifier, msg_start, len(result))\n",
      "/opt/conda/lib/python3.9/site-packages/sklearn/metrics/_classification.py:1248: UndefinedMetricWarning: Precision is ill-defined and being set to 0.0 in labels with no predicted samples. Use `zero_division` parameter to control this behavior.\n",
      "  _warn_prf(average, modifier, msg_start, len(result))\n",
      "/opt/conda/lib/python3.9/site-packages/sklearn/metrics/_classification.py:1248: UndefinedMetricWarning: Precision is ill-defined and being set to 0.0 in labels with no predicted samples. Use `zero_division` parameter to control this behavior.\n",
      "  _warn_prf(average, modifier, msg_start, len(result))\n",
      "/opt/conda/lib/python3.9/site-packages/sklearn/metrics/_classification.py:1248: UndefinedMetricWarning: Precision is ill-defined and being set to 0.0 in labels with no predicted samples. Use `zero_division` parameter to control this behavior.\n",
      "  _warn_prf(average, modifier, msg_start, len(result))\n",
      "/opt/conda/lib/python3.9/site-packages/sklearn/metrics/_classification.py:1248: UndefinedMetricWarning: Precision is ill-defined and being set to 0.0 in labels with no predicted samples. Use `zero_division` parameter to control this behavior.\n",
      "  _warn_prf(average, modifier, msg_start, len(result))\n",
      "/opt/conda/lib/python3.9/site-packages/sklearn/metrics/_classification.py:1248: UndefinedMetricWarning: Precision is ill-defined and being set to 0.0 in labels with no predicted samples. Use `zero_division` parameter to control this behavior.\n",
      "  _warn_prf(average, modifier, msg_start, len(result))\n",
      "/opt/conda/lib/python3.9/site-packages/sklearn/metrics/_classification.py:1248: UndefinedMetricWarning: Precision is ill-defined and being set to 0.0 in labels with no predicted samples. Use `zero_division` parameter to control this behavior.\n",
      "  _warn_prf(average, modifier, msg_start, len(result))\n",
      "/opt/conda/lib/python3.9/site-packages/sklearn/metrics/_classification.py:1248: UndefinedMetricWarning: Precision is ill-defined and being set to 0.0 in labels with no predicted samples. Use `zero_division` parameter to control this behavior.\n",
      "  _warn_prf(average, modifier, msg_start, len(result))\n"
     ]
    },
    {
     "name": "stdout",
     "output_type": "stream",
     "text": [
      "0.11970472004188243\n",
      "0.16667446151773477\n",
      "0.005982920730818852\n",
      "CPU times: user 3.83 s, sys: 430 ms, total: 4.26 s\n",
      "Wall time: 6.78 s\n"
     ]
    },
    {
     "data": {
      "text/plain": [
       "GaussianNB()"
      ]
     },
     "execution_count": 31,
     "metadata": {},
     "output_type": "execute_result"
    }
   ],
   "source": [
    "%%time\n",
    "\n",
    "# Naive Bayes\n",
    "\n",
    "scoring = ['precision_macro', 'recall_macro', \"f1_macro\"]\n",
    "clf = GaussianNB()\n",
    "scores_NB = cross_validate(clf, X_train, y_train, scoring = scoring, cv=10, n_jobs=-1)\n",
    "NB_avg_precision = mean(scores_NB['test_precision_macro'])\n",
    "NB_avg_recall = mean(scores_NB['test_recall_macro'])\n",
    "NB_avg_f1 = mean(scores_NB['test_f1_macro'])\n",
    "\n",
    "print(NB_avg_precision)\n",
    "print(NB_avg_recall)\n",
    "print(NB_avg_f1)\n",
    "\n",
    "# Model fit\n",
    "clf.fit(X_train, y_train)"
   ]
  },
  {
   "cell_type": "code",
   "execution_count": 32,
   "id": "59cd3ce4-7b6b-490a-9084-3c46422d434f",
   "metadata": {},
   "outputs": [],
   "source": [
    "# Optionally the data can be saved to create a checkpoint - NB\n",
    "\n",
    "import pickle\n",
    "\n",
    "f = open('flair_nb.pckl', 'wb')\n",
    "pickle.dump(clf, f)\n",
    "f.close()\n",
    "\n",
    "f = open('flair_nb.pckl', 'rb')\n",
    "clf = pickle.load(f)\n",
    "f.close()"
   ]
  },
  {
   "cell_type": "code",
   "execution_count": 33,
   "id": "realistic-principle",
   "metadata": {},
   "outputs": [
    {
     "name": "stdout",
     "output_type": "stream",
     "text": [
      "Accuracy: 0.0166\n",
      "Precision: 0.16942677707108286\n",
      "Recall: 0.16667358523853507\n",
      "F1_score: 0.005444128152409039\n"
     ]
    },
    {
     "data": {
      "image/png": "[encoded data removed]",
      "text/plain": [
       "<Figure size 432x288 with 2 Axes>"
      ]
     },
     "metadata": {
      "needs_background": "light"
     },
     "output_type": "display_data"
    },
    {
     "name": "stderr",
     "output_type": "stream",
     "text": [
      "/opt/conda/lib/python3.9/site-packages/sklearn/metrics/_classification.py:1248: UndefinedMetricWarning: Precision and F-score are ill-defined and being set to 0.0 in labels with no predicted samples. Use `zero_division` parameter to control this behavior.\n",
      "  _warn_prf(average, modifier, msg_start, len(result))\n",
      "/opt/conda/lib/python3.9/site-packages/sklearn/metrics/_classification.py:1248: UndefinedMetricWarning: Precision and F-score are ill-defined and being set to 0.0 in labels with no predicted samples. Use `zero_division` parameter to control this behavior.\n",
      "  _warn_prf(average, modifier, msg_start, len(result))\n"
     ]
    },
    {
     "name": "stdout",
     "output_type": "stream",
     "text": [
      "                                 precision    recall  f1-score   support\n",
      "\n",
      "Demographic and Racial language       0.00      0.00      0.00        62\n",
      "             Exclusive language       0.00      0.00      0.00       160\n",
      "           Feminine-coded words       0.02      1.00      0.03      1656\n",
      "        LGBTQ-coloured language       0.00      0.00      0.00         5\n",
      "          Masculine-coded words       0.00      0.00      0.00      1758\n",
      "                              O       1.00      0.00      0.00     96359\n",
      "\n",
      "                       accuracy                           0.02    100000\n",
      "                      macro avg       0.17      0.17      0.01    100000\n",
      "                   weighted avg       0.96      0.02      0.00    100000\n",
      "\n"
     ]
    },
    {
     "name": "stderr",
     "output_type": "stream",
     "text": [
      "/opt/conda/lib/python3.9/site-packages/sklearn/metrics/_classification.py:1248: UndefinedMetricWarning: Precision and F-score are ill-defined and being set to 0.0 in labels with no predicted samples. Use `zero_division` parameter to control this behavior.\n",
      "  _warn_prf(average, modifier, msg_start, len(result))\n"
     ]
    }
   ],
   "source": [
    "# Evaluation Naive Bayes\n",
    "\n",
    "y_pred = clf.predict(X_test)\n",
    "\n",
    "print(\"Accuracy:\", accuracy_score(y_test, y_pred))\n",
    "print(\"Precision:\", precision_score(y_test, y_pred, average='macro',zero_division=0))\n",
    "print(\"Recall:\", recall_score(y_test, y_pred, average='macro'))\n",
    "print(\"F1_score:\", f1_score(y_test, y_pred, average='macro'))\n",
    "\n",
    "classifier.append(\"NB\")\n",
    "accuracy.append(accuracy_score(y_test, y_pred))\n",
    "precision.append(precision_score(y_test, y_pred, average='macro',zero_division=0))\n",
    "recall.append(recall_score(y_test, y_pred, average='macro'))\n",
    "f1.append(f1_score(y_test, y_pred, average='macro'))\n",
    "\n",
    "plot_confusion_matrix(clf, X_test, y_test, xticks_rotation='vertical')\n",
    "plt.show()\n",
    "\n",
    "print(classification_report(y_test,y_pred))"
   ]
  },
  {
   "cell_type": "code",
   "execution_count": 34,
   "id": "8628dadb-d645-4ef6-a2e3-2934b492fcd8",
   "metadata": {},
   "outputs": [
    {
     "name": "stdout",
     "output_type": "stream",
     "text": [
      "  Classifier  Accuracy  Precision    Recall  F1-score\n",
      "3         DT   0.99929   0.935372  0.918058  0.925280\n",
      "4         RF   0.98897   0.706865  0.662997  0.683323\n",
      "2         LR   0.96359   0.160598  0.166667  0.163576\n",
      "5        MLP   0.96359   0.160598  0.166667  0.163576\n",
      "0   Baseline   0.16662   0.166698  0.163158  0.058334\n",
      "1        SVM   0.08633   0.166500  0.162925  0.035810\n",
      "6         NB   0.01660   0.169427  0.166674  0.005444\n"
     ]
    }
   ],
   "source": [
    "results = pd.DataFrame(zip(classifier, accuracy, precision, recall, f1), columns = ['Classifier', 'Accuracy', 'Precision', 'Recall', 'F1-score'])\n",
    "results = results.sort_values(by = \"F1-score\", ascending = False)\n",
    "\n",
    "f = open('flair_results.pckl', 'wb')\n",
    "pickle.dump(results, f)\n",
    "f.close()\n",
    "\n",
    "f = open('flair_results.pckl', 'rb')\n",
    "results = pickle.load(f)\n",
    "f.close()\n",
    "\n",
    "print(results)"
   ]
  },
  {
   "cell_type": "code",
   "execution_count": 35,
   "id": "10fa68a9-3135-44dd-b3f7-a71839b6dbca",
   "metadata": {},
   "outputs": [],
   "source": [
    "# Save results dataframe\n",
    "\n",
    "results.to_csv('flair_results.csv', index = False)"
   ]
  },
  {
   "cell_type": "code",
   "execution_count": null,
   "id": "reasonable-punch",
   "metadata": {},
   "outputs": [],
   "source": [
    "# from sklearn.model_selection import train_test_split\n",
    "# from sklearn.datasets import load_breast_cancer\n",
    "# from sklearn.neighbors import KNeighborsClassifier\n",
    "# import matplotlib.pyplot as plt\n",
    "\n",
    "# %matplotlib inline\n",
    "\n",
    "# # We create two lists to keep training and test accuracies. We'll later use them to evaluate an \n",
    "# # appropriate number of neighbors\n",
    "# training_accuracy = []\n",
    "# test_accuracy = []\n",
    "\n",
    "# # We define a range of 1 to 10 (included) neighbors that will be tested\n",
    "# neighbors_settings = range(1,11)\n",
    "\n",
    "# # We loop the KNN model through the range of possible neighbors to evaluate which one would be \n",
    "# # appropriate for this analysis\n",
    "\n",
    "# for n_neighbors in neighbors_settings:\n",
    "    \n",
    "#     # creating the KNN classifier\n",
    "#     clf = KNeighborsClassifier(n_neighbors=n_neighbors)\n",
    "#     # fitting the model\n",
    "#     clf.fit(X_train, y_train)\n",
    "#     #recording the accuracy of the training set\n",
    "#     training_accuracy.append(clf.score(X_train, y_train))\n",
    "#     #recording the accuracy of the test set\n",
    "#     test_accuracy.append(clf.score(X_test, y_test))\n",
    "    \n",
    "# # Data Visualization - Evaluating the accuracy of both the training and the testing sets against \n",
    "# # n_neighbors\n",
    "    \n",
    "# plt.plot(neighbors_settings, training_accuracy, label='Accuracy of the Training Set')\n",
    "# plt.plot(neighbors_settings, test_accuracy, label='Accuracy of the Test Set')\n",
    "# plt.ylabel('Accuracy')\n",
    "# plt.xlabel('Number of Neighbors')\n",
    "# plt.legend()"
   ]
  },
  {
   "cell_type": "code",
   "execution_count": null,
   "id": "competitive-lending",
   "metadata": {},
   "outputs": [],
   "source": [
    "# LR = LogisticRegression(solver='lbfgs', max_iter=self.iter,random_state=self.seed, n_jobs=self.processor_mode)\n",
    "\n",
    "# GBC = GradientBoostingClassifier(n_estimators=100, learning_rate=1.0,max_depth=1, random_state=self.seed)\n",
    "\n",
    "# SGD = SGDClassifier(loss=\"hinge\", penalty=\"l2\", max_iter=self.iter,random_state=self.seed, n_jobs=self.processor_mode)\n",
    "\n",
    "# RF = RandomForestClassifier(random_state=self.seed, n_jobs=self.processor_mode)\n",
    "\n",
    "# SVM = svm.SVC(decision_function_shape='ovo',random_state=self.seed)\n",
    "\n",
    "# MLP = MLPClassifier(solver='lbfgs', alpha=1e-5,\n",
    "#              hidden_layer_sizes=(15,), random_state=self.seed,max_iter=self.iter)"
   ]
  }
 ],
 "metadata": {
  "kernelspec": {
   "display_name": "Python 3 (ipykernel)",
   "language": "python",
   "name": "python3"
  },
  "language_info": {
   "codemirror_mode": {
    "name": "ipython",
    "version": 3
   },
   "file_extension": ".py",
   "mimetype": "text/x-python",
   "name": "python",
   "nbconvert_exporter": "python",
   "pygments_lexer": "ipython3",
   "version": "3.9.5"
  }
 },
 "nbformat": 4,
 "nbformat_minor": 5
}
