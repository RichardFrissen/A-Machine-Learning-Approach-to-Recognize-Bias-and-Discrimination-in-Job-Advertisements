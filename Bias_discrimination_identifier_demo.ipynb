{
 "cells": [
  {
   "cell_type": "markdown",
   "metadata": {
    "id": "SdE4JYx8oDWx"
   },
   "source": [
    "# Loading and installing packages"
   ]
  },
  {
   "cell_type": "markdown",
   "metadata": {
    "id": "DimM0yPtn5I-"
   },
   "source": [
    "Loading all the necessary packages for the demo\n"
   ]
  },
  {
   "cell_type": "code",
   "execution_count": 1,
   "metadata": {
    "id": "L4XC1L9WtQo7"
   },
   "outputs": [],
   "source": [
    "from ipywidgets import widgets\n",
    "from IPython.display import display,clear_output\n",
    "import pandas as pd\n",
    "\n",
    "from tqdm import tqdm,tqdm_pandas, tqdm_notebook\n",
    "\n",
    "import numpy as np\n",
    "import pandas as pd\n",
    "import random\n",
    "import re\n",
    "import spacy\n",
    "import spacy.cli\n",
    "\n",
    "tqdm.pandas()"
   ]
  },
  {
   "cell_type": "code",
   "execution_count": 2,
   "metadata": {},
   "outputs": [],
   "source": [
    "#spacy.cli.download(\"en_core_web_lg\")"
   ]
  },
  {
   "cell_type": "code",
   "execution_count": 3,
   "metadata": {
    "id": "LEjlwvDExjW6"
   },
   "outputs": [],
   "source": [
    "# Load the SpaCy model of choice\n",
    "nlp = spacy.load(\"en_core_web_lg\")\n",
    "\n",
    "# Load the best performing customer SpaCy NER Model\n",
    "nlp_bias_extractor = spacy.load(\"/Users/richardfrissen/Documents/Maastricht University/Thesis/Development/Model training/Model 4/output/model-best\")    \n",
    "\n"
   ]
  },
  {
   "cell_type": "markdown",
   "metadata": {
    "id": "YjFqC5ywoKIC"
   },
   "source": [
    "# Defining functions for identification of bias en discrimination in job advertisements"
   ]
  },
  {
   "cell_type": "code",
   "execution_count": 4,
   "metadata": {
    "id": "4f-eUzySpPGJ"
   },
   "outputs": [],
   "source": [
    "# setting the preprocessing function and starting displacy\n",
    "def bias_extractor(df):\n",
    "    #Storing the job description into a dataframe\n",
    "    df = pd.DataFrame([str(df['text'].iloc[0])],columns=['job_description'])\n",
    "\n",
    "    #Preprocessing steps, lowercasing, removing puctuation and numbers, removing any double whitespaces\n",
    "    #striping leading and ending whitespaces\n",
    "    df['job_description'] = df['job_description'].str.lower()\n",
    "    df['job_description'] = df['job_description'].str.replace(r'[^A-Za-z0-9.!?\\- ]+', ' ',regex=True)\n",
    "    df['job_description'] = df['job_description'].str.replace(r'[\\d]+', ' ',regex=True)\n",
    "    df['job_description'] = df['job_description'].str.replace(r'[ ]{2,}', ' ',regex=True)\n",
    "    df['job_description'] = df['job_description'].str.strip()\n",
    "\n",
    "    #Visualize results of the model using displacy\n",
    "    doc = nlp_bias_extractor(df['job_description'].iloc[0])\n",
    "    doc.user_data[\"title\"] = \"Biased and discriminatory language identifier\"\n",
    "    colors = {\"Masculine-coded words\": \"#d3f8e2\", \"Feminine-coded words\": \"#e4c1f9\", \"Exclusive language\": \"#f694c1\", \"Demographic and Racial language\": \"#ede7b1\"}\n",
    "#     options = {\"colors\": colors}\n",
    "    spacy.displacy.render(doc, style='ent', jupyter=True, options={'distance': 90, \"colors\": colors})\n",
    "    print('\\n')\n",
    "    print('\\n')"
   ]
  },
  {
   "cell_type": "code",
   "execution_count": 5,
   "metadata": {
    "id": "ssnz03x3pREu"
   },
   "outputs": [],
   "source": [
    "def load_data():\n",
    "    df = pd.DataFrame()\n",
    "    df['text'] = [job_description.value]\n",
    "    return df\n",
    "\n",
    "# This function start the entire process\n",
    "def start_analyzing(_):\n",
    "    df = load_data()\n",
    "    bias_extractor(df)\n",
    "    \n"
   ]
  },
  {
   "cell_type": "markdown",
   "metadata": {
    "id": "mhk7cQpCSjXZ"
   },
   "source": [
    "# Visualizer"
   ]
  },
  {
   "cell_type": "code",
   "execution_count": 6,
   "metadata": {
    "colab": {
     "base_uri": "https://localhost:8080/",
     "height": 328,
     "referenced_widgets": [
      "7db74f8171e04205bfc9287a356250b4",
      "96b41d8cf3f34ec59eb151d241214bf8",
      "91f94b3bdda044cb8cbff901fab39a36",
      "1c2c093399ae4d66ba0a43a6d09c35cd",
      "2f08ca0dcc54463a94dc344c0998a87d",
      "68443167799842118f1a3b2d8d02f0f5"
     ]
    },
    "id": "pqgC8OoxtWhR",
    "outputId": "b17b7d43-41c2-4f8d-f517-bac8aea46435"
   },
   "outputs": [
    {
     "data": {
      "application/vnd.jupyter.widget-view+json": {
       "model_id": "620f804cc50645b696d3a917f06932a7",
       "version_major": 2,
       "version_minor": 0
      },
      "text/plain": [
       "Textarea(value='Scripps Health Administrative Services supports our five hospitals and 19 outpatient facilitie…"
      ]
     },
     "metadata": {},
     "output_type": "display_data"
    },
    {
     "data": {
      "application/vnd.jupyter.widget-view+json": {
       "model_id": "8232493b3cc64352ba2268998f3e4196",
       "version_major": 2,
       "version_minor": 0
      },
      "text/plain": [
       "Button(description='Start analyzing!', style=ButtonStyle())"
      ]
     },
     "metadata": {},
     "output_type": "display_data"
    }
   ],
   "source": [
    "style = {'description_width': '150px'}\n",
    "layout = {'width': '1000px', 'height': '800px'}\n",
    "pd.set_option(\"display.max_rows\", None, \"display.max_columns\", None)\n",
    "job_description = widgets.Textarea(\n",
    "    value='''Scripps Health Administrative Services supports our five hospitals and 19 outpatient facilities, which treat half a million patients annually through 2,600 affiliated physicians.\n",
    "\n",
    "At Scripps Health, you will experience the pride, support, respect that has been repeatedly recognized as one of the nation’s Top 100 Places to work.\n",
    "\n",
    "You’ll be surrounded by people committed to making a difference in the lives of their patients and their teammates. So if you’re open to change, go ahead and unlock your potential.\n",
    "\n",
    "Truven Health Analytics named Scripps Health among the top five large health systems in the nation. Scripps was the only California health care system on the Truven Top 15 Health Systems list this year.\n",
    "\n",
    "As a Data Scientist for Scripps, you will support the ACO, Medical Foundation and Scripps Health plan with data related valued-based care activities for over 210,000 patients. You will perform advanced integrated comprehensive reporting, consultative, and analytical expertise to provide data and information to internal and external stakeholders. This data will provide strategies to drive continuous improvement and strategic and quality changes for our stakeholders.\n",
    "\n",
    "Play an integral role in assisting with developing methodologies, performing analysis, summarizing results and developing outcome conclusions for project teams, leaders, and internal and external stakeholders. This role will collaborate with Clinicians, Physicians and leadership to create dashboards that provide predictive analytics into our patient population.\n",
    "\n",
    "We are looking for a sharp, strong communicator who can provide strategic data input to evolve Advanced care planning and Disease management to increase quality, reduce costs and increase the health of our patients across the San Diego community.\n",
    "\n",
    "This is a Full Time, Salaried position, located at our corporate offices in La Jolla and offers Scripps Health’s award-winning benefit package.\n",
    "\n",
    "Required Education/Experience/Specialized Skills:\n",
    "\n",
    "Bachelor's degree.\n",
    "Excellent communication skills in order to directly communicate at a consumer level with internal clients.\n",
    "\n",
    "\n",
    "Preferred Education/Experience/Specialized Skills/Certification:\n",
    "\n",
    "Master's degree\n",
    "Epic experience\n",
    "Healthcare industry experience\n",
    "Proficient using at least one data visualization product (Tableau, Qlik, Amazon QuickSight, Power BI, etc.)\n",
    "Proficient in SQL and/or Coding/programing\n",
    "Knowledge of statistics such as skewness and arima models\n",
    "\" ''',\n",
    "    placeholder=' ',\n",
    "    description='Insert Job Description:',\n",
    "    disabled=False,\n",
    "    style= style,\n",
    "    layout=layout\n",
    ")\n",
    "\n",
    "\n",
    "button = widgets.Button(description=\"Start analyzing!\", style= style)#, layout=layout)\n",
    "output = widgets.Output()\n",
    "\n",
    "\n",
    "display(job_description,button)\n",
    "#By clicking the button the entire process starts\n",
    "button.on_click(start_analyzing)\n"
   ]
  },
  {
   "cell_type": "code",
   "execution_count": null,
   "metadata": {},
   "outputs": [],
   "source": []
  },
  {
   "cell_type": "code",
   "execution_count": null,
   "metadata": {},
   "outputs": [],
   "source": []
  }
 ],
 "metadata": {
  "colab": {
   "collapsed_sections": [],
   "name": "Demo.ipynb",
   "provenance": []
  },
  "kernelspec": {
   "display_name": "Python 3",
   "language": "python",
   "name": "python3"
  },
  "language_info": {
   "codemirror_mode": {
    "name": "ipython",
    "version": 3
   },
   "file_extension": ".py",
   "mimetype": "text/x-python",
   "name": "python",
   "nbconvert_exporter": "python",
   "pygments_lexer": "ipython3",
   "version": "3.9.0"
  },
  "widgets": {
   "application/vnd.jupyter.widget-state+json": {
    "1c2c093399ae4d66ba0a43a6d09c35cd": {
     "model_module": "@jupyter-widgets/controls",
     "model_module_version": "1.5.0",
     "model_name": "ButtonModel",
     "state": {
      "_dom_classes": [],
      "_model_module": "@jupyter-widgets/controls",
      "_model_module_version": "1.5.0",
      "_model_name": "ButtonModel",
      "_view_count": null,
      "_view_module": "@jupyter-widgets/controls",
      "_view_module_version": "1.5.0",
      "_view_name": "ButtonView",
      "button_style": "",
      "description": "Start analyzing!",
      "disabled": false,
      "icon": "",
      "layout": "IPY_MODEL_68443167799842118f1a3b2d8d02f0f5",
      "style": "IPY_MODEL_2f08ca0dcc54463a94dc344c0998a87d",
      "tooltip": ""
     }
    },
    "2f08ca0dcc54463a94dc344c0998a87d": {
     "model_module": "@jupyter-widgets/controls",
     "model_module_version": "1.5.0",
     "model_name": "ButtonStyleModel",
     "state": {
      "_model_module": "@jupyter-widgets/controls",
      "_model_module_version": "1.5.0",
      "_model_name": "ButtonStyleModel",
      "_view_count": null,
      "_view_module": "@jupyter-widgets/base",
      "_view_module_version": "1.2.0",
      "_view_name": "StyleView",
      "button_color": null,
      "font_weight": ""
     }
    },
    "68443167799842118f1a3b2d8d02f0f5": {
     "model_module": "@jupyter-widgets/base",
     "model_module_version": "1.2.0",
     "model_name": "LayoutModel",
     "state": {
      "_model_module": "@jupyter-widgets/base",
      "_model_module_version": "1.2.0",
      "_model_name": "LayoutModel",
      "_view_count": null,
      "_view_module": "@jupyter-widgets/base",
      "_view_module_version": "1.2.0",
      "_view_name": "LayoutView",
      "align_content": null,
      "align_items": null,
      "align_self": null,
      "border": null,
      "bottom": null,
      "display": null,
      "flex": null,
      "flex_flow": null,
      "grid_area": null,
      "grid_auto_columns": null,
      "grid_auto_flow": null,
      "grid_auto_rows": null,
      "grid_column": null,
      "grid_gap": null,
      "grid_row": null,
      "grid_template_areas": null,
      "grid_template_columns": null,
      "grid_template_rows": null,
      "height": null,
      "justify_content": null,
      "justify_items": null,
      "left": null,
      "margin": null,
      "max_height": null,
      "max_width": null,
      "min_height": null,
      "min_width": null,
      "object_fit": null,
      "object_position": null,
      "order": null,
      "overflow": null,
      "overflow_x": null,
      "overflow_y": null,
      "padding": null,
      "right": null,
      "top": null,
      "visibility": null,
      "width": "400px"
     }
    },
    "7db74f8171e04205bfc9287a356250b4": {
     "model_module": "@jupyter-widgets/controls",
     "model_module_version": "1.5.0",
     "model_name": "TextareaModel",
     "state": {
      "_dom_classes": [],
      "_model_module": "@jupyter-widgets/controls",
      "_model_module_version": "1.5.0",
      "_model_name": "TextareaModel",
      "_view_count": null,
      "_view_module": "@jupyter-widgets/controls",
      "_view_module_version": "1.5.0",
      "_view_name": "TextareaView",
      "continuous_update": true,
      "description": "Insert Job Description:",
      "description_tooltip": null,
      "disabled": false,
      "layout": "IPY_MODEL_91f94b3bdda044cb8cbff901fab39a36",
      "placeholder": " ",
      "rows": null,
      "style": "IPY_MODEL_96b41d8cf3f34ec59eb151d241214bf8",
      "value": "Key Responsibilities\n\nInstalls, maintains, and repairs computer hardware and software. Maintains and updates COB inventory of equipment. Acts as backup for the Senior Computer Technician. Installs and maintains all College of Business (COB) workstations, laptops, and servers. Analyzes operating systems and applications software for deployment in the COB. Plans, designs, and deploys technical projects. Provides viable and thorough solutions to a wide variety of information technology problems for faculty, staff and students.\n\nKnowledge Skills and Abilities\n\nMicrosoft Word\nBachelor's degree or equivalent related work or military experience\n1 year of experience with Microsoft Exchange, mail routing/filtering and scripting\nStrong Windows performance tuning and troubleshooting skills\nWorking knowledge of SCCM and Windows operating system\nKnowledge of DNS, WINS and DHCP\nKnowledge of hardware maintenance and installation\nKnowledge of Windows computer systems and associated applications.\n\" "
     }
    },
    "91f94b3bdda044cb8cbff901fab39a36": {
     "model_module": "@jupyter-widgets/base",
     "model_module_version": "1.2.0",
     "model_name": "LayoutModel",
     "state": {
      "_model_module": "@jupyter-widgets/base",
      "_model_module_version": "1.2.0",
      "_model_name": "LayoutModel",
      "_view_count": null,
      "_view_module": "@jupyter-widgets/base",
      "_view_module_version": "1.2.0",
      "_view_name": "LayoutView",
      "align_content": null,
      "align_items": null,
      "align_self": null,
      "border": null,
      "bottom": null,
      "display": null,
      "flex": null,
      "flex_flow": null,
      "grid_area": null,
      "grid_auto_columns": null,
      "grid_auto_flow": null,
      "grid_auto_rows": null,
      "grid_column": null,
      "grid_gap": null,
      "grid_row": null,
      "grid_template_areas": null,
      "grid_template_columns": null,
      "grid_template_rows": null,
      "height": null,
      "justify_content": null,
      "justify_items": null,
      "left": null,
      "margin": null,
      "max_height": null,
      "max_width": null,
      "min_height": null,
      "min_width": null,
      "object_fit": null,
      "object_position": null,
      "order": null,
      "overflow": null,
      "overflow_x": null,
      "overflow_y": null,
      "padding": null,
      "right": null,
      "top": null,
      "visibility": null,
      "width": "400px"
     }
    },
    "96b41d8cf3f34ec59eb151d241214bf8": {
     "model_module": "@jupyter-widgets/controls",
     "model_module_version": "1.5.0",
     "model_name": "DescriptionStyleModel",
     "state": {
      "_model_module": "@jupyter-widgets/controls",
      "_model_module_version": "1.5.0",
      "_model_name": "DescriptionStyleModel",
      "_view_count": null,
      "_view_module": "@jupyter-widgets/base",
      "_view_module_version": "1.2.0",
      "_view_name": "StyleView",
      "description_width": "150px"
     }
    }
   }
  }
 },
 "nbformat": 4,
 "nbformat_minor": 4
}
