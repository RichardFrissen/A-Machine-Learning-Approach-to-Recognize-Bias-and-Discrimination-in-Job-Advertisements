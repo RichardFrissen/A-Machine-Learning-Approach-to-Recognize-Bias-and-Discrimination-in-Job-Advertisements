{
 "cells": [
  {
   "cell_type": "markdown",
   "id": "overhead-marker",
   "metadata": {
    "id": "charming-junction"
   },
   "source": [
    "## 1. Import libraries and requirements"
   ]
  },
  {
   "cell_type": "code",
   "execution_count": 1,
   "id": "successful-lightweight",
   "metadata": {
    "id": "collected-warehouse"
   },
   "outputs": [
    {
     "name": "stderr",
     "output_type": "stream",
     "text": [
      "/opt/conda/lib/python3.9/site-packages/torch/cuda/__init__.py:52: UserWarning: CUDA initialization: Found no NVIDIA driver on your system. Please check that you have an NVIDIA GPU and installed a driver from http://www.nvidia.com/Download/index.aspx (Triggered internally at  /pytorch/c10/cuda/CUDAFunctions.cpp:100.)\n",
      "  return torch._C._cuda_getDeviceCount() > 0\n"
     ]
    }
   ],
   "source": [
    "# Loading required packages\n",
    "import spacy\n",
    "import pandas as pd\n",
    "import re\n",
    "# import gensim\n",
    "# import gensim.downloader\n",
    "# from gensim.models import Word2Vec\n",
    "# from gensim.test.utils import common_texts\n",
    "# from gensim.models import Word2Vec\n",
    "# from gensim.models.phrases import Phrases, Phraser\n",
    "# import nltk\n",
    "from numpy import mean\n",
    "from numpy import std\n",
    "from sklearn import svm\n",
    "from sklearn.linear_model import LogisticRegression\n",
    "from sklearn.linear_model import LogisticRegressionCV\n",
    "from sklearn.tree import DecisionTreeClassifier\n",
    "from sklearn.ensemble import RandomForestClassifier\n",
    "from sklearn.neighbors import KNeighborsClassifier\n",
    "from sklearn.naive_bayes import GaussianNB\n",
    "from sklearn.neural_network import MLPClassifier\n",
    "from sklearn import preprocessing\n",
    "from sklearn.metrics import accuracy_score\n",
    "from sklearn.metrics import precision_score\n",
    "from sklearn.metrics import f1_score\n",
    "from sklearn.metrics import recall_score\n",
    "from sklearn.metrics import confusion_matrix\n",
    "from sklearn.metrics import classification_report\n",
    "import matplotlib.pyplot as plt  \n",
    "from sklearn.metrics import plot_confusion_matrix\n",
    "from sklearn.datasets import make_classification\n",
    "from sklearn.model_selection import KFold\n",
    "from sklearn.model_selection import cross_validate\n",
    "from sklearn.model_selection import cross_val_score\n",
    "from sklearn.model_selection import train_test_split\n",
    "from sklearn.dummy import DummyClassifier\n",
    "from statistics import mean\n",
    "import json\n",
    "import csv\n",
    "import ast\n",
    "import numpy as np\n",
    "\n",
    "from flair.embeddings import WordEmbeddings\n",
    "from flair.data import Sentence\n",
    "from flair.embeddings import TransformerWordEmbeddings, ELMoEmbeddings\n",
    "\n",
    "from tqdm import tqdm\n",
    "\n",
    "# Set seed\n",
    "seed = np.random.seed(1)\n",
    "\n",
    "\n",
    "# Select Spacy model\n",
    "# Efficiency\n",
    "# nlp = spacy.load(\"en_core_web_sm\")\n",
    "\n",
    "# Accuracy\n",
    "# nlp = spacy.load(\"en_core_web_trf\")\n",
    "\n",
    "# Change working directory\n",
    "# %cd '/Users/richardfrissen/Documents/Maastricht University/Thesis/Development/Datasets'"
   ]
  },
  {
   "cell_type": "code",
   "execution_count": null,
   "id": "front-innocent",
   "metadata": {
    "id": "smooth-fight"
   },
   "outputs": [],
   "source": [
    "# Define columns and read annotated data\n",
    "columns = ['Token', 'Label', 'pos', 'ent_type', 'is_alpha', 'is_ascii', 'is_digit', 'is_lower', 'is_upper', 'is_title', 'is_punct', 'is_space', 'like_num', 'is_oov', 'is_stop', 'like_num', 'lang', 'sentiment']\n",
    "data = pd.read_csv('FULL_Annotation_data_output.tsv', sep='\\t', nrows=500000, header = None)"
   ]
  },
  {
   "cell_type": "code",
   "execution_count": null,
   "id": "powered-oklahoma",
   "metadata": {
    "id": "exceptional-gnome"
   },
   "outputs": [],
   "source": [
    "%%time\n",
    "\n",
    "# Generate linguistic features for each token\n",
    "def feature_extraction(input_column):\n",
    "    features = [[],[],[],[],[],[],[],[],[],[],[],[],[],[],[],[]]\n",
    "    for i in input_column:\n",
    "        i = str(i)\n",
    "        doc = nlp(i)\n",
    "        word = i\n",
    "        for token in doc:\n",
    "            features[0].append(token.pos)\n",
    "            features[1].append(token.ent_type)\n",
    "            features[2].append(token.is_alpha)\n",
    "            features[3].append(token.is_ascii)\n",
    "            features[4].append(token.is_digit)\n",
    "            features[5].append(token.is_lower)\n",
    "            features[6].append(token.is_upper)\n",
    "            features[7].append(token.is_title)\n",
    "            features[8].append(token.is_punct)\n",
    "            features[9].append(token.is_space)\n",
    "            features[10].append(token.like_num)\n",
    "            features[11].append(token.is_oov)\n",
    "            features[12].append(token.is_stop)\n",
    "            features[13].append(token.lang)\n",
    "            features[14].append(token.sentiment)\n",
    "            features[15].append(len(word))\n",
    "    return features\n",
    "\n",
    "features = feature_extraction(data[0])"
   ]
  },
  {
   "cell_type": "code",
   "execution_count": null,
   "id": "acting-nirvana",
   "metadata": {
    "id": "still-contamination"
   },
   "outputs": [],
   "source": [
    "%%time\n",
    "\n",
    "# Convert list to dataframe\n",
    "features = pd.DataFrame(features)\n",
    "\n",
    "# We need to transpose this dataframe first\n",
    "features = features.transpose()\n",
    "\n",
    "# We concat the annotated data with the linguistic features\n",
    "data = pd.concat([data, features], axis=1)\n",
    "data.columns = ['Token', 'Label', 'pos', 'ent_type', 'is_alpha', 'is_ascii', 'is_digit', 'is_lower', 'is_upper', 'is_title', 'is_punct', 'is_space', 'like_num', 'is_oov', 'is_stop', 'lang', 'sentiment', 'word_length']\n",
    "\n",
    "data.head(10)"
   ]
  },
  {
   "cell_type": "code",
   "execution_count": null,
   "id": "sublime-cooper",
   "metadata": {
    "colab": {
     "base_uri": "https://localhost:8080/",
     "height": 439
    },
    "id": "generic-persian",
    "outputId": "38564dc5-71ef-4802-c5b9-7edefa85941b"
   },
   "outputs": [],
   "source": [
    "# Optionally the data can be saved to create a checkpoint\n",
    "\n",
    "data.to_csv('data_features_full_dataset.csv', index = False)\n",
    "\n",
    "data = pd.read_csv('data_features_full_dataset.csv', nrows=500000, header = 0)\n",
    "\n",
    "data.shape"
   ]
  },
  {
   "cell_type": "code",
   "execution_count": null,
   "id": "stylish-remove",
   "metadata": {},
   "outputs": [],
   "source": [
    "data.head(10)"
   ]
  },
  {
   "cell_type": "code",
   "execution_count": null,
   "id": "lined-recording",
   "metadata": {
    "colab": {
     "base_uri": "https://localhost:8080/"
    },
    "id": "passive-extreme",
    "outputId": "447612b5-4b90-4ca5-fffa-7516848f53b6",
    "tags": []
   },
   "outputs": [],
   "source": [
    "# init word embedding\n",
    "embedding = ELMoEmbeddings('medium')"
   ]
  },
  {
   "cell_type": "code",
   "execution_count": null,
   "id": "quantitative-aggregate",
   "metadata": {
    "colab": {
     "base_uri": "https://localhost:8080/"
    },
    "id": "biological-silly",
    "outputId": "49d4a6ba-d3e3-47e2-f2e2-de5b5f989adf"
   },
   "outputs": [],
   "source": [
    "%%time\n",
    "\n",
    "# Generate word embeddings for each token\n",
    "\n",
    "def elmo_wordembed(input_column):\n",
    "    elmo_result =[]\n",
    "    counter = 0\n",
    "    for i in tqdm(input_column):\n",
    "        counter = counter +1\n",
    "        try:\n",
    "            i = str(i)\n",
    "            token = Sentence(i)\n",
    "            embedding.embed(token)\n",
    "            for token in token:\n",
    "                result_array = token.embedding\n",
    "            result_list = result_array.tolist()\n",
    "            elmo_result.append(result_list)\n",
    "        except KeyError:\n",
    "            elmo_result.append(np.nan)\n",
    "        except TypeError: \n",
    "            elmo_result.append(np.nan)\n",
    "        except IndexError:\n",
    "            elmo_result.append(np.nan)\n",
    "\n",
    "    return elmo_result\n",
    "\n",
    "\n",
    "# ELMo_Word_Embeddings\n",
    "word_embedding = elmo_wordembed(data['Token'])"
   ]
  },
  {
   "cell_type": "code",
   "execution_count": null,
   "id": "tropical-stroke",
   "metadata": {
    "id": "empirical-python"
   },
   "outputs": [],
   "source": [
    "len(word_embedding)"
   ]
  },
  {
   "cell_type": "code",
   "execution_count": null,
   "id": "fifty-portfolio",
   "metadata": {
    "id": "jlqpk9VfJRmR"
   },
   "outputs": [],
   "source": [
    "# Optionally the data can be saved to create a checkpoint\n",
    "\n",
    "import pickle\n",
    "\n",
    "f = open('word_embedding_elmo.pckl', 'wb')\n",
    "pickle.dump(word_embedding, f)\n",
    "f.close()\n",
    "\n",
    "f = open('word_embedding_elmo.pckl', 'rb')\n",
    "word_embedding = pickle.load(f)\n",
    "f.close()"
   ]
  },
  {
   "cell_type": "code",
   "execution_count": null,
   "id": "familiar-explanation",
   "metadata": {},
   "outputs": [],
   "source": [
    "%%time\n",
    "\n",
    "# Replace empty values in the list of word embeddings for words \n",
    "# we couldn't generate a word embedding for\n",
    "\n",
    "word_embedding_complete = []\n",
    "\n",
    "for i in tqdm(word_embedding):\n",
    "    try:\n",
    "        if len(i) == 0:\n",
    "            i = []\n",
    "        else:\n",
    "            i = i\n",
    "        word_embedding_complete.append(i)\n",
    "        \n",
    "    except TypeError:\n",
    "        i = []\n",
    "        word_embedding_complete.append(i)"
   ]
  },
  {
   "cell_type": "code",
   "execution_count": null,
   "id": "perfect-interference",
   "metadata": {},
   "outputs": [],
   "source": [
    "# Check and verify length\n",
    "# Length must be the same as the nrows of the dataframe\n",
    "\n",
    "len(word_embedding_complete)"
   ]
  },
  {
   "cell_type": "code",
   "execution_count": null,
   "id": "little-photographer",
   "metadata": {
    "id": "dramatic-canberra"
   },
   "outputs": [],
   "source": [
    "%%time\n",
    "\n",
    "# Convert list to dataframe\n",
    "word_embedding_df = pd.DataFrame(word_embedding)\n",
    "word_embedding_series = word_embedding_df[0].apply(pd.Series)\n",
    "\n",
    "# We concat the annotated data with the linguistic features\n",
    "data = pd.concat([data, word_embedding_series], axis=1)"
   ]
  },
  {
   "cell_type": "code",
   "execution_count": null,
   "id": "frank-europe",
   "metadata": {
    "id": "applied-mineral"
   },
   "outputs": [],
   "source": [
    "data.head(10)"
   ]
  },
  {
   "cell_type": "code",
   "execution_count": 4,
   "id": "legal-workstation",
   "metadata": {
    "id": "shared-obligation"
   },
   "outputs": [
    {
     "name": "stdout",
     "output_type": "stream",
     "text": [
      "CPU times: user 2min 48s, sys: 13.2 s, total: 3min 1s\n",
      "Wall time: 3min 16s\n"
     ]
    },
    {
     "data": {
      "text/html": [
       "<div>\n",
       "<style scoped>\n",
       "    .dataframe tbody tr th:only-of-type {\n",
       "        vertical-align: middle;\n",
       "    }\n",
       "\n",
       "    .dataframe tbody tr th {\n",
       "        vertical-align: top;\n",
       "    }\n",
       "\n",
       "    .dataframe thead th {\n",
       "        text-align: right;\n",
       "    }\n",
       "</style>\n",
       "<table border=\"1\" class=\"dataframe\">\n",
       "  <thead>\n",
       "    <tr style=\"text-align: right;\">\n",
       "      <th></th>\n",
       "      <th>Token</th>\n",
       "      <th>Label</th>\n",
       "      <th>pos</th>\n",
       "      <th>ent_type</th>\n",
       "      <th>is_alpha</th>\n",
       "      <th>is_ascii</th>\n",
       "      <th>is_digit</th>\n",
       "      <th>is_lower</th>\n",
       "      <th>is_upper</th>\n",
       "      <th>is_title</th>\n",
       "      <th>...</th>\n",
       "      <th>1526</th>\n",
       "      <th>1527</th>\n",
       "      <th>1528</th>\n",
       "      <th>1529</th>\n",
       "      <th>1530</th>\n",
       "      <th>1531</th>\n",
       "      <th>1532</th>\n",
       "      <th>1533</th>\n",
       "      <th>1534</th>\n",
       "      <th>1535</th>\n",
       "    </tr>\n",
       "  </thead>\n",
       "  <tbody>\n",
       "    <tr>\n",
       "      <th>0</th>\n",
       "      <td>food</td>\n",
       "      <td>O</td>\n",
       "      <td>92</td>\n",
       "      <td>0</td>\n",
       "      <td>True</td>\n",
       "      <td>True</td>\n",
       "      <td>False</td>\n",
       "      <td>True</td>\n",
       "      <td>False</td>\n",
       "      <td>False</td>\n",
       "      <td>...</td>\n",
       "      <td>-0.362660</td>\n",
       "      <td>0.038647</td>\n",
       "      <td>-0.329854</td>\n",
       "      <td>0.507664</td>\n",
       "      <td>0.011485</td>\n",
       "      <td>-0.299479</td>\n",
       "      <td>-1.018636</td>\n",
       "      <td>1.331968</td>\n",
       "      <td>0.502126</td>\n",
       "      <td>-0.005587</td>\n",
       "    </tr>\n",
       "    <tr>\n",
       "      <th>1</th>\n",
       "      <td>a</td>\n",
       "      <td>O</td>\n",
       "      <td>90</td>\n",
       "      <td>0</td>\n",
       "      <td>True</td>\n",
       "      <td>True</td>\n",
       "      <td>False</td>\n",
       "      <td>True</td>\n",
       "      <td>False</td>\n",
       "      <td>False</td>\n",
       "      <td>...</td>\n",
       "      <td>0.136579</td>\n",
       "      <td>-0.087388</td>\n",
       "      <td>-0.565916</td>\n",
       "      <td>0.522235</td>\n",
       "      <td>-0.452233</td>\n",
       "      <td>-0.057982</td>\n",
       "      <td>-0.515886</td>\n",
       "      <td>0.859544</td>\n",
       "      <td>0.378656</td>\n",
       "      <td>0.303306</td>\n",
       "    </tr>\n",
       "    <tr>\n",
       "      <th>2</th>\n",
       "      <td>fast</td>\n",
       "      <td>O</td>\n",
       "      <td>86</td>\n",
       "      <td>0</td>\n",
       "      <td>True</td>\n",
       "      <td>True</td>\n",
       "      <td>False</td>\n",
       "      <td>True</td>\n",
       "      <td>False</td>\n",
       "      <td>False</td>\n",
       "      <td>...</td>\n",
       "      <td>-0.169968</td>\n",
       "      <td>0.237214</td>\n",
       "      <td>-0.226488</td>\n",
       "      <td>0.113207</td>\n",
       "      <td>-0.221394</td>\n",
       "      <td>0.119126</td>\n",
       "      <td>-0.395318</td>\n",
       "      <td>1.134955</td>\n",
       "      <td>-0.326653</td>\n",
       "      <td>0.157859</td>\n",
       "    </tr>\n",
       "    <tr>\n",
       "      <th>3</th>\n",
       "      <td>grow</td>\n",
       "      <td>O</td>\n",
       "      <td>100</td>\n",
       "      <td>0</td>\n",
       "      <td>True</td>\n",
       "      <td>True</td>\n",
       "      <td>False</td>\n",
       "      <td>True</td>\n",
       "      <td>False</td>\n",
       "      <td>False</td>\n",
       "      <td>...</td>\n",
       "      <td>0.004376</td>\n",
       "      <td>0.560592</td>\n",
       "      <td>-0.205904</td>\n",
       "      <td>0.210360</td>\n",
       "      <td>-0.490179</td>\n",
       "      <td>-0.910097</td>\n",
       "      <td>-0.732791</td>\n",
       "      <td>0.366863</td>\n",
       "      <td>0.584376</td>\n",
       "      <td>-0.171481</td>\n",
       "    </tr>\n",
       "    <tr>\n",
       "      <th>4</th>\n",
       "      <td>-winne</td>\n",
       "      <td>O</td>\n",
       "      <td>97</td>\n",
       "      <td>0</td>\n",
       "      <td>False</td>\n",
       "      <td>True</td>\n",
       "      <td>False</td>\n",
       "      <td>True</td>\n",
       "      <td>False</td>\n",
       "      <td>False</td>\n",
       "      <td>...</td>\n",
       "      <td>0.258308</td>\n",
       "      <td>-0.018983</td>\n",
       "      <td>-0.428032</td>\n",
       "      <td>0.907898</td>\n",
       "      <td>-0.095798</td>\n",
       "      <td>-0.122752</td>\n",
       "      <td>-0.746413</td>\n",
       "      <td>0.754866</td>\n",
       "      <td>0.268109</td>\n",
       "      <td>-0.523803</td>\n",
       "    </tr>\n",
       "    <tr>\n",
       "      <th>5</th>\n",
       "      <td>online</td>\n",
       "      <td>O</td>\n",
       "      <td>86</td>\n",
       "      <td>0</td>\n",
       "      <td>True</td>\n",
       "      <td>True</td>\n",
       "      <td>False</td>\n",
       "      <td>True</td>\n",
       "      <td>False</td>\n",
       "      <td>False</td>\n",
       "      <td>...</td>\n",
       "      <td>-0.244042</td>\n",
       "      <td>0.146873</td>\n",
       "      <td>-0.418024</td>\n",
       "      <td>0.068457</td>\n",
       "      <td>-0.217877</td>\n",
       "      <td>-0.220068</td>\n",
       "      <td>-0.674808</td>\n",
       "      <td>0.997628</td>\n",
       "      <td>0.111707</td>\n",
       "      <td>-0.457278</td>\n",
       "    </tr>\n",
       "    <tr>\n",
       "      <th>6</th>\n",
       "      <td>food</td>\n",
       "      <td>O</td>\n",
       "      <td>92</td>\n",
       "      <td>0</td>\n",
       "      <td>True</td>\n",
       "      <td>True</td>\n",
       "      <td>False</td>\n",
       "      <td>True</td>\n",
       "      <td>False</td>\n",
       "      <td>False</td>\n",
       "      <td>...</td>\n",
       "      <td>-0.365108</td>\n",
       "      <td>0.043319</td>\n",
       "      <td>-0.345948</td>\n",
       "      <td>0.509963</td>\n",
       "      <td>0.019733</td>\n",
       "      <td>-0.303730</td>\n",
       "      <td>-1.015588</td>\n",
       "      <td>1.334889</td>\n",
       "      <td>0.503644</td>\n",
       "      <td>-0.022480</td>\n",
       "    </tr>\n",
       "    <tr>\n",
       "      <th>7</th>\n",
       "      <td>community</td>\n",
       "      <td>O</td>\n",
       "      <td>92</td>\n",
       "      <td>0</td>\n",
       "      <td>True</td>\n",
       "      <td>True</td>\n",
       "      <td>False</td>\n",
       "      <td>True</td>\n",
       "      <td>False</td>\n",
       "      <td>False</td>\n",
       "      <td>...</td>\n",
       "      <td>1.109663</td>\n",
       "      <td>0.207417</td>\n",
       "      <td>0.261030</td>\n",
       "      <td>0.897862</td>\n",
       "      <td>-0.075947</td>\n",
       "      <td>-0.136039</td>\n",
       "      <td>-2.038073</td>\n",
       "      <td>0.420835</td>\n",
       "      <td>0.835099</td>\n",
       "      <td>-0.125490</td>\n",
       "    </tr>\n",
       "    <tr>\n",
       "      <th>8</th>\n",
       "      <td>and</td>\n",
       "      <td>O</td>\n",
       "      <td>89</td>\n",
       "      <td>0</td>\n",
       "      <td>True</td>\n",
       "      <td>True</td>\n",
       "      <td>False</td>\n",
       "      <td>True</td>\n",
       "      <td>False</td>\n",
       "      <td>False</td>\n",
       "      <td>...</td>\n",
       "      <td>-0.158997</td>\n",
       "      <td>-0.092389</td>\n",
       "      <td>-0.442418</td>\n",
       "      <td>-0.399130</td>\n",
       "      <td>-0.244655</td>\n",
       "      <td>-0.091644</td>\n",
       "      <td>-0.268837</td>\n",
       "      <td>0.890471</td>\n",
       "      <td>-0.268504</td>\n",
       "      <td>-0.128473</td>\n",
       "    </tr>\n",
       "    <tr>\n",
       "      <th>9</th>\n",
       "      <td>crowd</td>\n",
       "      <td>O</td>\n",
       "      <td>92</td>\n",
       "      <td>0</td>\n",
       "      <td>True</td>\n",
       "      <td>True</td>\n",
       "      <td>False</td>\n",
       "      <td>True</td>\n",
       "      <td>False</td>\n",
       "      <td>False</td>\n",
       "      <td>...</td>\n",
       "      <td>-0.280942</td>\n",
       "      <td>0.728471</td>\n",
       "      <td>0.065729</td>\n",
       "      <td>0.598478</td>\n",
       "      <td>-0.002546</td>\n",
       "      <td>0.173746</td>\n",
       "      <td>-1.592165</td>\n",
       "      <td>0.661048</td>\n",
       "      <td>0.177235</td>\n",
       "      <td>-0.713160</td>\n",
       "    </tr>\n",
       "  </tbody>\n",
       "</table>\n",
       "<p>10 rows × 1554 columns</p>\n",
       "</div>"
      ],
      "text/plain": [
       "       Token Label  pos  ent_type  is_alpha  is_ascii  is_digit  is_lower  \\\n",
       "0       food     O   92         0      True      True     False      True   \n",
       "1          a     O   90         0      True      True     False      True   \n",
       "2       fast     O   86         0      True      True     False      True   \n",
       "3       grow     O  100         0      True      True     False      True   \n",
       "4     -winne     O   97         0     False      True     False      True   \n",
       "5     online     O   86         0      True      True     False      True   \n",
       "6       food     O   92         0      True      True     False      True   \n",
       "7  community     O   92         0      True      True     False      True   \n",
       "8        and     O   89         0      True      True     False      True   \n",
       "9      crowd     O   92         0      True      True     False      True   \n",
       "\n",
       "   is_upper  is_title  ...      1526      1527      1528      1529      1530  \\\n",
       "0     False     False  ... -0.362660  0.038647 -0.329854  0.507664  0.011485   \n",
       "1     False     False  ...  0.136579 -0.087388 -0.565916  0.522235 -0.452233   \n",
       "2     False     False  ... -0.169968  0.237214 -0.226488  0.113207 -0.221394   \n",
       "3     False     False  ...  0.004376  0.560592 -0.205904  0.210360 -0.490179   \n",
       "4     False     False  ...  0.258308 -0.018983 -0.428032  0.907898 -0.095798   \n",
       "5     False     False  ... -0.244042  0.146873 -0.418024  0.068457 -0.217877   \n",
       "6     False     False  ... -0.365108  0.043319 -0.345948  0.509963  0.019733   \n",
       "7     False     False  ...  1.109663  0.207417  0.261030  0.897862 -0.075947   \n",
       "8     False     False  ... -0.158997 -0.092389 -0.442418 -0.399130 -0.244655   \n",
       "9     False     False  ... -0.280942  0.728471  0.065729  0.598478 -0.002546   \n",
       "\n",
       "       1531      1532      1533      1534      1535  \n",
       "0 -0.299479 -1.018636  1.331968  0.502126 -0.005587  \n",
       "1 -0.057982 -0.515886  0.859544  0.378656  0.303306  \n",
       "2  0.119126 -0.395318  1.134955 -0.326653  0.157859  \n",
       "3 -0.910097 -0.732791  0.366863  0.584376 -0.171481  \n",
       "4 -0.122752 -0.746413  0.754866  0.268109 -0.523803  \n",
       "5 -0.220068 -0.674808  0.997628  0.111707 -0.457278  \n",
       "6 -0.303730 -1.015588  1.334889  0.503644 -0.022480  \n",
       "7 -0.136039 -2.038073  0.420835  0.835099 -0.125490  \n",
       "8 -0.091644 -0.268837  0.890471 -0.268504 -0.128473  \n",
       "9  0.173746 -1.592165  0.661048  0.177235 -0.713160  \n",
       "\n",
       "[10 rows x 1554 columns]"
      ]
     },
     "execution_count": 4,
     "metadata": {},
     "output_type": "execute_result"
    }
   ],
   "source": [
    "%%time\n",
    "\n",
    "# Optionally the data can be saved to create a checkpoint\n",
    "\n",
    "# data.to_csv('data_features_full_wordembedding_elmo.csv', index = False)\n",
    "\n",
    "data = pd.read_csv('data_features_full_wordembedding_elmo.csv', nrows=500000, na_values=['nan'])\n",
    "\n",
    "data.head(10)"
   ]
  },
  {
   "cell_type": "code",
   "execution_count": 5,
   "id": "ideal-aaron",
   "metadata": {
    "id": "involved-senior"
   },
   "outputs": [
    {
     "name": "stdout",
     "output_type": "stream",
     "text": [
      "CPU times: user 1.99 s, sys: 1.43 s, total: 3.42 s\n",
      "Wall time: 3.46 s\n"
     ]
    },
    {
     "data": {
      "text/html": [
       "<div>\n",
       "<style scoped>\n",
       "    .dataframe tbody tr th:only-of-type {\n",
       "        vertical-align: middle;\n",
       "    }\n",
       "\n",
       "    .dataframe tbody tr th {\n",
       "        vertical-align: top;\n",
       "    }\n",
       "\n",
       "    .dataframe thead th {\n",
       "        text-align: right;\n",
       "    }\n",
       "</style>\n",
       "<table border=\"1\" class=\"dataframe\">\n",
       "  <thead>\n",
       "    <tr style=\"text-align: right;\">\n",
       "      <th></th>\n",
       "      <th>Label</th>\n",
       "      <th>pos</th>\n",
       "      <th>ent_type</th>\n",
       "      <th>is_alpha</th>\n",
       "      <th>is_ascii</th>\n",
       "      <th>is_digit</th>\n",
       "      <th>is_lower</th>\n",
       "      <th>is_upper</th>\n",
       "      <th>is_title</th>\n",
       "      <th>is_punct</th>\n",
       "      <th>...</th>\n",
       "      <th>1526</th>\n",
       "      <th>1527</th>\n",
       "      <th>1528</th>\n",
       "      <th>1529</th>\n",
       "      <th>1530</th>\n",
       "      <th>1531</th>\n",
       "      <th>1532</th>\n",
       "      <th>1533</th>\n",
       "      <th>1534</th>\n",
       "      <th>1535</th>\n",
       "    </tr>\n",
       "  </thead>\n",
       "  <tbody>\n",
       "    <tr>\n",
       "      <th>0</th>\n",
       "      <td>O</td>\n",
       "      <td>92</td>\n",
       "      <td>0</td>\n",
       "      <td>True</td>\n",
       "      <td>True</td>\n",
       "      <td>False</td>\n",
       "      <td>True</td>\n",
       "      <td>False</td>\n",
       "      <td>False</td>\n",
       "      <td>False</td>\n",
       "      <td>...</td>\n",
       "      <td>-0.362660</td>\n",
       "      <td>0.038647</td>\n",
       "      <td>-0.329854</td>\n",
       "      <td>0.507664</td>\n",
       "      <td>0.011485</td>\n",
       "      <td>-0.299479</td>\n",
       "      <td>-1.018636</td>\n",
       "      <td>1.331968</td>\n",
       "      <td>0.502126</td>\n",
       "      <td>-0.005587</td>\n",
       "    </tr>\n",
       "    <tr>\n",
       "      <th>1</th>\n",
       "      <td>O</td>\n",
       "      <td>90</td>\n",
       "      <td>0</td>\n",
       "      <td>True</td>\n",
       "      <td>True</td>\n",
       "      <td>False</td>\n",
       "      <td>True</td>\n",
       "      <td>False</td>\n",
       "      <td>False</td>\n",
       "      <td>False</td>\n",
       "      <td>...</td>\n",
       "      <td>0.136579</td>\n",
       "      <td>-0.087388</td>\n",
       "      <td>-0.565916</td>\n",
       "      <td>0.522235</td>\n",
       "      <td>-0.452233</td>\n",
       "      <td>-0.057982</td>\n",
       "      <td>-0.515886</td>\n",
       "      <td>0.859544</td>\n",
       "      <td>0.378656</td>\n",
       "      <td>0.303306</td>\n",
       "    </tr>\n",
       "    <tr>\n",
       "      <th>2</th>\n",
       "      <td>O</td>\n",
       "      <td>86</td>\n",
       "      <td>0</td>\n",
       "      <td>True</td>\n",
       "      <td>True</td>\n",
       "      <td>False</td>\n",
       "      <td>True</td>\n",
       "      <td>False</td>\n",
       "      <td>False</td>\n",
       "      <td>False</td>\n",
       "      <td>...</td>\n",
       "      <td>-0.169968</td>\n",
       "      <td>0.237214</td>\n",
       "      <td>-0.226488</td>\n",
       "      <td>0.113207</td>\n",
       "      <td>-0.221394</td>\n",
       "      <td>0.119126</td>\n",
       "      <td>-0.395318</td>\n",
       "      <td>1.134955</td>\n",
       "      <td>-0.326653</td>\n",
       "      <td>0.157859</td>\n",
       "    </tr>\n",
       "    <tr>\n",
       "      <th>3</th>\n",
       "      <td>O</td>\n",
       "      <td>100</td>\n",
       "      <td>0</td>\n",
       "      <td>True</td>\n",
       "      <td>True</td>\n",
       "      <td>False</td>\n",
       "      <td>True</td>\n",
       "      <td>False</td>\n",
       "      <td>False</td>\n",
       "      <td>False</td>\n",
       "      <td>...</td>\n",
       "      <td>0.004376</td>\n",
       "      <td>0.560592</td>\n",
       "      <td>-0.205904</td>\n",
       "      <td>0.210360</td>\n",
       "      <td>-0.490179</td>\n",
       "      <td>-0.910097</td>\n",
       "      <td>-0.732791</td>\n",
       "      <td>0.366863</td>\n",
       "      <td>0.584376</td>\n",
       "      <td>-0.171481</td>\n",
       "    </tr>\n",
       "    <tr>\n",
       "      <th>4</th>\n",
       "      <td>O</td>\n",
       "      <td>97</td>\n",
       "      <td>0</td>\n",
       "      <td>False</td>\n",
       "      <td>True</td>\n",
       "      <td>False</td>\n",
       "      <td>True</td>\n",
       "      <td>False</td>\n",
       "      <td>False</td>\n",
       "      <td>False</td>\n",
       "      <td>...</td>\n",
       "      <td>0.258308</td>\n",
       "      <td>-0.018983</td>\n",
       "      <td>-0.428032</td>\n",
       "      <td>0.907898</td>\n",
       "      <td>-0.095798</td>\n",
       "      <td>-0.122752</td>\n",
       "      <td>-0.746413</td>\n",
       "      <td>0.754866</td>\n",
       "      <td>0.268109</td>\n",
       "      <td>-0.523803</td>\n",
       "    </tr>\n",
       "    <tr>\n",
       "      <th>5</th>\n",
       "      <td>O</td>\n",
       "      <td>86</td>\n",
       "      <td>0</td>\n",
       "      <td>True</td>\n",
       "      <td>True</td>\n",
       "      <td>False</td>\n",
       "      <td>True</td>\n",
       "      <td>False</td>\n",
       "      <td>False</td>\n",
       "      <td>False</td>\n",
       "      <td>...</td>\n",
       "      <td>-0.244042</td>\n",
       "      <td>0.146873</td>\n",
       "      <td>-0.418024</td>\n",
       "      <td>0.068457</td>\n",
       "      <td>-0.217877</td>\n",
       "      <td>-0.220068</td>\n",
       "      <td>-0.674808</td>\n",
       "      <td>0.997628</td>\n",
       "      <td>0.111707</td>\n",
       "      <td>-0.457278</td>\n",
       "    </tr>\n",
       "    <tr>\n",
       "      <th>6</th>\n",
       "      <td>O</td>\n",
       "      <td>92</td>\n",
       "      <td>0</td>\n",
       "      <td>True</td>\n",
       "      <td>True</td>\n",
       "      <td>False</td>\n",
       "      <td>True</td>\n",
       "      <td>False</td>\n",
       "      <td>False</td>\n",
       "      <td>False</td>\n",
       "      <td>...</td>\n",
       "      <td>-0.365108</td>\n",
       "      <td>0.043319</td>\n",
       "      <td>-0.345948</td>\n",
       "      <td>0.509963</td>\n",
       "      <td>0.019733</td>\n",
       "      <td>-0.303730</td>\n",
       "      <td>-1.015588</td>\n",
       "      <td>1.334889</td>\n",
       "      <td>0.503644</td>\n",
       "      <td>-0.022480</td>\n",
       "    </tr>\n",
       "    <tr>\n",
       "      <th>7</th>\n",
       "      <td>O</td>\n",
       "      <td>92</td>\n",
       "      <td>0</td>\n",
       "      <td>True</td>\n",
       "      <td>True</td>\n",
       "      <td>False</td>\n",
       "      <td>True</td>\n",
       "      <td>False</td>\n",
       "      <td>False</td>\n",
       "      <td>False</td>\n",
       "      <td>...</td>\n",
       "      <td>1.109663</td>\n",
       "      <td>0.207417</td>\n",
       "      <td>0.261030</td>\n",
       "      <td>0.897862</td>\n",
       "      <td>-0.075947</td>\n",
       "      <td>-0.136039</td>\n",
       "      <td>-2.038073</td>\n",
       "      <td>0.420835</td>\n",
       "      <td>0.835099</td>\n",
       "      <td>-0.125490</td>\n",
       "    </tr>\n",
       "    <tr>\n",
       "      <th>8</th>\n",
       "      <td>O</td>\n",
       "      <td>89</td>\n",
       "      <td>0</td>\n",
       "      <td>True</td>\n",
       "      <td>True</td>\n",
       "      <td>False</td>\n",
       "      <td>True</td>\n",
       "      <td>False</td>\n",
       "      <td>False</td>\n",
       "      <td>False</td>\n",
       "      <td>...</td>\n",
       "      <td>-0.158997</td>\n",
       "      <td>-0.092389</td>\n",
       "      <td>-0.442418</td>\n",
       "      <td>-0.399130</td>\n",
       "      <td>-0.244655</td>\n",
       "      <td>-0.091644</td>\n",
       "      <td>-0.268837</td>\n",
       "      <td>0.890471</td>\n",
       "      <td>-0.268504</td>\n",
       "      <td>-0.128473</td>\n",
       "    </tr>\n",
       "    <tr>\n",
       "      <th>9</th>\n",
       "      <td>O</td>\n",
       "      <td>92</td>\n",
       "      <td>0</td>\n",
       "      <td>True</td>\n",
       "      <td>True</td>\n",
       "      <td>False</td>\n",
       "      <td>True</td>\n",
       "      <td>False</td>\n",
       "      <td>False</td>\n",
       "      <td>False</td>\n",
       "      <td>...</td>\n",
       "      <td>-0.280942</td>\n",
       "      <td>0.728471</td>\n",
       "      <td>0.065729</td>\n",
       "      <td>0.598478</td>\n",
       "      <td>-0.002546</td>\n",
       "      <td>0.173746</td>\n",
       "      <td>-1.592165</td>\n",
       "      <td>0.661048</td>\n",
       "      <td>0.177235</td>\n",
       "      <td>-0.713160</td>\n",
       "    </tr>\n",
       "  </tbody>\n",
       "</table>\n",
       "<p>10 rows × 1553 columns</p>\n",
       "</div>"
      ],
      "text/plain": [
       "  Label  pos  ent_type  is_alpha  is_ascii  is_digit  is_lower  is_upper  \\\n",
       "0     O   92         0      True      True     False      True     False   \n",
       "1     O   90         0      True      True     False      True     False   \n",
       "2     O   86         0      True      True     False      True     False   \n",
       "3     O  100         0      True      True     False      True     False   \n",
       "4     O   97         0     False      True     False      True     False   \n",
       "5     O   86         0      True      True     False      True     False   \n",
       "6     O   92         0      True      True     False      True     False   \n",
       "7     O   92         0      True      True     False      True     False   \n",
       "8     O   89         0      True      True     False      True     False   \n",
       "9     O   92         0      True      True     False      True     False   \n",
       "\n",
       "   is_title  is_punct  ...      1526      1527      1528      1529      1530  \\\n",
       "0     False     False  ... -0.362660  0.038647 -0.329854  0.507664  0.011485   \n",
       "1     False     False  ...  0.136579 -0.087388 -0.565916  0.522235 -0.452233   \n",
       "2     False     False  ... -0.169968  0.237214 -0.226488  0.113207 -0.221394   \n",
       "3     False     False  ...  0.004376  0.560592 -0.205904  0.210360 -0.490179   \n",
       "4     False     False  ...  0.258308 -0.018983 -0.428032  0.907898 -0.095798   \n",
       "5     False     False  ... -0.244042  0.146873 -0.418024  0.068457 -0.217877   \n",
       "6     False     False  ... -0.365108  0.043319 -0.345948  0.509963  0.019733   \n",
       "7     False     False  ...  1.109663  0.207417  0.261030  0.897862 -0.075947   \n",
       "8     False     False  ... -0.158997 -0.092389 -0.442418 -0.399130 -0.244655   \n",
       "9     False     False  ... -0.280942  0.728471  0.065729  0.598478 -0.002546   \n",
       "\n",
       "       1531      1532      1533      1534      1535  \n",
       "0 -0.299479 -1.018636  1.331968  0.502126 -0.005587  \n",
       "1 -0.057982 -0.515886  0.859544  0.378656  0.303306  \n",
       "2  0.119126 -0.395318  1.134955 -0.326653  0.157859  \n",
       "3 -0.910097 -0.732791  0.366863  0.584376 -0.171481  \n",
       "4 -0.122752 -0.746413  0.754866  0.268109 -0.523803  \n",
       "5 -0.220068 -0.674808  0.997628  0.111707 -0.457278  \n",
       "6 -0.303730 -1.015588  1.334889  0.503644 -0.022480  \n",
       "7 -0.136039 -2.038073  0.420835  0.835099 -0.125490  \n",
       "8 -0.091644 -0.268837  0.890471 -0.268504 -0.128473  \n",
       "9  0.173746 -1.592165  0.661048  0.177235 -0.713160  \n",
       "\n",
       "[10 rows x 1553 columns]"
      ]
     },
     "execution_count": 5,
     "metadata": {},
     "output_type": "execute_result"
    }
   ],
   "source": [
    "%%time\n",
    "\n",
    "# Replace NaN values with a \"0\"\n",
    "\n",
    "data = data.replace(np.nan, '0', regex=True)\n",
    "\n",
    "# We drop the token, as it is no longer needed for prediction\n",
    "data.drop('Token', axis=1, inplace=True)\n",
    "data.head(10)"
   ]
  },
  {
   "cell_type": "code",
   "execution_count": 6,
   "id": "married-leonard",
   "metadata": {
    "id": "cross-protocol"
   },
   "outputs": [
    {
     "name": "stdout",
     "output_type": "stream",
     "text": [
      "CPU times: user 43 s, sys: 26.5 s, total: 1min 9s\n",
      "Wall time: 1min 11s\n"
     ]
    }
   ],
   "source": [
    "%%time\n",
    "\n",
    "# 80% / 20% split\n",
    "# Train, Test = train_test_split(data1, test_size=0.2, shuffle=False)\n",
    "\n",
    "X = data.drop(['Label'],axis=1).values # independant features\n",
    "y = data['Label'].values # dependant variable\n",
    "\n",
    "X_train, X_test, y_train, y_test = train_test_split(X, y, test_size=0.2, shuffle=False)"
   ]
  },
  {
   "cell_type": "code",
   "execution_count": 7,
   "id": "qualified-threshold",
   "metadata": {
    "id": "infectious-certificate"
   },
   "outputs": [],
   "source": [
    "# Delete data to save memory\n",
    "\n",
    "del(data)"
   ]
  },
  {
   "cell_type": "code",
   "execution_count": 8,
   "id": "comic-taxation",
   "metadata": {
    "id": "finnish-pierce"
   },
   "outputs": [
    {
     "data": {
      "text/plain": [
       "((400000, 1552), (400000,))"
      ]
     },
     "execution_count": 8,
     "metadata": {},
     "output_type": "execute_result"
    }
   ],
   "source": [
    "X_train.shape, y_train.shape"
   ]
  },
  {
   "cell_type": "code",
   "execution_count": 9,
   "id": "nervous-mitchell",
   "metadata": {
    "id": "waiting-basics"
   },
   "outputs": [
    {
     "data": {
      "text/plain": [
       "((100000, 1552), (100000,))"
      ]
     },
     "execution_count": 9,
     "metadata": {},
     "output_type": "execute_result"
    }
   ],
   "source": [
    "X_test.shape, y_test.shape"
   ]
  },
  {
   "cell_type": "code",
   "execution_count": 10,
   "id": "dying-wildlife",
   "metadata": {
    "id": "prostate-equilibrium"
   },
   "outputs": [
    {
     "name": "stdout",
     "output_type": "stream",
     "text": [
      "CPU times: user 10 µs, sys: 2 µs, total: 12 µs\n",
      "Wall time: 23.1 µs\n"
     ]
    }
   ],
   "source": [
    "%%time\n",
    "\n",
    "max_iterations = 1000000000\n",
    "\n",
    "classifier = []\n",
    "accuracy = []\n",
    "precision = []\n",
    "recall = []\n",
    "f1 = []"
   ]
  },
  {
   "cell_type": "code",
   "execution_count": null,
   "id": "external-latin",
   "metadata": {},
   "outputs": [],
   "source": [
    "%%time\n",
    "# Baseline\n",
    "\n",
    "clf = DummyClassifier(strategy=\"uniform\", random_state=seed)\n",
    "\n",
    "\n",
    "# Model fit\n",
    "clf.fit(X_train, y_train)"
   ]
  },
  {
   "cell_type": "code",
   "execution_count": 11,
   "id": "running-comment",
   "metadata": {},
   "outputs": [],
   "source": [
    "# Optionally the data can be saved to create a checkpoint - Baseline\n",
    "\n",
    "import pickle\n",
    "\n",
    "f = open('elmo_baseline.pckl', 'wb')\n",
    "pickle.dump(clf, f)\n",
    "f.close()\n",
    "\n",
    "f = open('elmo_baseline.pckl', 'rb')\n",
    "clf = pickle.load(f)\n",
    "f.close()"
   ]
  },
  {
   "cell_type": "code",
   "execution_count": 12,
   "id": "suited-river",
   "metadata": {},
   "outputs": [
    {
     "name": "stdout",
     "output_type": "stream",
     "text": [
      "Accuracy: 0.16662\n",
      "Precision: 0.16669788143411368\n",
      "Recall: 0.16315833387324433\n",
      "F1_score: 0.05833372562723548\n"
     ]
    },
    {
     "data": {
      "image/png": "[encoded data removed]",
      "text/plain": [
       "<Figure size 432x288 with 2 Axes>"
      ]
     },
     "metadata": {
      "needs_background": "light"
     },
     "output_type": "display_data"
    },
    {
     "name": "stdout",
     "output_type": "stream",
     "text": [
      "                                 precision    recall  f1-score   support\n",
      "\n",
      "Demographic and Racial language       0.00      0.15      0.00        62\n",
      "             Exclusive language       0.00      0.13      0.00       160\n",
      "           Feminine-coded words       0.02      0.18      0.03      1656\n",
      "        LGBTQ-coloured language       0.00      0.20      0.00         5\n",
      "          Masculine-coded words       0.02      0.15      0.03      1758\n",
      "                              O       0.96      0.17      0.28     96359\n",
      "\n",
      "                       accuracy                           0.17    100000\n",
      "                      macro avg       0.17      0.16      0.06    100000\n",
      "                   weighted avg       0.93      0.17      0.27    100000\n",
      "\n"
     ]
    }
   ],
   "source": [
    "# Evaluation Baseline\n",
    "\n",
    "y_pred = clf.predict(X_test)\n",
    "\n",
    "print(\"Accuracy:\", accuracy_score(y_test, y_pred))\n",
    "print(\"Precision:\", precision_score(y_test, y_pred, average='macro',zero_division=0))\n",
    "print(\"Recall:\", recall_score(y_test, y_pred, average='macro'))\n",
    "print(\"F1_score:\", f1_score(y_test, y_pred, average='macro'))\n",
    "\n",
    "classifier.append(\"Baseline\")\n",
    "accuracy.append(accuracy_score(y_test, y_pred))\n",
    "precision.append(precision_score(y_test, y_pred, average='macro',zero_division=0))\n",
    "recall.append(recall_score(y_test, y_pred, average='macro'))\n",
    "f1.append(f1_score(y_test, y_pred, average='macro'))\n",
    "\n",
    "plot_confusion_matrix(clf, X_test, y_test, xticks_rotation='vertical')\n",
    "plt.show()\n",
    "\n",
    "print(classification_report(y_test,y_pred))"
   ]
  },
  {
   "cell_type": "code",
   "execution_count": null,
   "id": "classified-sauce",
   "metadata": {},
   "outputs": [],
   "source": [
    "%%time\n",
    "\n",
    "# Find optimal SVM parameters\n",
    "\n",
    "# from sklearn import svm\n",
    "# from sklearn.model_selection import GridSearchCV\n",
    "\n",
    "# Cs = [0.001, 0.01, 0.1, 1, 10]\n",
    "# gammas = [0.001, 0.01, 0.1, 1]\n",
    "# param_grid = {'C': Cs, 'gamma' : gammas, 'kernel': ('linear', 'rbf', 'poly', 'sigmoid')}\n",
    "# grid_search = GridSearchCV(svm.SVC(random_state=seed), param_grid, cv=10, n_jobs=-1)\n",
    "# grid_search.fit(X_train, y_train)\n",
    "# grid_search.best_params_\n",
    "\n",
    "# print(grid_search.best_params_)"
   ]
  },
  {
   "cell_type": "code",
   "execution_count": null,
   "id": "dress-contract",
   "metadata": {
    "id": "advised-excellence"
   },
   "outputs": [],
   "source": [
    "%%time\n",
    "# Support Vector Machine\n",
    "# best: {'C': 10, 'gamma': 1, 'kernel': 'rbf'}\n",
    "\n",
    "scoring = ['precision_macro', 'recall_macro', \"f1_macro\"]\n",
    "clf = svm.SVC(kernel='rbf', random_state=seed, max_iter=max_iterations, C=10, gamma=1)\n",
    "scores_SVM = cross_validate(clf, X_train, y_train, scoring = scoring, cv=10, n_jobs=-1)\n",
    "SVM_avg_precision = mean(scores_SVM['test_precision_macro'])\n",
    "SVM_avg_recall = mean(scores_SVM['test_recall_macro'])\n",
    "SVM_avg_f1 = mean(scores_SVM['test_f1_macro'])\n",
    "\n",
    "print(SVM_avg_precision)\n",
    "print(SVM_avg_recall)\n",
    "print(SVM_avg_f1)\n",
    "\n",
    "# Model fit\n",
    "clf.fit(X_train, y_train)"
   ]
  },
  {
   "cell_type": "code",
   "execution_count": 13,
   "id": "considerable-plastic",
   "metadata": {},
   "outputs": [],
   "source": [
    "# Optionally the data can be saved to create a checkpoint - SVM\n",
    "\n",
    "import pickle\n",
    "\n",
    "f = open('elmo_svm.pckl', 'wb')\n",
    "pickle.dump(clf, f)\n",
    "f.close()\n",
    "\n",
    "f = open('elmo_svm.pckl', 'rb')\n",
    "clf = pickle.load(f)\n",
    "f.close()"
   ]
  },
  {
   "cell_type": "code",
   "execution_count": 14,
   "id": "neutral-xerox",
   "metadata": {
    "id": "appropriate-penguin"
   },
   "outputs": [
    {
     "name": "stdout",
     "output_type": "stream",
     "text": [
      "Accuracy: 0.99648\n",
      "Precision: 0.9950376375976613\n",
      "Recall: 0.82015091583306\n",
      "F1_score: 0.8928811516791271\n"
     ]
    },
    {
     "data": {
      "image/png": "[encoded data removed]",
      "text/plain": [
       "<Figure size 432x288 with 2 Axes>"
      ]
     },
     "metadata": {
      "needs_background": "light"
     },
     "output_type": "display_data"
    },
    {
     "name": "stdout",
     "output_type": "stream",
     "text": [
      "                                 precision    recall  f1-score   support\n",
      "\n",
      "Demographic and Racial language       0.98      0.73      0.83        62\n",
      "             Exclusive language       1.00      0.76      0.87       160\n",
      "           Feminine-coded words       1.00      0.93      0.96      1656\n",
      "        LGBTQ-coloured language       1.00      0.60      0.75         5\n",
      "          Masculine-coded words       1.00      0.90      0.95      1758\n",
      "                              O       1.00      1.00      1.00     96359\n",
      "\n",
      "                       accuracy                           1.00    100000\n",
      "                      macro avg       1.00      0.82      0.89    100000\n",
      "                   weighted avg       1.00      1.00      1.00    100000\n",
      "\n"
     ]
    }
   ],
   "source": [
    "# Evaluation Support Vector Machine\n",
    "\n",
    "y_pred = clf.predict(X_test)\n",
    "\n",
    "print(\"Accuracy:\", accuracy_score(y_test, y_pred))\n",
    "print(\"Precision:\", precision_score(y_test, y_pred, average='macro',zero_division=0))\n",
    "print(\"Recall:\", recall_score(y_test, y_pred, average='macro'))\n",
    "print(\"F1_score:\", f1_score(y_test, y_pred, average='macro'))\n",
    "\n",
    "classifier.append(\"SVM\")\n",
    "accuracy.append(accuracy_score(y_test, y_pred))\n",
    "precision.append(precision_score(y_test, y_pred, average='macro',zero_division=0))\n",
    "recall.append(recall_score(y_test, y_pred, average='macro'))\n",
    "f1.append(f1_score(y_test, y_pred, average='macro'))\n",
    "\n",
    "plot_confusion_matrix(clf, X_test, y_test, xticks_rotation='vertical')\n",
    "plt.show()\n",
    "\n",
    "print(classification_report(y_test,y_pred))"
   ]
  },
  {
   "cell_type": "code",
   "execution_count": null,
   "id": "broad-hamburg",
   "metadata": {},
   "outputs": [],
   "source": [
    "%%time\n",
    "\n",
    "# Find optimal Logistic Regression settings\n",
    "\n",
    "# from sklearn import svm\n",
    "# from sklearn.model_selection import GridSearchCV\n",
    "\n",
    "# Cs = [0.001, 0.01, 0.1, 1, 10]\n",
    "# penaltys = ['l1', 'l2', 'elasticnet']\n",
    "# param_grid = {'C': Cs, 'penalty' : penaltys, 'solver': ('newton-cg', 'lbfgs', 'liblinear', 'sag', 'saga')}\n",
    "# grid_search = GridSearchCV(LogisticRegression(random_state=seed), param_grid, cv=10, n_jobs=-1)\n",
    "# grid_search.fit(X_train, y_train)\n",
    "# grid_search.best_params_\n",
    "\n",
    "# print(grid_search.best_params_)"
   ]
  },
  {
   "cell_type": "code",
   "execution_count": null,
   "id": "through-electricity",
   "metadata": {
    "id": "consolidated-springer"
   },
   "outputs": [],
   "source": [
    "%%time\n",
    "\n",
    "# Logistic Regression\n",
    "\n",
    "scoring = ['precision_macro', 'recall_macro', \"f1_macro\"]\n",
    "clf = LogisticRegression(solver='newton-cg', random_state=seed, max_iter=max_iterations)\n",
    "scores_LR = cross_validate(clf, X_train, y_train, scoring = scoring, cv=10, n_jobs=-1)\n",
    "LR_avg_precision = mean(scores_LR['test_precision_macro'])\n",
    "LR_avg_recall = mean(scores_LR['test_recall_macro'])\n",
    "LR_avg_f1 = mean(scores_LR['test_f1_macro'])\n",
    "\n",
    "print(LR_avg_precision)\n",
    "print(LR_avg_recall)\n",
    "print(LR_avg_f1)\n",
    "\n",
    "# Model fit\n",
    "clf.fit(X_train, y_train)"
   ]
  },
  {
   "cell_type": "code",
   "execution_count": 15,
   "id": "wired-average",
   "metadata": {},
   "outputs": [],
   "source": [
    "# Optionally the data can be saved to create a checkpoint - LR\n",
    "\n",
    "import pickle\n",
    "\n",
    "f = open('elmo_lr.pckl', 'wb')\n",
    "pickle.dump(clf, f)\n",
    "f.close()\n",
    "\n",
    "f = open('elmo_lr.pckl', 'rb')\n",
    "clf = pickle.load(f)\n",
    "f.close()"
   ]
  },
  {
   "cell_type": "code",
   "execution_count": 16,
   "id": "affiliated-yellow",
   "metadata": {},
   "outputs": [
    {
     "name": "stdout",
     "output_type": "stream",
     "text": [
      "Accuracy: 0.96359\n",
      "Precision: 0.16059833333333332\n",
      "Recall: 0.16666666666666666\n",
      "F1_score: 0.1635762387599584\n"
     ]
    },
    {
     "data": {
      "image/png": "[encoded data removed]",
      "text/plain": [
       "<Figure size 432x288 with 2 Axes>"
      ]
     },
     "metadata": {
      "needs_background": "light"
     },
     "output_type": "display_data"
    },
    {
     "name": "stderr",
     "output_type": "stream",
     "text": [
      "/opt/conda/lib/python3.9/site-packages/sklearn/metrics/_classification.py:1248: UndefinedMetricWarning: Precision and F-score are ill-defined and being set to 0.0 in labels with no predicted samples. Use `zero_division` parameter to control this behavior.\n",
      "  _warn_prf(average, modifier, msg_start, len(result))\n",
      "/opt/conda/lib/python3.9/site-packages/sklearn/metrics/_classification.py:1248: UndefinedMetricWarning: Precision and F-score are ill-defined and being set to 0.0 in labels with no predicted samples. Use `zero_division` parameter to control this behavior.\n",
      "  _warn_prf(average, modifier, msg_start, len(result))\n"
     ]
    },
    {
     "name": "stdout",
     "output_type": "stream",
     "text": [
      "                                 precision    recall  f1-score   support\n",
      "\n",
      "Demographic and Racial language       0.00      0.00      0.00        62\n",
      "             Exclusive language       0.00      0.00      0.00       160\n",
      "           Feminine-coded words       0.00      0.00      0.00      1656\n",
      "        LGBTQ-coloured language       0.00      0.00      0.00         5\n",
      "          Masculine-coded words       0.00      0.00      0.00      1758\n",
      "                              O       0.96      1.00      0.98     96359\n",
      "\n",
      "                       accuracy                           0.96    100000\n",
      "                      macro avg       0.16      0.17      0.16    100000\n",
      "                   weighted avg       0.93      0.96      0.95    100000\n",
      "\n"
     ]
    },
    {
     "name": "stderr",
     "output_type": "stream",
     "text": [
      "/opt/conda/lib/python3.9/site-packages/sklearn/metrics/_classification.py:1248: UndefinedMetricWarning: Precision and F-score are ill-defined and being set to 0.0 in labels with no predicted samples. Use `zero_division` parameter to control this behavior.\n",
      "  _warn_prf(average, modifier, msg_start, len(result))\n"
     ]
    }
   ],
   "source": [
    "# Evaluation Logistic Regression\n",
    "\n",
    "y_pred = clf.predict(X_test)\n",
    "\n",
    "print(\"Accuracy:\", accuracy_score(y_test, y_pred))\n",
    "print(\"Precision:\", precision_score(y_test, y_pred, average='macro',zero_division=0))\n",
    "print(\"Recall:\", recall_score(y_test, y_pred, average='macro'))\n",
    "print(\"F1_score:\", f1_score(y_test, y_pred, average='macro'))\n",
    "\n",
    "classifier.append(\"LR\")\n",
    "accuracy.append(accuracy_score(y_test, y_pred))\n",
    "precision.append(precision_score(y_test, y_pred, average='macro',zero_division=0))\n",
    "recall.append(recall_score(y_test, y_pred, average='macro'))\n",
    "f1.append(f1_score(y_test, y_pred, average='macro'))\n",
    "\n",
    "plot_confusion_matrix(clf, X_test, y_test, xticks_rotation='vertical')\n",
    "plt.show()\n",
    "\n",
    "print(classification_report(y_test,y_pred))"
   ]
  },
  {
   "cell_type": "code",
   "execution_count": null,
   "id": "alive-electron",
   "metadata": {
    "id": "elegant-destiny"
   },
   "outputs": [],
   "source": [
    "%%time\n",
    "\n",
    "# Decision Tree\n",
    "\n",
    "# Cross validation\n",
    "scoring = ['precision_macro', 'recall_macro', \"f1_macro\"]\n",
    "clf = DecisionTreeClassifier(random_state=seed)\n",
    "scores_DT = cross_validate(clf, X_train, y_train, scoring = scoring, cv=10, n_jobs=-1)\n",
    "DT_avg_precision = mean(scores_DT['test_precision_macro'])\n",
    "DT_avg_recall = mean(scores_DT['test_recall_macro'])\n",
    "DT_avg_f1 = mean(scores_DT['test_f1_macro'])\n",
    "\n",
    "print(DT_avg_precision)\n",
    "print(DT_avg_recall)\n",
    "print(DT_avg_f1)\n",
    "\n",
    "# Model fit\n",
    "clf.fit(X_train, y_train)"
   ]
  },
  {
   "cell_type": "code",
   "execution_count": 17,
   "id": "forced-hospital",
   "metadata": {},
   "outputs": [],
   "source": [
    "# Optionally the data can be saved to create a checkpoint - DT\n",
    "\n",
    "import pickle\n",
    "\n",
    "f = open('elmo_dt.pckl', 'wb')\n",
    "pickle.dump(clf, f)\n",
    "f.close()\n",
    "\n",
    "f = open('elmo_dt.pckl', 'rb')\n",
    "clf = pickle.load(f)\n",
    "f.close()"
   ]
  },
  {
   "cell_type": "code",
   "execution_count": 18,
   "id": "initial-smile",
   "metadata": {
    "id": "incorporated-baseball"
   },
   "outputs": [
    {
     "name": "stdout",
     "output_type": "stream",
     "text": [
      "Accuracy: 0.99871\n",
      "Precision: 0.9640454735653803\n",
      "Recall: 0.9225338524485386\n",
      "F1_score: 0.9345947304777206\n"
     ]
    },
    {
     "data": {
      "image/png": "[encoded data removed]",
      "text/plain": [
       "<Figure size 432x288 with 2 Axes>"
      ]
     },
     "metadata": {
      "needs_background": "light"
     },
     "output_type": "display_data"
    },
    {
     "name": "stdout",
     "output_type": "stream",
     "text": [
      "                                 precision    recall  f1-score   support\n",
      "\n",
      "Demographic and Racial language       0.94      0.97      0.95        62\n",
      "             Exclusive language       0.90      0.97      0.93       160\n",
      "           Feminine-coded words       0.99      1.00      0.99      1656\n",
      "        LGBTQ-coloured language       1.00      0.60      0.75         5\n",
      "          Masculine-coded words       0.96      1.00      0.98      1758\n",
      "                              O       1.00      1.00      1.00     96359\n",
      "\n",
      "                       accuracy                           1.00    100000\n",
      "                      macro avg       0.96      0.92      0.93    100000\n",
      "                   weighted avg       1.00      1.00      1.00    100000\n",
      "\n"
     ]
    }
   ],
   "source": [
    "# Evaluation Decision Tree\n",
    "\n",
    "y_pred = clf.predict(X_test)\n",
    "\n",
    "print(\"Accuracy:\", accuracy_score(y_test, y_pred))\n",
    "print(\"Precision:\", precision_score(y_test, y_pred, average='macro',zero_division=0))\n",
    "print(\"Recall:\", recall_score(y_test, y_pred, average='macro'))\n",
    "print(\"F1_score:\", f1_score(y_test, y_pred, average='macro'))\n",
    "\n",
    "classifier.append(\"DT\")\n",
    "accuracy.append(accuracy_score(y_test, y_pred))\n",
    "precision.append(precision_score(y_test, y_pred, average='macro',zero_division=0))\n",
    "recall.append(recall_score(y_test, y_pred, average='macro'))\n",
    "f1.append(f1_score(y_test, y_pred, average='macro'))\n",
    "\n",
    "plot_confusion_matrix(clf, X_test, y_test, xticks_rotation='vertical')\n",
    "plt.show()\n",
    "\n",
    "print(classification_report(y_test,y_pred))"
   ]
  },
  {
   "cell_type": "code",
   "execution_count": null,
   "id": "improved-drove",
   "metadata": {
    "id": "right-replacement"
   },
   "outputs": [],
   "source": [
    "%%time\n",
    "\n",
    "# Random Forest\n",
    "\n",
    "scoring = ['precision_macro', 'recall_macro', \"f1_macro\"]\n",
    "clf = RandomForestClassifier(random_state=seed)\n",
    "scores_RF = cross_validate(clf, X_train, y_train, scoring = scoring, cv=10, n_jobs=-1)\n",
    "RF_avg_precision = mean(scores_RF['test_precision_macro'])\n",
    "RF_avg_recall = mean(scores_RF['test_recall_macro'])\n",
    "RF_avg_f1 = mean(scores_RF['test_f1_macro'])\n",
    "\n",
    "print(RF_avg_precision)\n",
    "print(RF_avg_recall)\n",
    "print(RF_avg_f1)\n",
    "\n",
    "# Model fit\n",
    "clf.fit(X_train, y_train)"
   ]
  },
  {
   "cell_type": "code",
   "execution_count": 19,
   "id": "italic-bargain",
   "metadata": {},
   "outputs": [],
   "source": [
    "# Optionally the data can be saved to create a checkpoint - RF\n",
    "\n",
    "import pickle\n",
    "\n",
    "f = open('elmo_rf.pckl', 'wb')\n",
    "pickle.dump(clf, f)\n",
    "f.close()\n",
    "\n",
    "f = open('elmo_rf.pckl', 'rb')\n",
    "clf = pickle.load(f)\n",
    "f.close()"
   ]
  },
  {
   "cell_type": "code",
   "execution_count": 20,
   "id": "bright-parks",
   "metadata": {
    "id": "standing-crisis"
   },
   "outputs": [
    {
     "name": "stdout",
     "output_type": "stream",
     "text": [
      "Accuracy: 0.99981\n",
      "Precision: 0.9964698269307664\n",
      "Recall: 0.9245261689335983\n",
      "F1_score: 0.9521389390732861\n"
     ]
    },
    {
     "data": {
      "image/png": "[encoded data removed]",
      "text/plain": [
       "<Figure size 432x288 with 2 Axes>"
      ]
     },
     "metadata": {
      "needs_background": "light"
     },
     "output_type": "display_data"
    },
    {
     "name": "stdout",
     "output_type": "stream",
     "text": [
      "                                 precision    recall  f1-score   support\n",
      "\n",
      "Demographic and Racial language       0.98      0.97      0.98        62\n",
      "             Exclusive language       1.00      0.98      0.99       160\n",
      "           Feminine-coded words       1.00      1.00      1.00      1656\n",
      "        LGBTQ-coloured language       1.00      0.60      0.75         5\n",
      "          Masculine-coded words       1.00      1.00      1.00      1758\n",
      "                              O       1.00      1.00      1.00     96359\n",
      "\n",
      "                       accuracy                           1.00    100000\n",
      "                      macro avg       1.00      0.92      0.95    100000\n",
      "                   weighted avg       1.00      1.00      1.00    100000\n",
      "\n"
     ]
    }
   ],
   "source": [
    "# Evaluation Random Forest\n",
    "\n",
    "y_pred = clf.predict(X_test)\n",
    "\n",
    "print(\"Accuracy:\", accuracy_score(y_test, y_pred))\n",
    "print(\"Precision:\", precision_score(y_test, y_pred, average='macro',zero_division=0))\n",
    "print(\"Recall:\", recall_score(y_test, y_pred, average='macro'))\n",
    "print(\"F1_score:\", f1_score(y_test, y_pred, average='macro'))\n",
    "\n",
    "classifier.append(\"RF\")\n",
    "accuracy.append(accuracy_score(y_test, y_pred))\n",
    "precision.append(precision_score(y_test, y_pred, average='macro',zero_division=0))\n",
    "recall.append(recall_score(y_test, y_pred, average='macro'))\n",
    "f1.append(f1_score(y_test, y_pred, average='macro'))\n",
    "\n",
    "plot_confusion_matrix(clf, X_test, y_test, xticks_rotation='vertical')\n",
    "plt.show()\n",
    "\n",
    "print(classification_report(y_test,y_pred))"
   ]
  },
  {
   "cell_type": "code",
   "execution_count": null,
   "id": "loose-functionality",
   "metadata": {},
   "outputs": [],
   "source": [
    "%%time\n",
    "\n",
    "# Find optimal Neural network MLP settings\n",
    "\n",
    "# from sklearn import svm\n",
    "# from sklearn.model_selection import GridSearchCV\n",
    "\n",
    "# activations = ['identity', 'logistic', 'tanh', 'relu']\n",
    "# alphas = [0.0001, 0.001, 00.1, 0.1, 1]\n",
    "# param_grid = {'activation': activations, 'alpha' : alphas, 'solver': ('lbfgs', 'sgd', 'adam'), 'learning_rate': ('constant', 'invscaling', 'adaptive')}\n",
    "# grid_search = GridSearchCV(MLPClassifier(random_state=seed), param_grid, cv=10, n_jobs=-1)\n",
    "# grid_search.fit(X_train, y_train)\n",
    "# grid_search.best_params_\n",
    "\n",
    "# print(grid_search.best_params_)"
   ]
  },
  {
   "cell_type": "code",
   "execution_count": null,
   "id": "apart-lesbian",
   "metadata": {
    "id": "analyzed-system"
   },
   "outputs": [],
   "source": [
    "%%time\n",
    "\n",
    "# Neural network MLP\n",
    "\n",
    "scoring = ['precision_macro', 'recall_macro', \"f1_macro\"]\n",
    "clf = MLPClassifier(solver='adam', random_state=seed)\n",
    "scores_NN = cross_validate(clf, X_train, y_train, scoring = scoring, cv=10, n_jobs=-1)\n",
    "NN_avg_precision = mean(scores_NN['test_precision_macro'])\n",
    "NN_avg_recall = mean(scores_NN['test_recall_macro'])\n",
    "NN_avg_f1 = mean(scores_NN['test_f1_macro'])\n",
    "\n",
    "print(NN_avg_precision)\n",
    "print(NN_avg_recall)\n",
    "print(NN_avg_f1)\n",
    "\n",
    "# Model fit\n",
    "clf.fit(X_train, y_train)"
   ]
  },
  {
   "cell_type": "code",
   "execution_count": 21,
   "id": "facial-cincinnati",
   "metadata": {},
   "outputs": [],
   "source": [
    "# Optionally the data can be saved to create a checkpoint - MLP\n",
    "\n",
    "import pickle\n",
    "\n",
    "f = open('elmo_mlp.pckl', 'wb')\n",
    "pickle.dump(clf, f)\n",
    "f.close()\n",
    "\n",
    "f = open('elmo_mlp.pckl', 'rb')\n",
    "clf = pickle.load(f)\n",
    "f.close()"
   ]
  },
  {
   "cell_type": "code",
   "execution_count": 22,
   "id": "announced-pizza",
   "metadata": {
    "id": "australian-hours"
   },
   "outputs": [
    {
     "name": "stdout",
     "output_type": "stream",
     "text": [
      "Accuracy: 0.96359\n",
      "Precision: 0.16059833333333332\n",
      "Recall: 0.16666666666666666\n",
      "F1_score: 0.1635762387599584\n"
     ]
    },
    {
     "data": {
      "image/png": "[encoded data removed]",
      "text/plain": [
       "<Figure size 432x288 with 2 Axes>"
      ]
     },
     "metadata": {
      "needs_background": "light"
     },
     "output_type": "display_data"
    },
    {
     "name": "stderr",
     "output_type": "stream",
     "text": [
      "/opt/conda/lib/python3.9/site-packages/sklearn/metrics/_classification.py:1248: UndefinedMetricWarning: Precision and F-score are ill-defined and being set to 0.0 in labels with no predicted samples. Use `zero_division` parameter to control this behavior.\n",
      "  _warn_prf(average, modifier, msg_start, len(result))\n",
      "/opt/conda/lib/python3.9/site-packages/sklearn/metrics/_classification.py:1248: UndefinedMetricWarning: Precision and F-score are ill-defined and being set to 0.0 in labels with no predicted samples. Use `zero_division` parameter to control this behavior.\n",
      "  _warn_prf(average, modifier, msg_start, len(result))\n"
     ]
    },
    {
     "name": "stdout",
     "output_type": "stream",
     "text": [
      "                                 precision    recall  f1-score   support\n",
      "\n",
      "Demographic and Racial language       0.00      0.00      0.00        62\n",
      "             Exclusive language       0.00      0.00      0.00       160\n",
      "           Feminine-coded words       0.00      0.00      0.00      1656\n",
      "        LGBTQ-coloured language       0.00      0.00      0.00         5\n",
      "          Masculine-coded words       0.00      0.00      0.00      1758\n",
      "                              O       0.96      1.00      0.98     96359\n",
      "\n",
      "                       accuracy                           0.96    100000\n",
      "                      macro avg       0.16      0.17      0.16    100000\n",
      "                   weighted avg       0.93      0.96      0.95    100000\n",
      "\n"
     ]
    },
    {
     "name": "stderr",
     "output_type": "stream",
     "text": [
      "/opt/conda/lib/python3.9/site-packages/sklearn/metrics/_classification.py:1248: UndefinedMetricWarning: Precision and F-score are ill-defined and being set to 0.0 in labels with no predicted samples. Use `zero_division` parameter to control this behavior.\n",
      "  _warn_prf(average, modifier, msg_start, len(result))\n"
     ]
    }
   ],
   "source": [
    "# Evaluation Neural network MLP\n",
    "\n",
    "y_pred = clf.predict(X_test)\n",
    "\n",
    "print(\"Accuracy:\", accuracy_score(y_test, y_pred))\n",
    "print(\"Precision:\", precision_score(y_test, y_pred, average='macro',zero_division=0))\n",
    "print(\"Recall:\", recall_score(y_test, y_pred, average='macro'))\n",
    "print(\"F1_score:\", f1_score(y_test, y_pred, average='macro'))\n",
    "\n",
    "classifier.append(\"MLP\")\n",
    "accuracy.append(accuracy_score(y_test, y_pred))\n",
    "precision.append(precision_score(y_test, y_pred, average='macro',zero_division=0))\n",
    "recall.append(recall_score(y_test, y_pred, average='macro'))\n",
    "f1.append(f1_score(y_test, y_pred, average='macro'))\n",
    "\n",
    "plot_confusion_matrix(clf, X_test, y_test, xticks_rotation='vertical')\n",
    "plt.show()\n",
    "\n",
    "print(classification_report(y_test,y_pred))"
   ]
  },
  {
   "cell_type": "code",
   "execution_count": null,
   "id": "declared-illustration",
   "metadata": {
    "id": "failing-marking"
   },
   "outputs": [],
   "source": [
    "%%time\n",
    "\n",
    "# Naive Bayes\n",
    "\n",
    "scoring = ['precision_macro', 'recall_macro', \"f1_macro\"]\n",
    "clf = GaussianNB()\n",
    "scores_NB = cross_validate(clf, X_train, y_train, scoring = scoring, cv=10, n_jobs=-1)\n",
    "NB_avg_precision = mean(scores_NB['test_precision_macro'])\n",
    "NB_avg_recall = mean(scores_NB['test_recall_macro'])\n",
    "NB_avg_f1 = mean(scores_NB['test_f1_macro'])\n",
    "\n",
    "print(NB_avg_precision)\n",
    "print(NB_avg_recall)\n",
    "print(NB_avg_f1)\n",
    "\n",
    "# Model fit\n",
    "clf.fit(X_train, y_train)"
   ]
  },
  {
   "cell_type": "code",
   "execution_count": 23,
   "id": "yellow-landing",
   "metadata": {},
   "outputs": [],
   "source": [
    "# Optionally the data can be saved to create a checkpoint - NB\n",
    "\n",
    "import pickle\n",
    "\n",
    "f = open('elmo_nb.pckl', 'wb')\n",
    "pickle.dump(clf, f)\n",
    "f.close()\n",
    "\n",
    "f = open('elmo_nb.pckl', 'rb')\n",
    "clf = pickle.load(f)\n",
    "f.close()"
   ]
  },
  {
   "cell_type": "code",
   "execution_count": 24,
   "id": "oriental-wings",
   "metadata": {
    "id": "different-statement"
   },
   "outputs": [
    {
     "name": "stdout",
     "output_type": "stream",
     "text": [
      "Accuracy: 0.0166\n",
      "Precision: 0.16942677707108286\n",
      "Recall: 0.16667358523853507\n",
      "F1_score: 0.005444128152409039\n"
     ]
    },
    {
     "data": {
      "image/png": "[encoded data removed]",
      "text/plain": [
       "<Figure size 432x288 with 2 Axes>"
      ]
     },
     "metadata": {
      "needs_background": "light"
     },
     "output_type": "display_data"
    },
    {
     "name": "stderr",
     "output_type": "stream",
     "text": [
      "/opt/conda/lib/python3.9/site-packages/sklearn/metrics/_classification.py:1248: UndefinedMetricWarning: Precision and F-score are ill-defined and being set to 0.0 in labels with no predicted samples. Use `zero_division` parameter to control this behavior.\n",
      "  _warn_prf(average, modifier, msg_start, len(result))\n",
      "/opt/conda/lib/python3.9/site-packages/sklearn/metrics/_classification.py:1248: UndefinedMetricWarning: Precision and F-score are ill-defined and being set to 0.0 in labels with no predicted samples. Use `zero_division` parameter to control this behavior.\n",
      "  _warn_prf(average, modifier, msg_start, len(result))\n"
     ]
    },
    {
     "name": "stdout",
     "output_type": "stream",
     "text": [
      "                                 precision    recall  f1-score   support\n",
      "\n",
      "Demographic and Racial language       0.00      0.00      0.00        62\n",
      "             Exclusive language       0.00      0.00      0.00       160\n",
      "           Feminine-coded words       0.02      1.00      0.03      1656\n",
      "        LGBTQ-coloured language       0.00      0.00      0.00         5\n",
      "          Masculine-coded words       0.00      0.00      0.00      1758\n",
      "                              O       1.00      0.00      0.00     96359\n",
      "\n",
      "                       accuracy                           0.02    100000\n",
      "                      macro avg       0.17      0.17      0.01    100000\n",
      "                   weighted avg       0.96      0.02      0.00    100000\n",
      "\n"
     ]
    },
    {
     "name": "stderr",
     "output_type": "stream",
     "text": [
      "/opt/conda/lib/python3.9/site-packages/sklearn/metrics/_classification.py:1248: UndefinedMetricWarning: Precision and F-score are ill-defined and being set to 0.0 in labels with no predicted samples. Use `zero_division` parameter to control this behavior.\n",
      "  _warn_prf(average, modifier, msg_start, len(result))\n"
     ]
    }
   ],
   "source": [
    "# Evaluation Naive Bayes\n",
    "\n",
    "y_pred = clf.predict(X_test)\n",
    "\n",
    "print(\"Accuracy:\", accuracy_score(y_test, y_pred))\n",
    "print(\"Precision:\", precision_score(y_test, y_pred, average='macro',zero_division=0))\n",
    "print(\"Recall:\", recall_score(y_test, y_pred, average='macro'))\n",
    "print(\"F1_score:\", f1_score(y_test, y_pred, average='macro'))\n",
    "\n",
    "classifier.append(\"NB\")\n",
    "accuracy.append(accuracy_score(y_test, y_pred))\n",
    "precision.append(precision_score(y_test, y_pred, average='macro',zero_division=0))\n",
    "recall.append(recall_score(y_test, y_pred, average='macro'))\n",
    "f1.append(f1_score(y_test, y_pred, average='macro'))\n",
    "\n",
    "plot_confusion_matrix(clf, X_test, y_test, xticks_rotation='vertical')\n",
    "plt.show()\n",
    "\n",
    "print(classification_report(y_test,y_pred))"
   ]
  },
  {
   "cell_type": "code",
   "execution_count": 25,
   "id": "reasonable-photographer",
   "metadata": {},
   "outputs": [
    {
     "name": "stdout",
     "output_type": "stream",
     "text": [
      "  Classifier  Accuracy  Precision    Recall  F1-score\n",
      "4         RF   0.99981   0.996470  0.924526  0.952139\n",
      "3         DT   0.99871   0.964045  0.922534  0.934595\n",
      "1        SVM   0.99648   0.995038  0.820151  0.892881\n",
      "2         LR   0.96359   0.160598  0.166667  0.163576\n",
      "5        MLP   0.96359   0.160598  0.166667  0.163576\n",
      "0   Baseline   0.16662   0.166698  0.163158  0.058334\n",
      "6         NB   0.01660   0.169427  0.166674  0.005444\n"
     ]
    }
   ],
   "source": [
    "results = pd.DataFrame(zip(classifier, accuracy, precision, recall, f1), columns = ['Classifier', 'Accuracy', 'Precision', 'Recall', 'F1-score'])\n",
    "results = results.sort_values(by = \"F1-score\", ascending = False)\n",
    "\n",
    "f = open('elmo_results.pckl', 'wb')\n",
    "pickle.dump(results, f)\n",
    "f.close()\n",
    "\n",
    "f = open('elmo_results.pckl', 'rb')\n",
    "results = pickle.load(f)\n",
    "f.close()\n",
    "\n",
    "print(results)"
   ]
  },
  {
   "cell_type": "code",
   "execution_count": 26,
   "id": "forbidden-tissue",
   "metadata": {},
   "outputs": [],
   "source": [
    "# Save results dataframe\n",
    "\n",
    "results.to_csv('elmo_results.csv', index = False)"
   ]
  }
 ],
 "metadata": {
  "colab": {
   "name": "ELMo_Text_Classification.ipynb",
   "provenance": []
  },
  "kernelspec": {
   "display_name": "Python 3",
   "language": "python",
   "name": "python3"
  },
  "language_info": {
   "codemirror_mode": {
    "name": "ipython",
    "version": 3
   },
   "file_extension": ".py",
   "mimetype": "text/x-python",
   "name": "python",
   "nbconvert_exporter": "python",
   "pygments_lexer": "ipython3",
   "version": "3.9.0"
  }
 },
 "nbformat": 4,
 "nbformat_minor": 5
}
