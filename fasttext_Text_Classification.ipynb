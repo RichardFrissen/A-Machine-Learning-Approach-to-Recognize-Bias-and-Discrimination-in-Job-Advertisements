{
 "cells": [
  {
   "cell_type": "markdown",
   "id": "requested-waterproof",
   "metadata": {
    "id": "requested-waterproof"
   },
   "source": [
    "## 1. Import libraries and requirements"
   ]
  },
  {
   "cell_type": "code",
   "execution_count": 1,
   "id": "spiritual-strike",
   "metadata": {
    "id": "spiritual-strike"
   },
   "outputs": [
    {
     "name": "stderr",
     "output_type": "stream",
     "text": [
      "/opt/conda/lib/python3.9/site-packages/torch/cuda/__init__.py:52: UserWarning: CUDA initialization: Found no NVIDIA driver on your system. Please check that you have an NVIDIA GPU and installed a driver from http://www.nvidia.com/Download/index.aspx (Triggered internally at  /pytorch/c10/cuda/CUDAFunctions.cpp:100.)\n",
      "  return torch._C._cuda_getDeviceCount() > 0\n"
     ]
    }
   ],
   "source": [
    "# Loading required packages\n",
    "import spacy\n",
    "import pandas as pd\n",
    "import re\n",
    "# import gensim\n",
    "# import gensim.downloader\n",
    "# from gensim.models import Word2Vec\n",
    "# from gensim.test.utils import common_texts\n",
    "# from gensim.models import Word2Vec\n",
    "# from gensim.models.phrases import Phrases, Phraser\n",
    "# import nltk\n",
    "from numpy import mean\n",
    "from numpy import std\n",
    "from sklearn import svm\n",
    "from sklearn.linear_model import LogisticRegression\n",
    "from sklearn.linear_model import LogisticRegressionCV\n",
    "from sklearn.tree import DecisionTreeClassifier\n",
    "from sklearn.ensemble import RandomForestClassifier\n",
    "from sklearn.neighbors import KNeighborsClassifier\n",
    "from sklearn.naive_bayes import GaussianNB\n",
    "from sklearn.neural_network import MLPClassifier\n",
    "from sklearn import preprocessing\n",
    "from sklearn.metrics import accuracy_score\n",
    "from sklearn.metrics import precision_score\n",
    "from sklearn.metrics import f1_score\n",
    "from sklearn.metrics import recall_score\n",
    "from sklearn.metrics import confusion_matrix\n",
    "from sklearn.metrics import classification_report\n",
    "import matplotlib.pyplot as plt  \n",
    "from sklearn.metrics import plot_confusion_matrix\n",
    "from sklearn.datasets import make_classification\n",
    "from sklearn.model_selection import KFold\n",
    "from sklearn.model_selection import cross_validate\n",
    "from sklearn.model_selection import cross_val_score\n",
    "from sklearn.model_selection import train_test_split\n",
    "from sklearn.dummy import DummyClassifier\n",
    "from statistics import mean\n",
    "import json\n",
    "import csv\n",
    "import ast\n",
    "import numpy as np\n",
    "\n",
    "from flair.embeddings import WordEmbeddings\n",
    "from flair.data import Sentence\n",
    "from flair.embeddings import TransformerWordEmbeddings\n",
    "from flair.embeddings import FastTextEmbeddings\n",
    "\n",
    "# import fasttext\n",
    "# import fasttext.util\n",
    "# fasttext.util.download_model('en', if_exists='ignore')  # English\n",
    "\n",
    "from tqdm import tqdm\n",
    "\n",
    "# Set seed\n",
    "seed = np.random.seed(1)\n",
    "\n",
    "\n",
    "# Select Spacy model\n",
    "# Efficiency\n",
    "nlp = spacy.load(\"en_core_web_sm\")\n",
    "\n",
    "# Accuracy\n",
    "# nlp = spacy.load(\"en_core_web_trf\")\n",
    "\n",
    "# Change working directory\n",
    "# %cd '/Users/richardfrissen/Documents/Maastricht University/Thesis/Development/Datasets'"
   ]
  },
  {
   "cell_type": "code",
   "execution_count": null,
   "id": "sophisticated-fossil",
   "metadata": {
    "id": "sophisticated-fossil"
   },
   "outputs": [],
   "source": [
    "# Define columns and read annotated data\n",
    "columns = ['Token', 'Label', 'pos', 'ent_type', 'is_alpha', 'is_ascii', 'is_digit', 'is_lower', 'is_upper', 'is_title', 'is_punct', 'is_space', 'like_num', 'is_oov', 'is_stop', 'like_num', 'lang', 'sentiment']\n",
    "data = pd.read_csv('FULL_Annotation_data_output.tsv', sep='\\t', nrows=500000, header = None)"
   ]
  },
  {
   "cell_type": "code",
   "execution_count": null,
   "id": "seasonal-jenny",
   "metadata": {
    "id": "seasonal-jenny",
    "outputId": "add0a33e-bb6f-48fe-a929-5875179a8449"
   },
   "outputs": [],
   "source": [
    "%%time\n",
    "\n",
    "# Generate linguistic features for each token\n",
    "def feature_extraction(input_column):\n",
    "    features = [[],[],[],[],[],[],[],[],[],[],[],[],[],[],[],[]]\n",
    "    for i in tqdm(input_column):\n",
    "        i = str(i)\n",
    "        doc = nlp(i)\n",
    "        word = i\n",
    "        for token in doc:\n",
    "            features[0].append(token.pos)\n",
    "            features[1].append(token.ent_type)\n",
    "            features[2].append(token.is_alpha)\n",
    "            features[3].append(token.is_ascii)\n",
    "            features[4].append(token.is_digit)\n",
    "            features[5].append(token.is_lower)\n",
    "            features[6].append(token.is_upper)\n",
    "            features[7].append(token.is_title)\n",
    "            features[8].append(token.is_punct)\n",
    "            features[9].append(token.is_space)\n",
    "            features[10].append(token.like_num)\n",
    "            features[11].append(token.is_oov)\n",
    "            features[12].append(token.is_stop)\n",
    "            features[13].append(token.lang)\n",
    "            features[14].append(token.sentiment)\n",
    "            features[15].append(len(word))\n",
    "    return features\n",
    "\n",
    "features = feature_extraction(data[0])"
   ]
  },
  {
   "cell_type": "code",
   "execution_count": null,
   "id": "liked-harmony",
   "metadata": {
    "id": "liked-harmony",
    "outputId": "02bea751-66b0-43b2-ab33-0ce4f69f443a"
   },
   "outputs": [],
   "source": [
    "%%time\n",
    "\n",
    "# Convert list to dataframe\n",
    "features = pd.DataFrame(features)\n",
    "\n",
    "# We need to transpose this dataframe first\n",
    "features = features.transpose()\n",
    "\n",
    "# We concat the annotated data with the linguistic features\n",
    "data = pd.concat([data, features], axis=1)\n",
    "data.columns = ['Token', 'Label', 'pos', 'ent_type', 'is_alpha', 'is_ascii', 'is_digit', 'is_lower', 'is_upper', 'is_title', 'is_punct', 'is_space', 'like_num', 'is_oov', 'is_stop', 'lang', 'sentiment', 'word_length']\n",
    "\n",
    "data.head(10)"
   ]
  },
  {
   "cell_type": "code",
   "execution_count": null,
   "id": "unique-gender",
   "metadata": {
    "colab": {
     "base_uri": "https://localhost:8080/"
    },
    "id": "unique-gender",
    "outputId": "c33ba23d-c695-4e86-f726-f083cb3def9b"
   },
   "outputs": [],
   "source": [
    "# Optionally the data can be saved to create a checkpoint\n",
    "\n",
    "data.to_csv('data_features_full_dataset.csv', index = False)\n",
    "\n",
    "data = pd.read_csv('data_features_full_dataset.csv', nrows = 500000, header = 0)\n",
    "\n",
    "data.shape"
   ]
  },
  {
   "cell_type": "code",
   "execution_count": null,
   "id": "f1b3210d-6cc6-4fe2-b909-6f94e41f246f",
   "metadata": {
    "colab": {
     "base_uri": "https://localhost:8080/",
     "height": 473
    },
    "id": "f1b3210d-6cc6-4fe2-b909-6f94e41f246f",
    "outputId": "698cf32f-ed77-4518-89b0-b97cbae47a3d"
   },
   "outputs": [],
   "source": [
    "data.head(10)"
   ]
  },
  {
   "cell_type": "code",
   "execution_count": null,
   "id": "competent-click",
   "metadata": {
    "id": "competent-click",
    "tags": []
   },
   "outputs": [],
   "source": [
    "# init word embedding\n",
    "embedding = FastTextEmbeddings('cc.en.300.bin')"
   ]
  },
  {
   "cell_type": "code",
   "execution_count": null,
   "id": "adaptive-modification",
   "metadata": {
    "colab": {
     "base_uri": "https://localhost:8080/"
    },
    "id": "adaptive-modification",
    "outputId": "04990132-3993-4c46-d345-9b9d56046cb9"
   },
   "outputs": [],
   "source": [
    "%%time\n",
    "\n",
    "# Generate word embeddings for each token\n",
    "\n",
    "def fasttext_wordembed(input_column):\n",
    "    fasttext_result =[]\n",
    "    counter = 0\n",
    "    for i in tqdm(input_column):\n",
    "        counter = counter +1\n",
    "        try:\n",
    "            i = str(i)\n",
    "            token = Sentence(i)\n",
    "            embedding.embed(token)\n",
    "            for token in token:\n",
    "                result_array = token.embedding\n",
    "            result_list = result_array.tolist()\n",
    "            fasttext_result.append(result_list)\n",
    "        except KeyError:\n",
    "            fasttext_result.append(np.nan)\n",
    "        except TypeError: \n",
    "            fasttext_result.append(np.nan)\n",
    "        except IndexError:\n",
    "            fasttext_result.append(np.nan)\n",
    "\n",
    "    return fasttext_result\n",
    "\n",
    "\n",
    "# fasttext_Word_Embeddings\n",
    "word_embedding = fasttext_wordembed(data['Token'])"
   ]
  },
  {
   "cell_type": "code",
   "execution_count": null,
   "id": "divine-taxation",
   "metadata": {
    "colab": {
     "base_uri": "https://localhost:8080/"
    },
    "id": "divine-taxation",
    "outputId": "23b351b4-8689-4f95-b9a7-ac928d5201f6"
   },
   "outputs": [],
   "source": [
    "len(word_embedding)"
   ]
  },
  {
   "cell_type": "code",
   "execution_count": null,
   "id": "a651294c-5d6e-457c-b468-f6ce0d2c3971",
   "metadata": {
    "id": "a651294c-5d6e-457c-b468-f6ce0d2c3971"
   },
   "outputs": [],
   "source": [
    "# Optionally the data can be saved to create a checkpoint\n",
    "\n",
    "import pickle\n",
    "\n",
    "f = open('word_embedding_fasttext.pckl', 'wb')\n",
    "pickle.dump(word_embedding, f)\n",
    "f.close()\n",
    "\n",
    "f = open('word_embedding_fasttext.pckl', 'rb')\n",
    "word_embedding = pickle.load(f)\n",
    "f.close()"
   ]
  },
  {
   "cell_type": "code",
   "execution_count": null,
   "id": "established-guard",
   "metadata": {
    "colab": {
     "base_uri": "https://localhost:8080/"
    },
    "id": "established-guard",
    "outputId": "ae98c772-f71b-4551-9775-bfa016cdbd09"
   },
   "outputs": [],
   "source": [
    "%%time\n",
    "\n",
    "# Replace empty values in the list of word embeddings for words \n",
    "# we couldn't generate a word embedding for\n",
    "\n",
    "word_embedding_complete = []\n",
    "\n",
    "for i in tqdm(word_embedding):\n",
    "    try:\n",
    "        if len(i) == 0:\n",
    "            i = []\n",
    "        else:\n",
    "            i = i\n",
    "        word_embedding_complete.append(i)\n",
    "        \n",
    "    except TypeError:\n",
    "        i = []\n",
    "        word_embedding_complete.append(i)"
   ]
  },
  {
   "cell_type": "code",
   "execution_count": null,
   "id": "automated-armor",
   "metadata": {
    "id": "automated-armor",
    "outputId": "66a6d7cb-898d-4f90-b3d4-55fced99e230"
   },
   "outputs": [],
   "source": [
    "# Check and verify length\n",
    "# Length must be the same as the nrows of the dataframe\n",
    "\n",
    "len(word_embedding_complete)"
   ]
  },
  {
   "cell_type": "code",
   "execution_count": null,
   "id": "behavioral-harvard",
   "metadata": {
    "id": "behavioral-harvard",
    "outputId": "4720c742-345f-4b16-a493-4eec7bca1c2b"
   },
   "outputs": [],
   "source": [
    "%%time\n",
    "\n",
    "# Convert list to dataframe\n",
    "word_embedding_df = pd.DataFrame(word_embedding_complete)\n",
    "word_embedding_series = word_embedding_df.apply(pd.Series)\n",
    "\n",
    "# We concat the annotated data with the linguistic features\n",
    "data = pd.concat([data, word_embedding_series], axis=1)"
   ]
  },
  {
   "cell_type": "code",
   "execution_count": null,
   "id": "systematic-transcription",
   "metadata": {
    "id": "systematic-transcription",
    "outputId": "37c6269d-65e1-4e7c-d53b-7e99d766a054"
   },
   "outputs": [],
   "source": [
    "data.head(10)"
   ]
  },
  {
   "cell_type": "code",
   "execution_count": 2,
   "id": "ignored-christopher",
   "metadata": {
    "id": "ignored-christopher",
    "outputId": "be25a37f-df2e-4791-ed40-4ef9de4e7292"
   },
   "outputs": [
    {
     "name": "stdout",
     "output_type": "stream",
     "text": [
      "CPU times: user 28 s, sys: 2.54 s, total: 30.6 s\n",
      "Wall time: 34.2 s\n"
     ]
    },
    {
     "data": {
      "text/html": [
       "<div>\n",
       "<style scoped>\n",
       "    .dataframe tbody tr th:only-of-type {\n",
       "        vertical-align: middle;\n",
       "    }\n",
       "\n",
       "    .dataframe tbody tr th {\n",
       "        vertical-align: top;\n",
       "    }\n",
       "\n",
       "    .dataframe thead th {\n",
       "        text-align: right;\n",
       "    }\n",
       "</style>\n",
       "<table border=\"1\" class=\"dataframe\">\n",
       "  <thead>\n",
       "    <tr style=\"text-align: right;\">\n",
       "      <th></th>\n",
       "      <th>Token</th>\n",
       "      <th>Label</th>\n",
       "      <th>pos</th>\n",
       "      <th>ent_type</th>\n",
       "      <th>is_alpha</th>\n",
       "      <th>is_ascii</th>\n",
       "      <th>is_digit</th>\n",
       "      <th>is_lower</th>\n",
       "      <th>is_upper</th>\n",
       "      <th>is_title</th>\n",
       "      <th>...</th>\n",
       "      <th>290</th>\n",
       "      <th>291</th>\n",
       "      <th>292</th>\n",
       "      <th>293</th>\n",
       "      <th>294</th>\n",
       "      <th>295</th>\n",
       "      <th>296</th>\n",
       "      <th>297</th>\n",
       "      <th>298</th>\n",
       "      <th>299</th>\n",
       "    </tr>\n",
       "  </thead>\n",
       "  <tbody>\n",
       "    <tr>\n",
       "      <th>0</th>\n",
       "      <td>food</td>\n",
       "      <td>O</td>\n",
       "      <td>92</td>\n",
       "      <td>0</td>\n",
       "      <td>True</td>\n",
       "      <td>True</td>\n",
       "      <td>False</td>\n",
       "      <td>True</td>\n",
       "      <td>False</td>\n",
       "      <td>False</td>\n",
       "      <td>...</td>\n",
       "      <td>-0.039578</td>\n",
       "      <td>0.047575</td>\n",
       "      <td>-0.058627</td>\n",
       "      <td>0.046259</td>\n",
       "      <td>0.023654</td>\n",
       "      <td>0.051156</td>\n",
       "      <td>-0.025376</td>\n",
       "      <td>0.194072</td>\n",
       "      <td>0.064826</td>\n",
       "      <td>-0.043009</td>\n",
       "    </tr>\n",
       "    <tr>\n",
       "      <th>1</th>\n",
       "      <td>a</td>\n",
       "      <td>O</td>\n",
       "      <td>90</td>\n",
       "      <td>0</td>\n",
       "      <td>True</td>\n",
       "      <td>True</td>\n",
       "      <td>False</td>\n",
       "      <td>True</td>\n",
       "      <td>False</td>\n",
       "      <td>False</td>\n",
       "      <td>...</td>\n",
       "      <td>0.428693</td>\n",
       "      <td>0.140281</td>\n",
       "      <td>-0.160824</td>\n",
       "      <td>0.140865</td>\n",
       "      <td>0.010901</td>\n",
       "      <td>-0.006161</td>\n",
       "      <td>-0.024191</td>\n",
       "      <td>0.534851</td>\n",
       "      <td>-0.055810</td>\n",
       "      <td>-0.016598</td>\n",
       "    </tr>\n",
       "    <tr>\n",
       "      <th>2</th>\n",
       "      <td>fast</td>\n",
       "      <td>O</td>\n",
       "      <td>86</td>\n",
       "      <td>0</td>\n",
       "      <td>True</td>\n",
       "      <td>True</td>\n",
       "      <td>False</td>\n",
       "      <td>True</td>\n",
       "      <td>False</td>\n",
       "      <td>False</td>\n",
       "      <td>...</td>\n",
       "      <td>0.088452</td>\n",
       "      <td>0.049980</td>\n",
       "      <td>-0.188911</td>\n",
       "      <td>0.008010</td>\n",
       "      <td>0.005692</td>\n",
       "      <td>0.030967</td>\n",
       "      <td>0.088043</td>\n",
       "      <td>0.132366</td>\n",
       "      <td>-0.068855</td>\n",
       "      <td>-0.109943</td>\n",
       "    </tr>\n",
       "    <tr>\n",
       "      <th>3</th>\n",
       "      <td>grow</td>\n",
       "      <td>O</td>\n",
       "      <td>100</td>\n",
       "      <td>0</td>\n",
       "      <td>True</td>\n",
       "      <td>True</td>\n",
       "      <td>False</td>\n",
       "      <td>True</td>\n",
       "      <td>False</td>\n",
       "      <td>False</td>\n",
       "      <td>...</td>\n",
       "      <td>0.079889</td>\n",
       "      <td>-0.001241</td>\n",
       "      <td>-0.078710</td>\n",
       "      <td>0.056499</td>\n",
       "      <td>-0.040299</td>\n",
       "      <td>0.026815</td>\n",
       "      <td>0.016724</td>\n",
       "      <td>0.003833</td>\n",
       "      <td>0.141033</td>\n",
       "      <td>0.139362</td>\n",
       "    </tr>\n",
       "    <tr>\n",
       "      <th>4</th>\n",
       "      <td>-winne</td>\n",
       "      <td>O</td>\n",
       "      <td>97</td>\n",
       "      <td>0</td>\n",
       "      <td>False</td>\n",
       "      <td>True</td>\n",
       "      <td>False</td>\n",
       "      <td>True</td>\n",
       "      <td>False</td>\n",
       "      <td>False</td>\n",
       "      <td>...</td>\n",
       "      <td>0.026260</td>\n",
       "      <td>-0.142785</td>\n",
       "      <td>-0.139935</td>\n",
       "      <td>0.030903</td>\n",
       "      <td>0.135329</td>\n",
       "      <td>-0.037944</td>\n",
       "      <td>-0.159724</td>\n",
       "      <td>0.062729</td>\n",
       "      <td>-0.032213</td>\n",
       "      <td>-0.062005</td>\n",
       "    </tr>\n",
       "    <tr>\n",
       "      <th>5</th>\n",
       "      <td>online</td>\n",
       "      <td>O</td>\n",
       "      <td>86</td>\n",
       "      <td>0</td>\n",
       "      <td>True</td>\n",
       "      <td>True</td>\n",
       "      <td>False</td>\n",
       "      <td>True</td>\n",
       "      <td>False</td>\n",
       "      <td>False</td>\n",
       "      <td>...</td>\n",
       "      <td>-0.011911</td>\n",
       "      <td>0.032228</td>\n",
       "      <td>-0.046799</td>\n",
       "      <td>-0.049946</td>\n",
       "      <td>-0.098857</td>\n",
       "      <td>0.027563</td>\n",
       "      <td>0.032633</td>\n",
       "      <td>0.078089</td>\n",
       "      <td>-0.021893</td>\n",
       "      <td>0.010680</td>\n",
       "    </tr>\n",
       "    <tr>\n",
       "      <th>6</th>\n",
       "      <td>food</td>\n",
       "      <td>O</td>\n",
       "      <td>92</td>\n",
       "      <td>0</td>\n",
       "      <td>True</td>\n",
       "      <td>True</td>\n",
       "      <td>False</td>\n",
       "      <td>True</td>\n",
       "      <td>False</td>\n",
       "      <td>False</td>\n",
       "      <td>...</td>\n",
       "      <td>-0.039578</td>\n",
       "      <td>0.047575</td>\n",
       "      <td>-0.058627</td>\n",
       "      <td>0.046259</td>\n",
       "      <td>0.023654</td>\n",
       "      <td>0.051156</td>\n",
       "      <td>-0.025376</td>\n",
       "      <td>0.194072</td>\n",
       "      <td>0.064826</td>\n",
       "      <td>-0.043009</td>\n",
       "    </tr>\n",
       "    <tr>\n",
       "      <th>7</th>\n",
       "      <td>community</td>\n",
       "      <td>O</td>\n",
       "      <td>92</td>\n",
       "      <td>0</td>\n",
       "      <td>True</td>\n",
       "      <td>True</td>\n",
       "      <td>False</td>\n",
       "      <td>True</td>\n",
       "      <td>False</td>\n",
       "      <td>False</td>\n",
       "      <td>...</td>\n",
       "      <td>0.001633</td>\n",
       "      <td>0.012280</td>\n",
       "      <td>-0.018961</td>\n",
       "      <td>0.068939</td>\n",
       "      <td>-0.038316</td>\n",
       "      <td>0.001767</td>\n",
       "      <td>0.018424</td>\n",
       "      <td>0.039195</td>\n",
       "      <td>0.033368</td>\n",
       "      <td>0.054643</td>\n",
       "    </tr>\n",
       "    <tr>\n",
       "      <th>8</th>\n",
       "      <td>and</td>\n",
       "      <td>O</td>\n",
       "      <td>89</td>\n",
       "      <td>0</td>\n",
       "      <td>True</td>\n",
       "      <td>True</td>\n",
       "      <td>False</td>\n",
       "      <td>True</td>\n",
       "      <td>False</td>\n",
       "      <td>False</td>\n",
       "      <td>...</td>\n",
       "      <td>0.060722</td>\n",
       "      <td>-0.035507</td>\n",
       "      <td>-0.023820</td>\n",
       "      <td>-0.027755</td>\n",
       "      <td>-0.026023</td>\n",
       "      <td>-0.038051</td>\n",
       "      <td>-0.021103</td>\n",
       "      <td>-0.011591</td>\n",
       "      <td>-0.041129</td>\n",
       "      <td>0.036252</td>\n",
       "    </tr>\n",
       "    <tr>\n",
       "      <th>9</th>\n",
       "      <td>crowd</td>\n",
       "      <td>O</td>\n",
       "      <td>92</td>\n",
       "      <td>0</td>\n",
       "      <td>True</td>\n",
       "      <td>True</td>\n",
       "      <td>False</td>\n",
       "      <td>True</td>\n",
       "      <td>False</td>\n",
       "      <td>False</td>\n",
       "      <td>...</td>\n",
       "      <td>0.037642</td>\n",
       "      <td>-0.092540</td>\n",
       "      <td>-0.013170</td>\n",
       "      <td>0.092988</td>\n",
       "      <td>0.080099</td>\n",
       "      <td>-0.030800</td>\n",
       "      <td>0.069824</td>\n",
       "      <td>0.092307</td>\n",
       "      <td>-0.001399</td>\n",
       "      <td>-0.007892</td>\n",
       "    </tr>\n",
       "  </tbody>\n",
       "</table>\n",
       "<p>10 rows × 318 columns</p>\n",
       "</div>"
      ],
      "text/plain": [
       "       Token Label  pos  ent_type  is_alpha  is_ascii  is_digit  is_lower  \\\n",
       "0       food     O   92         0      True      True     False      True   \n",
       "1          a     O   90         0      True      True     False      True   \n",
       "2       fast     O   86         0      True      True     False      True   \n",
       "3       grow     O  100         0      True      True     False      True   \n",
       "4     -winne     O   97         0     False      True     False      True   \n",
       "5     online     O   86         0      True      True     False      True   \n",
       "6       food     O   92         0      True      True     False      True   \n",
       "7  community     O   92         0      True      True     False      True   \n",
       "8        and     O   89         0      True      True     False      True   \n",
       "9      crowd     O   92         0      True      True     False      True   \n",
       "\n",
       "   is_upper  is_title  ...       290       291       292       293       294  \\\n",
       "0     False     False  ... -0.039578  0.047575 -0.058627  0.046259  0.023654   \n",
       "1     False     False  ...  0.428693  0.140281 -0.160824  0.140865  0.010901   \n",
       "2     False     False  ...  0.088452  0.049980 -0.188911  0.008010  0.005692   \n",
       "3     False     False  ...  0.079889 -0.001241 -0.078710  0.056499 -0.040299   \n",
       "4     False     False  ...  0.026260 -0.142785 -0.139935  0.030903  0.135329   \n",
       "5     False     False  ... -0.011911  0.032228 -0.046799 -0.049946 -0.098857   \n",
       "6     False     False  ... -0.039578  0.047575 -0.058627  0.046259  0.023654   \n",
       "7     False     False  ...  0.001633  0.012280 -0.018961  0.068939 -0.038316   \n",
       "8     False     False  ...  0.060722 -0.035507 -0.023820 -0.027755 -0.026023   \n",
       "9     False     False  ...  0.037642 -0.092540 -0.013170  0.092988  0.080099   \n",
       "\n",
       "        295       296       297       298       299  \n",
       "0  0.051156 -0.025376  0.194072  0.064826 -0.043009  \n",
       "1 -0.006161 -0.024191  0.534851 -0.055810 -0.016598  \n",
       "2  0.030967  0.088043  0.132366 -0.068855 -0.109943  \n",
       "3  0.026815  0.016724  0.003833  0.141033  0.139362  \n",
       "4 -0.037944 -0.159724  0.062729 -0.032213 -0.062005  \n",
       "5  0.027563  0.032633  0.078089 -0.021893  0.010680  \n",
       "6  0.051156 -0.025376  0.194072  0.064826 -0.043009  \n",
       "7  0.001767  0.018424  0.039195  0.033368  0.054643  \n",
       "8 -0.038051 -0.021103 -0.011591 -0.041129  0.036252  \n",
       "9 -0.030800  0.069824  0.092307 -0.001399 -0.007892  \n",
       "\n",
       "[10 rows x 318 columns]"
      ]
     },
     "execution_count": 2,
     "metadata": {},
     "output_type": "execute_result"
    }
   ],
   "source": [
    "%%time\n",
    "\n",
    "# Optionally the data can be saved to create a checkpoint\n",
    "\n",
    "# data.to_csv('data_features_full_wordembedding_fasttext.csv', index = False)\n",
    "\n",
    "data = pd.read_csv('data_features_full_wordembedding_fasttext.csv', nrows = 500000, na_values=['nan'])\n",
    "\n",
    "data.head(10)"
   ]
  },
  {
   "cell_type": "code",
   "execution_count": 3,
   "id": "conceptual-housing",
   "metadata": {
    "id": "conceptual-housing"
   },
   "outputs": [
    {
     "name": "stdout",
     "output_type": "stream",
     "text": [
      "CPU times: user 400 ms, sys: 286 ms, total: 686 ms\n",
      "Wall time: 691 ms\n"
     ]
    },
    {
     "data": {
      "text/html": [
       "<div>\n",
       "<style scoped>\n",
       "    .dataframe tbody tr th:only-of-type {\n",
       "        vertical-align: middle;\n",
       "    }\n",
       "\n",
       "    .dataframe tbody tr th {\n",
       "        vertical-align: top;\n",
       "    }\n",
       "\n",
       "    .dataframe thead th {\n",
       "        text-align: right;\n",
       "    }\n",
       "</style>\n",
       "<table border=\"1\" class=\"dataframe\">\n",
       "  <thead>\n",
       "    <tr style=\"text-align: right;\">\n",
       "      <th></th>\n",
       "      <th>Label</th>\n",
       "      <th>pos</th>\n",
       "      <th>ent_type</th>\n",
       "      <th>is_alpha</th>\n",
       "      <th>is_ascii</th>\n",
       "      <th>is_digit</th>\n",
       "      <th>is_lower</th>\n",
       "      <th>is_upper</th>\n",
       "      <th>is_title</th>\n",
       "      <th>is_punct</th>\n",
       "      <th>...</th>\n",
       "      <th>290</th>\n",
       "      <th>291</th>\n",
       "      <th>292</th>\n",
       "      <th>293</th>\n",
       "      <th>294</th>\n",
       "      <th>295</th>\n",
       "      <th>296</th>\n",
       "      <th>297</th>\n",
       "      <th>298</th>\n",
       "      <th>299</th>\n",
       "    </tr>\n",
       "  </thead>\n",
       "  <tbody>\n",
       "    <tr>\n",
       "      <th>0</th>\n",
       "      <td>O</td>\n",
       "      <td>92</td>\n",
       "      <td>0</td>\n",
       "      <td>True</td>\n",
       "      <td>True</td>\n",
       "      <td>False</td>\n",
       "      <td>True</td>\n",
       "      <td>False</td>\n",
       "      <td>False</td>\n",
       "      <td>False</td>\n",
       "      <td>...</td>\n",
       "      <td>-0.039578</td>\n",
       "      <td>0.047575</td>\n",
       "      <td>-0.058627</td>\n",
       "      <td>0.046259</td>\n",
       "      <td>0.023654</td>\n",
       "      <td>0.051156</td>\n",
       "      <td>-0.025376</td>\n",
       "      <td>0.194072</td>\n",
       "      <td>0.064826</td>\n",
       "      <td>-0.043009</td>\n",
       "    </tr>\n",
       "    <tr>\n",
       "      <th>1</th>\n",
       "      <td>O</td>\n",
       "      <td>90</td>\n",
       "      <td>0</td>\n",
       "      <td>True</td>\n",
       "      <td>True</td>\n",
       "      <td>False</td>\n",
       "      <td>True</td>\n",
       "      <td>False</td>\n",
       "      <td>False</td>\n",
       "      <td>False</td>\n",
       "      <td>...</td>\n",
       "      <td>0.428693</td>\n",
       "      <td>0.140281</td>\n",
       "      <td>-0.160824</td>\n",
       "      <td>0.140865</td>\n",
       "      <td>0.010901</td>\n",
       "      <td>-0.006161</td>\n",
       "      <td>-0.024191</td>\n",
       "      <td>0.534851</td>\n",
       "      <td>-0.055810</td>\n",
       "      <td>-0.016598</td>\n",
       "    </tr>\n",
       "    <tr>\n",
       "      <th>2</th>\n",
       "      <td>O</td>\n",
       "      <td>86</td>\n",
       "      <td>0</td>\n",
       "      <td>True</td>\n",
       "      <td>True</td>\n",
       "      <td>False</td>\n",
       "      <td>True</td>\n",
       "      <td>False</td>\n",
       "      <td>False</td>\n",
       "      <td>False</td>\n",
       "      <td>...</td>\n",
       "      <td>0.088452</td>\n",
       "      <td>0.049980</td>\n",
       "      <td>-0.188911</td>\n",
       "      <td>0.008010</td>\n",
       "      <td>0.005692</td>\n",
       "      <td>0.030967</td>\n",
       "      <td>0.088043</td>\n",
       "      <td>0.132366</td>\n",
       "      <td>-0.068855</td>\n",
       "      <td>-0.109943</td>\n",
       "    </tr>\n",
       "    <tr>\n",
       "      <th>3</th>\n",
       "      <td>O</td>\n",
       "      <td>100</td>\n",
       "      <td>0</td>\n",
       "      <td>True</td>\n",
       "      <td>True</td>\n",
       "      <td>False</td>\n",
       "      <td>True</td>\n",
       "      <td>False</td>\n",
       "      <td>False</td>\n",
       "      <td>False</td>\n",
       "      <td>...</td>\n",
       "      <td>0.079889</td>\n",
       "      <td>-0.001241</td>\n",
       "      <td>-0.078710</td>\n",
       "      <td>0.056499</td>\n",
       "      <td>-0.040299</td>\n",
       "      <td>0.026815</td>\n",
       "      <td>0.016724</td>\n",
       "      <td>0.003833</td>\n",
       "      <td>0.141033</td>\n",
       "      <td>0.139362</td>\n",
       "    </tr>\n",
       "    <tr>\n",
       "      <th>4</th>\n",
       "      <td>O</td>\n",
       "      <td>97</td>\n",
       "      <td>0</td>\n",
       "      <td>False</td>\n",
       "      <td>True</td>\n",
       "      <td>False</td>\n",
       "      <td>True</td>\n",
       "      <td>False</td>\n",
       "      <td>False</td>\n",
       "      <td>False</td>\n",
       "      <td>...</td>\n",
       "      <td>0.026260</td>\n",
       "      <td>-0.142785</td>\n",
       "      <td>-0.139935</td>\n",
       "      <td>0.030903</td>\n",
       "      <td>0.135329</td>\n",
       "      <td>-0.037944</td>\n",
       "      <td>-0.159724</td>\n",
       "      <td>0.062729</td>\n",
       "      <td>-0.032213</td>\n",
       "      <td>-0.062005</td>\n",
       "    </tr>\n",
       "    <tr>\n",
       "      <th>5</th>\n",
       "      <td>O</td>\n",
       "      <td>86</td>\n",
       "      <td>0</td>\n",
       "      <td>True</td>\n",
       "      <td>True</td>\n",
       "      <td>False</td>\n",
       "      <td>True</td>\n",
       "      <td>False</td>\n",
       "      <td>False</td>\n",
       "      <td>False</td>\n",
       "      <td>...</td>\n",
       "      <td>-0.011911</td>\n",
       "      <td>0.032228</td>\n",
       "      <td>-0.046799</td>\n",
       "      <td>-0.049946</td>\n",
       "      <td>-0.098857</td>\n",
       "      <td>0.027563</td>\n",
       "      <td>0.032633</td>\n",
       "      <td>0.078089</td>\n",
       "      <td>-0.021893</td>\n",
       "      <td>0.010680</td>\n",
       "    </tr>\n",
       "    <tr>\n",
       "      <th>6</th>\n",
       "      <td>O</td>\n",
       "      <td>92</td>\n",
       "      <td>0</td>\n",
       "      <td>True</td>\n",
       "      <td>True</td>\n",
       "      <td>False</td>\n",
       "      <td>True</td>\n",
       "      <td>False</td>\n",
       "      <td>False</td>\n",
       "      <td>False</td>\n",
       "      <td>...</td>\n",
       "      <td>-0.039578</td>\n",
       "      <td>0.047575</td>\n",
       "      <td>-0.058627</td>\n",
       "      <td>0.046259</td>\n",
       "      <td>0.023654</td>\n",
       "      <td>0.051156</td>\n",
       "      <td>-0.025376</td>\n",
       "      <td>0.194072</td>\n",
       "      <td>0.064826</td>\n",
       "      <td>-0.043009</td>\n",
       "    </tr>\n",
       "    <tr>\n",
       "      <th>7</th>\n",
       "      <td>O</td>\n",
       "      <td>92</td>\n",
       "      <td>0</td>\n",
       "      <td>True</td>\n",
       "      <td>True</td>\n",
       "      <td>False</td>\n",
       "      <td>True</td>\n",
       "      <td>False</td>\n",
       "      <td>False</td>\n",
       "      <td>False</td>\n",
       "      <td>...</td>\n",
       "      <td>0.001633</td>\n",
       "      <td>0.012280</td>\n",
       "      <td>-0.018961</td>\n",
       "      <td>0.068939</td>\n",
       "      <td>-0.038316</td>\n",
       "      <td>0.001767</td>\n",
       "      <td>0.018424</td>\n",
       "      <td>0.039195</td>\n",
       "      <td>0.033368</td>\n",
       "      <td>0.054643</td>\n",
       "    </tr>\n",
       "    <tr>\n",
       "      <th>8</th>\n",
       "      <td>O</td>\n",
       "      <td>89</td>\n",
       "      <td>0</td>\n",
       "      <td>True</td>\n",
       "      <td>True</td>\n",
       "      <td>False</td>\n",
       "      <td>True</td>\n",
       "      <td>False</td>\n",
       "      <td>False</td>\n",
       "      <td>False</td>\n",
       "      <td>...</td>\n",
       "      <td>0.060722</td>\n",
       "      <td>-0.035507</td>\n",
       "      <td>-0.023820</td>\n",
       "      <td>-0.027755</td>\n",
       "      <td>-0.026023</td>\n",
       "      <td>-0.038051</td>\n",
       "      <td>-0.021103</td>\n",
       "      <td>-0.011591</td>\n",
       "      <td>-0.041129</td>\n",
       "      <td>0.036252</td>\n",
       "    </tr>\n",
       "    <tr>\n",
       "      <th>9</th>\n",
       "      <td>O</td>\n",
       "      <td>92</td>\n",
       "      <td>0</td>\n",
       "      <td>True</td>\n",
       "      <td>True</td>\n",
       "      <td>False</td>\n",
       "      <td>True</td>\n",
       "      <td>False</td>\n",
       "      <td>False</td>\n",
       "      <td>False</td>\n",
       "      <td>...</td>\n",
       "      <td>0.037642</td>\n",
       "      <td>-0.092540</td>\n",
       "      <td>-0.013170</td>\n",
       "      <td>0.092988</td>\n",
       "      <td>0.080099</td>\n",
       "      <td>-0.030800</td>\n",
       "      <td>0.069824</td>\n",
       "      <td>0.092307</td>\n",
       "      <td>-0.001399</td>\n",
       "      <td>-0.007892</td>\n",
       "    </tr>\n",
       "  </tbody>\n",
       "</table>\n",
       "<p>10 rows × 317 columns</p>\n",
       "</div>"
      ],
      "text/plain": [
       "  Label  pos  ent_type  is_alpha  is_ascii  is_digit  is_lower  is_upper  \\\n",
       "0     O   92         0      True      True     False      True     False   \n",
       "1     O   90         0      True      True     False      True     False   \n",
       "2     O   86         0      True      True     False      True     False   \n",
       "3     O  100         0      True      True     False      True     False   \n",
       "4     O   97         0     False      True     False      True     False   \n",
       "5     O   86         0      True      True     False      True     False   \n",
       "6     O   92         0      True      True     False      True     False   \n",
       "7     O   92         0      True      True     False      True     False   \n",
       "8     O   89         0      True      True     False      True     False   \n",
       "9     O   92         0      True      True     False      True     False   \n",
       "\n",
       "   is_title  is_punct  ...       290       291       292       293       294  \\\n",
       "0     False     False  ... -0.039578  0.047575 -0.058627  0.046259  0.023654   \n",
       "1     False     False  ...  0.428693  0.140281 -0.160824  0.140865  0.010901   \n",
       "2     False     False  ...  0.088452  0.049980 -0.188911  0.008010  0.005692   \n",
       "3     False     False  ...  0.079889 -0.001241 -0.078710  0.056499 -0.040299   \n",
       "4     False     False  ...  0.026260 -0.142785 -0.139935  0.030903  0.135329   \n",
       "5     False     False  ... -0.011911  0.032228 -0.046799 -0.049946 -0.098857   \n",
       "6     False     False  ... -0.039578  0.047575 -0.058627  0.046259  0.023654   \n",
       "7     False     False  ...  0.001633  0.012280 -0.018961  0.068939 -0.038316   \n",
       "8     False     False  ...  0.060722 -0.035507 -0.023820 -0.027755 -0.026023   \n",
       "9     False     False  ...  0.037642 -0.092540 -0.013170  0.092988  0.080099   \n",
       "\n",
       "        295       296       297       298       299  \n",
       "0  0.051156 -0.025376  0.194072  0.064826 -0.043009  \n",
       "1 -0.006161 -0.024191  0.534851 -0.055810 -0.016598  \n",
       "2  0.030967  0.088043  0.132366 -0.068855 -0.109943  \n",
       "3  0.026815  0.016724  0.003833  0.141033  0.139362  \n",
       "4 -0.037944 -0.159724  0.062729 -0.032213 -0.062005  \n",
       "5  0.027563  0.032633  0.078089 -0.021893  0.010680  \n",
       "6  0.051156 -0.025376  0.194072  0.064826 -0.043009  \n",
       "7  0.001767  0.018424  0.039195  0.033368  0.054643  \n",
       "8 -0.038051 -0.021103 -0.011591 -0.041129  0.036252  \n",
       "9 -0.030800  0.069824  0.092307 -0.001399 -0.007892  \n",
       "\n",
       "[10 rows x 317 columns]"
      ]
     },
     "execution_count": 3,
     "metadata": {},
     "output_type": "execute_result"
    }
   ],
   "source": [
    "%%time\n",
    "\n",
    "# Replace NaN values with a \"0\"\n",
    "\n",
    "data = data.replace(np.nan, '0', regex=True)\n",
    "\n",
    "# We drop the token, as it is no longer needed for prediction\n",
    "data.drop('Token', axis=1, inplace=True)\n",
    "data.head(10)"
   ]
  },
  {
   "cell_type": "code",
   "execution_count": 4,
   "id": "champion-finger",
   "metadata": {
    "id": "champion-finger"
   },
   "outputs": [
    {
     "name": "stdout",
     "output_type": "stream",
     "text": [
      "CPU times: user 4.76 s, sys: 3.43 s, total: 8.19 s\n",
      "Wall time: 8.35 s\n"
     ]
    }
   ],
   "source": [
    "%%time\n",
    "\n",
    "# 80% / 20% split\n",
    "# Train, Test = train_test_split(data1, test_size=0.2, shuffle=False)\n",
    "\n",
    "X = data.drop(['Label'],axis=1).values # independant features\n",
    "y = data['Label'].values # dependant variable\n",
    "\n",
    "X_train, X_test, y_train, y_test = train_test_split(X, y, test_size=0.2, shuffle=False)"
   ]
  },
  {
   "cell_type": "code",
   "execution_count": 5,
   "id": "dietary-irish",
   "metadata": {
    "id": "dietary-irish"
   },
   "outputs": [],
   "source": [
    "# Delete data to save memory\n",
    "\n",
    "del(data)"
   ]
  },
  {
   "cell_type": "code",
   "execution_count": 6,
   "id": "isolated-albert",
   "metadata": {
    "id": "isolated-albert"
   },
   "outputs": [
    {
     "data": {
      "text/plain": [
       "((400000, 316), (400000,))"
      ]
     },
     "execution_count": 6,
     "metadata": {},
     "output_type": "execute_result"
    }
   ],
   "source": [
    "X_train.shape, y_train.shape"
   ]
  },
  {
   "cell_type": "code",
   "execution_count": 7,
   "id": "removable-fundamental",
   "metadata": {
    "id": "removable-fundamental"
   },
   "outputs": [
    {
     "data": {
      "text/plain": [
       "((100000, 316), (100000,))"
      ]
     },
     "execution_count": 7,
     "metadata": {},
     "output_type": "execute_result"
    }
   ],
   "source": [
    "X_test.shape, y_test.shape"
   ]
  },
  {
   "cell_type": "code",
   "execution_count": 8,
   "id": "proud-upgrade",
   "metadata": {
    "id": "proud-upgrade"
   },
   "outputs": [
    {
     "name": "stdout",
     "output_type": "stream",
     "text": [
      "CPU times: user 7 µs, sys: 4 µs, total: 11 µs\n",
      "Wall time: 21.7 µs\n"
     ]
    }
   ],
   "source": [
    "%%time\n",
    "\n",
    "max_iterations = 1000000000\n",
    "\n",
    "classifier = []\n",
    "accuracy = []\n",
    "precision = []\n",
    "recall = []\n",
    "f1 = []"
   ]
  },
  {
   "cell_type": "code",
   "execution_count": 9,
   "id": "3dd41a06-371b-42a7-895c-39d1399f62dc",
   "metadata": {},
   "outputs": [
    {
     "name": "stdout",
     "output_type": "stream",
     "text": [
      "CPU times: user 207 ms, sys: 5.13 ms, total: 213 ms\n",
      "Wall time: 218 ms\n"
     ]
    },
    {
     "data": {
      "text/plain": [
       "DummyClassifier(strategy='uniform')"
      ]
     },
     "execution_count": 9,
     "metadata": {},
     "output_type": "execute_result"
    }
   ],
   "source": [
    "%%time\n",
    "# Baseline\n",
    "\n",
    "clf = DummyClassifier(strategy=\"uniform\", random_state=seed)\n",
    "\n",
    "\n",
    "# Model fit\n",
    "clf.fit(X_train, y_train)"
   ]
  },
  {
   "cell_type": "code",
   "execution_count": 10,
   "id": "fb4a8016-940e-4d40-a7a8-5a3ff0b72268",
   "metadata": {},
   "outputs": [],
   "source": [
    "# Optionally the data can be saved to create a checkpoint - Baseline\n",
    "\n",
    "import pickle\n",
    "\n",
    "f = open('fasttext_baseline.pckl', 'wb')\n",
    "pickle.dump(clf, f)\n",
    "f.close()\n",
    "\n",
    "f = open('fasttext_baseline.pckl', 'rb')\n",
    "clf = pickle.load(f)\n",
    "f.close()"
   ]
  },
  {
   "cell_type": "code",
   "execution_count": 11,
   "id": "d5f55a2b-182d-48c6-bb4a-c340ef4b61ce",
   "metadata": {},
   "outputs": [
    {
     "name": "stdout",
     "output_type": "stream",
     "text": [
      "Accuracy: 0.16662\n",
      "Precision: 0.16669788143411368\n",
      "Recall: 0.16315833387324433\n",
      "F1_score: 0.05833372562723548\n"
     ]
    },
    {
     "data": {
      "image/png": "[encoded data removed]",
      "text/plain": [
       "<Figure size 432x288 with 2 Axes>"
      ]
     },
     "metadata": {
      "needs_background": "light"
     },
     "output_type": "display_data"
    },
    {
     "name": "stdout",
     "output_type": "stream",
     "text": [
      "                                 precision    recall  f1-score   support\n",
      "\n",
      "Demographic and Racial language       0.00      0.15      0.00        62\n",
      "             Exclusive language       0.00      0.13      0.00       160\n",
      "           Feminine-coded words       0.02      0.18      0.03      1656\n",
      "        LGBTQ-coloured language       0.00      0.20      0.00         5\n",
      "          Masculine-coded words       0.02      0.15      0.03      1758\n",
      "                              O       0.96      0.17      0.28     96359\n",
      "\n",
      "                       accuracy                           0.17    100000\n",
      "                      macro avg       0.17      0.16      0.06    100000\n",
      "                   weighted avg       0.93      0.17      0.27    100000\n",
      "\n"
     ]
    }
   ],
   "source": [
    "# Evaluation Baseline\n",
    "\n",
    "y_pred = clf.predict(X_test)\n",
    "\n",
    "print(\"Accuracy:\", accuracy_score(y_test, y_pred))\n",
    "print(\"Precision:\", precision_score(y_test, y_pred, average='macro',zero_division=0))\n",
    "print(\"Recall:\", recall_score(y_test, y_pred, average='macro'))\n",
    "print(\"F1_score:\", f1_score(y_test, y_pred, average='macro'))\n",
    "\n",
    "classifier.append(\"Baseline\")\n",
    "accuracy.append(accuracy_score(y_test, y_pred))\n",
    "precision.append(precision_score(y_test, y_pred, average='macro',zero_division=0))\n",
    "recall.append(recall_score(y_test, y_pred, average='macro'))\n",
    "f1.append(f1_score(y_test, y_pred, average='macro'))\n",
    "\n",
    "plot_confusion_matrix(clf, X_test, y_test, xticks_rotation='vertical')\n",
    "plt.show()\n",
    "\n",
    "print(classification_report(y_test,y_pred))"
   ]
  },
  {
   "cell_type": "code",
   "execution_count": 9,
   "id": "50e15a10-ce2a-4245-baca-f2c0fc59ee8f",
   "metadata": {},
   "outputs": [
    {
     "name": "stdout",
     "output_type": "stream",
     "text": [
      "CPU times: user 6 µs, sys: 4 µs, total: 10 µs\n",
      "Wall time: 20 µs\n"
     ]
    }
   ],
   "source": [
    "%%time\n",
    "\n",
    "# Find optimal SVM parameters\n",
    "\n",
    "# from sklearn import svm\n",
    "# from sklearn.model_selection import GridSearchCV\n",
    "\n",
    "# Cs = [0.001, 0.01, 0.1, 1, 10]\n",
    "# gammas = [0.001, 0.01, 0.1, 1]\n",
    "# param_grid = {'C': Cs, 'gamma' : gammas, 'kernel': ('linear', 'rbf', 'poly', 'sigmoid')}\n",
    "# grid_search = GridSearchCV(svm.SVC(random_state=seed), param_grid, cv=10, n_jobs=-1)\n",
    "# grid_search.fit(X_train, y_train)\n",
    "# grid_search.best_params_\n",
    "\n",
    "# print(grid_search.best_params_)"
   ]
  },
  {
   "cell_type": "code",
   "execution_count": 10,
   "id": "electronic-serum",
   "metadata": {
    "id": "electronic-serum"
   },
   "outputs": [
    {
     "name": "stdout",
     "output_type": "stream",
     "text": [
      "0.18779070076944282\n",
      "0.43055616287124693\n",
      "0.10323267237846241\n",
      "CPU times: user 45min 5s, sys: 1min 8s, total: 46min 14s\n",
      "Wall time: 1h 46min 51s\n"
     ]
    },
    {
     "data": {
      "text/plain": [
       "SVC(C=10, gamma=1, max_iter=1000000000)"
      ]
     },
     "execution_count": 10,
     "metadata": {},
     "output_type": "execute_result"
    }
   ],
   "source": [
    "%%time\n",
    "# Support Vector Machine\n",
    "# best: {'C': 10, 'gamma': 1, 'kernel': 'rbf'}\n",
    "\n",
    "scoring = ['precision_macro', 'recall_macro', \"f1_macro\"]\n",
    "clf = svm.SVC(kernel='rbf', random_state=seed, max_iter=max_iterations, C=10, gamma=1)\n",
    "scores_SVM = cross_validate(clf, X_train, y_train, scoring = scoring, cv=10, n_jobs=-1)\n",
    "SVM_avg_precision = mean(scores_SVM['test_precision_macro'])\n",
    "SVM_avg_recall = mean(scores_SVM['test_recall_macro'])\n",
    "SVM_avg_f1 = mean(scores_SVM['test_f1_macro'])\n",
    "\n",
    "print(SVM_avg_precision)\n",
    "print(SVM_avg_recall)\n",
    "print(SVM_avg_f1)\n",
    "\n",
    "# Model fit\n",
    "clf.fit(X_train, y_train)"
   ]
  },
  {
   "cell_type": "code",
   "execution_count": 12,
   "id": "double-august",
   "metadata": {
    "id": "double-august"
   },
   "outputs": [],
   "source": [
    "# Optionally the data can be saved to create a checkpoint - SVM\n",
    "\n",
    "import pickle\n",
    "\n",
    "f = open('fasttext_svm.pckl', 'wb')\n",
    "pickle.dump(clf, f)\n",
    "f.close()\n",
    "\n",
    "f = open('fasttext_svm.pckl', 'rb')\n",
    "clf = pickle.load(f)\n",
    "f.close()"
   ]
  },
  {
   "cell_type": "code",
   "execution_count": 13,
   "id": "compound-antibody",
   "metadata": {
    "id": "compound-antibody"
   },
   "outputs": [
    {
     "name": "stdout",
     "output_type": "stream",
     "text": [
      "Accuracy: 0.2625\n",
      "Precision: 0.1883795941324606\n",
      "Recall: 0.3991002779502209\n",
      "F1_score: 0.10376520444727795\n"
     ]
    },
    {
     "data": {
      "image/png": "[encoded data removed]",
      "text/plain": [
       "<Figure size 432x288 with 2 Axes>"
      ]
     },
     "metadata": {
      "needs_background": "light"
     },
     "output_type": "display_data"
    },
    {
     "name": "stdout",
     "output_type": "stream",
     "text": [
      "                                 precision    recall  f1-score   support\n",
      "\n",
      "Demographic and Racial language       0.00      0.60      0.01        62\n",
      "             Exclusive language       0.01      0.47      0.01       160\n",
      "           Feminine-coded words       0.03      0.59      0.06      1656\n",
      "        LGBTQ-coloured language       0.00      0.20      0.00         5\n",
      "          Masculine-coded words       0.09      0.28      0.14      1758\n",
      "                              O       1.00      0.26      0.41     96359\n",
      "\n",
      "                       accuracy                           0.26    100000\n",
      "                      macro avg       0.19      0.40      0.10    100000\n",
      "                   weighted avg       0.96      0.26      0.40    100000\n",
      "\n"
     ]
    }
   ],
   "source": [
    "# Evaluation Support Vector Machine\n",
    "\n",
    "y_pred = clf.predict(X_test)\n",
    "\n",
    "print(\"Accuracy:\", accuracy_score(y_test, y_pred))\n",
    "print(\"Precision:\", precision_score(y_test, y_pred, average='macro',zero_division=0))\n",
    "print(\"Recall:\", recall_score(y_test, y_pred, average='macro'))\n",
    "print(\"F1_score:\", f1_score(y_test, y_pred, average='macro'))\n",
    "\n",
    "classifier.append(\"SVM\")\n",
    "accuracy.append(accuracy_score(y_test, y_pred))\n",
    "precision.append(precision_score(y_test, y_pred, average='macro',zero_division=0))\n",
    "recall.append(recall_score(y_test, y_pred, average='macro'))\n",
    "f1.append(f1_score(y_test, y_pred, average='macro'))\n",
    "\n",
    "plot_confusion_matrix(clf, X_test, y_test, xticks_rotation='vertical')\n",
    "plt.show()\n",
    "\n",
    "print(classification_report(y_test,y_pred))"
   ]
  },
  {
   "cell_type": "code",
   "execution_count": null,
   "id": "e43de704-b11e-4884-a040-cacf783b9da2",
   "metadata": {},
   "outputs": [],
   "source": [
    "%%time\n",
    "\n",
    "# Find optimal Logistic Regression settings\n",
    "\n",
    "# from sklearn import svm\n",
    "# from sklearn.model_selection import GridSearchCV\n",
    "\n",
    "# Cs = [0.001, 0.01, 0.1, 1, 10]\n",
    "# penaltys = ['l1', 'l2', 'elasticnet']\n",
    "# param_grid = {'C': Cs, 'penalty' : penaltys, 'solver': ('newton-cg', 'lbfgs', 'liblinear', 'sag', 'saga')}\n",
    "# grid_search = GridSearchCV(LogisticRegression(random_state=seed), param_grid, cv=10, n_jobs=-1)\n",
    "# grid_search.fit(X_train, y_train)\n",
    "# grid_search.best_params_\n",
    "\n",
    "# print(grid_search.best_params_)"
   ]
  },
  {
   "cell_type": "code",
   "execution_count": 13,
   "id": "productive-cartoon",
   "metadata": {
    "id": "productive-cartoon"
   },
   "outputs": [
    {
     "name": "stderr",
     "output_type": "stream",
     "text": [
      "/opt/conda/lib/python3.9/site-packages/scipy/optimize/linesearch.py:327: LineSearchWarning: The line search algorithm did not converge\n",
      "  warn('The line search algorithm did not converge', LineSearchWarning)\n",
      "/opt/conda/lib/python3.9/site-packages/sklearn/utils/optimize.py:195: UserWarning: Line Search failed\n",
      "  warnings.warn('Line Search failed')\n",
      "/opt/conda/lib/python3.9/site-packages/sklearn/metrics/_classification.py:1248: UndefinedMetricWarning: Precision is ill-defined and being set to 0.0 in labels with no predicted samples. Use `zero_division` parameter to control this behavior.\n",
      "  _warn_prf(average, modifier, msg_start, len(result))\n",
      "/opt/conda/lib/python3.9/site-packages/scipy/optimize/linesearch.py:437: LineSearchWarning: Rounding errors prevent the line search from converging\n",
      "  warn(msg, LineSearchWarning)\n",
      "/opt/conda/lib/python3.9/site-packages/scipy/optimize/linesearch.py:327: LineSearchWarning: The line search algorithm did not converge\n",
      "  warn('The line search algorithm did not converge', LineSearchWarning)\n",
      "/opt/conda/lib/python3.9/site-packages/sklearn/utils/optimize.py:195: UserWarning: Line Search failed\n",
      "  warnings.warn('Line Search failed')\n",
      "/opt/conda/lib/python3.9/site-packages/sklearn/metrics/_classification.py:1248: UndefinedMetricWarning: Precision is ill-defined and being set to 0.0 in labels with no predicted samples. Use `zero_division` parameter to control this behavior.\n",
      "  _warn_prf(average, modifier, msg_start, len(result))\n",
      "/opt/conda/lib/python3.9/site-packages/scipy/optimize/linesearch.py:327: LineSearchWarning: The line search algorithm did not converge\n",
      "  warn('The line search algorithm did not converge', LineSearchWarning)\n",
      "/opt/conda/lib/python3.9/site-packages/sklearn/utils/optimize.py:195: UserWarning: Line Search failed\n",
      "  warnings.warn('Line Search failed')\n",
      "/opt/conda/lib/python3.9/site-packages/sklearn/metrics/_classification.py:1248: UndefinedMetricWarning: Precision is ill-defined and being set to 0.0 in labels with no predicted samples. Use `zero_division` parameter to control this behavior.\n",
      "  _warn_prf(average, modifier, msg_start, len(result))\n",
      "/opt/conda/lib/python3.9/site-packages/scipy/optimize/linesearch.py:327: LineSearchWarning: The line search algorithm did not converge\n",
      "  warn('The line search algorithm did not converge', LineSearchWarning)\n",
      "/opt/conda/lib/python3.9/site-packages/sklearn/utils/optimize.py:195: UserWarning: Line Search failed\n",
      "  warnings.warn('Line Search failed')\n",
      "/opt/conda/lib/python3.9/site-packages/sklearn/metrics/_classification.py:1248: UndefinedMetricWarning: Precision is ill-defined and being set to 0.0 in labels with no predicted samples. Use `zero_division` parameter to control this behavior.\n",
      "  _warn_prf(average, modifier, msg_start, len(result))\n",
      "/opt/conda/lib/python3.9/site-packages/scipy/optimize/linesearch.py:327: LineSearchWarning: The line search algorithm did not converge\n",
      "  warn('The line search algorithm did not converge', LineSearchWarning)\n",
      "/opt/conda/lib/python3.9/site-packages/sklearn/utils/optimize.py:195: UserWarning: Line Search failed\n",
      "  warnings.warn('Line Search failed')\n",
      "/opt/conda/lib/python3.9/site-packages/scipy/optimize/linesearch.py:327: LineSearchWarning: The line search algorithm did not converge\n",
      "  warn('The line search algorithm did not converge', LineSearchWarning)\n",
      "/opt/conda/lib/python3.9/site-packages/sklearn/utils/optimize.py:195: UserWarning: Line Search failed\n",
      "  warnings.warn('Line Search failed')\n",
      "/opt/conda/lib/python3.9/site-packages/sklearn/metrics/_classification.py:1248: UndefinedMetricWarning: Precision is ill-defined and being set to 0.0 in labels with no predicted samples. Use `zero_division` parameter to control this behavior.\n",
      "  _warn_prf(average, modifier, msg_start, len(result))\n",
      "/opt/conda/lib/python3.9/site-packages/sklearn/metrics/_classification.py:1248: UndefinedMetricWarning: Precision is ill-defined and being set to 0.0 in labels with no predicted samples. Use `zero_division` parameter to control this behavior.\n",
      "  _warn_prf(average, modifier, msg_start, len(result))\n",
      "/opt/conda/lib/python3.9/site-packages/scipy/optimize/linesearch.py:327: LineSearchWarning: The line search algorithm did not converge\n",
      "  warn('The line search algorithm did not converge', LineSearchWarning)\n",
      "/opt/conda/lib/python3.9/site-packages/sklearn/utils/optimize.py:195: UserWarning: Line Search failed\n",
      "  warnings.warn('Line Search failed')\n",
      "/opt/conda/lib/python3.9/site-packages/sklearn/metrics/_classification.py:1248: UndefinedMetricWarning: Precision is ill-defined and being set to 0.0 in labels with no predicted samples. Use `zero_division` parameter to control this behavior.\n",
      "  _warn_prf(average, modifier, msg_start, len(result))\n",
      "/opt/conda/lib/python3.9/site-packages/scipy/optimize/linesearch.py:327: LineSearchWarning: The line search algorithm did not converge\n",
      "  warn('The line search algorithm did not converge', LineSearchWarning)\n",
      "/opt/conda/lib/python3.9/site-packages/sklearn/utils/optimize.py:195: UserWarning: Line Search failed\n",
      "  warnings.warn('Line Search failed')\n",
      "/opt/conda/lib/python3.9/site-packages/sklearn/metrics/_classification.py:1248: UndefinedMetricWarning: Precision is ill-defined and being set to 0.0 in labels with no predicted samples. Use `zero_division` parameter to control this behavior.\n",
      "  _warn_prf(average, modifier, msg_start, len(result))\n",
      "/opt/conda/lib/python3.9/site-packages/scipy/optimize/linesearch.py:327: LineSearchWarning: The line search algorithm did not converge\n",
      "  warn('The line search algorithm did not converge', LineSearchWarning)\n",
      "/opt/conda/lib/python3.9/site-packages/sklearn/utils/optimize.py:195: UserWarning: Line Search failed\n",
      "  warnings.warn('Line Search failed')\n",
      "/opt/conda/lib/python3.9/site-packages/sklearn/metrics/_classification.py:1248: UndefinedMetricWarning: Precision is ill-defined and being set to 0.0 in labels with no predicted samples. Use `zero_division` parameter to control this behavior.\n",
      "  _warn_prf(average, modifier, msg_start, len(result))\n",
      "/opt/conda/lib/python3.9/site-packages/scipy/optimize/linesearch.py:327: LineSearchWarning: The line search algorithm did not converge\n",
      "  warn('The line search algorithm did not converge', LineSearchWarning)\n",
      "/opt/conda/lib/python3.9/site-packages/sklearn/utils/optimize.py:195: UserWarning: Line Search failed\n",
      "  warnings.warn('Line Search failed')\n",
      "/opt/conda/lib/python3.9/site-packages/sklearn/metrics/_classification.py:1248: UndefinedMetricWarning: Precision is ill-defined and being set to 0.0 in labels with no predicted samples. Use `zero_division` parameter to control this behavior.\n",
      "  _warn_prf(average, modifier, msg_start, len(result))\n"
     ]
    },
    {
     "name": "stdout",
     "output_type": "stream",
     "text": [
      "0.16036208333333332\n",
      "0.16666666666666666\n",
      "0.16345360393227235\n",
      "CPU times: user 47min 3s, sys: 49min, total: 1h 36min 4s\n",
      "Wall time: 10min\n"
     ]
    },
    {
     "name": "stderr",
     "output_type": "stream",
     "text": [
      "/opt/conda/lib/python3.9/site-packages/scipy/optimize/linesearch.py:327: LineSearchWarning: The line search algorithm did not converge\n",
      "  warn('The line search algorithm did not converge', LineSearchWarning)\n",
      "/opt/conda/lib/python3.9/site-packages/sklearn/utils/optimize.py:195: UserWarning: Line Search failed\n",
      "  warnings.warn('Line Search failed')\n"
     ]
    },
    {
     "data": {
      "text/plain": [
       "LogisticRegression(max_iter=1000000000, solver='newton-cg')"
      ]
     },
     "execution_count": 13,
     "metadata": {},
     "output_type": "execute_result"
    }
   ],
   "source": [
    "%%time\n",
    "\n",
    "# Logistic Regression\n",
    "\n",
    "scoring = ['precision_macro', 'recall_macro', \"f1_macro\"]\n",
    "clf = LogisticRegression(solver='newton-cg', random_state=seed, max_iter=max_iterations)\n",
    "scores_LR = cross_validate(clf, X_train, y_train, scoring = scoring, cv=10, n_jobs=-1)\n",
    "LR_avg_precision = mean(scores_LR['test_precision_macro'])\n",
    "LR_avg_recall = mean(scores_LR['test_recall_macro'])\n",
    "LR_avg_f1 = mean(scores_LR['test_f1_macro'])\n",
    "\n",
    "print(LR_avg_precision)\n",
    "print(LR_avg_recall)\n",
    "print(LR_avg_f1)\n",
    "\n",
    "# Model fit\n",
    "clf.fit(X_train, y_train)"
   ]
  },
  {
   "cell_type": "code",
   "execution_count": 14,
   "id": "21a736b2-3416-42f0-98d1-b3a3598e9eb4",
   "metadata": {},
   "outputs": [],
   "source": [
    "# Optionally the data can be saved to create a checkpoint - LR\n",
    "\n",
    "import pickle\n",
    "\n",
    "f = open('fasttext_lr.pckl', 'wb')\n",
    "pickle.dump(clf, f)\n",
    "f.close()\n",
    "\n",
    "f = open('fasttext_lr.pckl', 'rb')\n",
    "clf = pickle.load(f)\n",
    "f.close()"
   ]
  },
  {
   "cell_type": "code",
   "execution_count": 15,
   "id": "solved-excuse",
   "metadata": {
    "id": "solved-excuse"
   },
   "outputs": [
    {
     "name": "stdout",
     "output_type": "stream",
     "text": [
      "Accuracy: 0.96359\n",
      "Precision: 0.16059833333333332\n",
      "Recall: 0.16666666666666666\n",
      "F1_score: 0.1635762387599584\n"
     ]
    },
    {
     "data": {
      "image/png": "[encoded data removed]",
      "text/plain": [
       "<Figure size 432x288 with 2 Axes>"
      ]
     },
     "metadata": {
      "needs_background": "light"
     },
     "output_type": "display_data"
    },
    {
     "name": "stderr",
     "output_type": "stream",
     "text": [
      "/opt/conda/lib/python3.9/site-packages/sklearn/metrics/_classification.py:1248: UndefinedMetricWarning: Precision and F-score are ill-defined and being set to 0.0 in labels with no predicted samples. Use `zero_division` parameter to control this behavior.\n",
      "  _warn_prf(average, modifier, msg_start, len(result))\n",
      "/opt/conda/lib/python3.9/site-packages/sklearn/metrics/_classification.py:1248: UndefinedMetricWarning: Precision and F-score are ill-defined and being set to 0.0 in labels with no predicted samples. Use `zero_division` parameter to control this behavior.\n",
      "  _warn_prf(average, modifier, msg_start, len(result))\n"
     ]
    },
    {
     "name": "stdout",
     "output_type": "stream",
     "text": [
      "                                 precision    recall  f1-score   support\n",
      "\n",
      "Demographic and Racial language       0.00      0.00      0.00        62\n",
      "             Exclusive language       0.00      0.00      0.00       160\n",
      "           Feminine-coded words       0.00      0.00      0.00      1656\n",
      "        LGBTQ-coloured language       0.00      0.00      0.00         5\n",
      "          Masculine-coded words       0.00      0.00      0.00      1758\n",
      "                              O       0.96      1.00      0.98     96359\n",
      "\n",
      "                       accuracy                           0.96    100000\n",
      "                      macro avg       0.16      0.17      0.16    100000\n",
      "                   weighted avg       0.93      0.96      0.95    100000\n",
      "\n"
     ]
    },
    {
     "name": "stderr",
     "output_type": "stream",
     "text": [
      "/opt/conda/lib/python3.9/site-packages/sklearn/metrics/_classification.py:1248: UndefinedMetricWarning: Precision and F-score are ill-defined and being set to 0.0 in labels with no predicted samples. Use `zero_division` parameter to control this behavior.\n",
      "  _warn_prf(average, modifier, msg_start, len(result))\n"
     ]
    }
   ],
   "source": [
    "# Evaluation Logistic Regression\n",
    "\n",
    "y_pred = clf.predict(X_test)\n",
    "\n",
    "print(\"Accuracy:\", accuracy_score(y_test, y_pred))\n",
    "print(\"Precision:\", precision_score(y_test, y_pred, average='macro',zero_division=0))\n",
    "print(\"Recall:\", recall_score(y_test, y_pred, average='macro'))\n",
    "print(\"F1_score:\", f1_score(y_test, y_pred, average='macro'))\n",
    "\n",
    "classifier.append(\"LR\")\n",
    "accuracy.append(accuracy_score(y_test, y_pred))\n",
    "precision.append(precision_score(y_test, y_pred, average='macro',zero_division=0))\n",
    "recall.append(recall_score(y_test, y_pred, average='macro'))\n",
    "f1.append(f1_score(y_test, y_pred, average='macro'))\n",
    "\n",
    "plot_confusion_matrix(clf, X_test, y_test, xticks_rotation='vertical')\n",
    "plt.show()\n",
    "\n",
    "print(classification_report(y_test,y_pred))"
   ]
  },
  {
   "cell_type": "code",
   "execution_count": 16,
   "id": "cellular-bulgaria",
   "metadata": {
    "id": "cellular-bulgaria"
   },
   "outputs": [
    {
     "name": "stdout",
     "output_type": "stream",
     "text": [
      "0.9780919645875654\n",
      "0.991728058416767\n",
      "0.9844331376512876\n",
      "CPU times: user 4min 41s, sys: 59.2 s, total: 5min 40s\n",
      "Wall time: 9min 16s\n"
     ]
    },
    {
     "data": {
      "text/plain": [
       "DecisionTreeClassifier()"
      ]
     },
     "execution_count": 16,
     "metadata": {},
     "output_type": "execute_result"
    }
   ],
   "source": [
    "%%time\n",
    "\n",
    "# Decision Tree\n",
    "\n",
    "# Cross validation\n",
    "scoring = ['precision_macro', 'recall_macro', \"f1_macro\"]\n",
    "clf = DecisionTreeClassifier(random_state=seed)\n",
    "scores_DT = cross_validate(clf, X_train, y_train, scoring = scoring, cv=10, n_jobs=-1)\n",
    "DT_avg_precision = mean(scores_DT['test_precision_macro'])\n",
    "DT_avg_recall = mean(scores_DT['test_recall_macro'])\n",
    "DT_avg_f1 = mean(scores_DT['test_f1_macro'])\n",
    "\n",
    "print(DT_avg_precision)\n",
    "print(DT_avg_recall)\n",
    "print(DT_avg_f1)\n",
    "\n",
    "# Model fit\n",
    "clf.fit(X_train, y_train)"
   ]
  },
  {
   "cell_type": "code",
   "execution_count": 16,
   "id": "7a9b5f93-354d-46d6-b806-7587ed7ced53",
   "metadata": {},
   "outputs": [],
   "source": [
    "# Optionally the data can be saved to create a checkpoint - DT\n",
    "\n",
    "import pickle\n",
    "\n",
    "f = open('fasttext_dt.pckl', 'wb')\n",
    "pickle.dump(clf, f)\n",
    "f.close()\n",
    "\n",
    "f = open('fasttext_dt.pckl', 'rb')\n",
    "clf = pickle.load(f)\n",
    "f.close()"
   ]
  },
  {
   "cell_type": "code",
   "execution_count": 17,
   "id": "aboriginal-commissioner",
   "metadata": {
    "id": "aboriginal-commissioner"
   },
   "outputs": [
    {
     "name": "stdout",
     "output_type": "stream",
     "text": [
      "Accuracy: 0.9993\n",
      "Precision: 0.9762266865549822\n",
      "Recall: 0.928746140349066\n",
      "F1_score: 0.943802597209952\n"
     ]
    },
    {
     "data": {
      "image/png": "[encoded data removed]",
      "text/plain": [
       "<Figure size 432x288 with 2 Axes>"
      ]
     },
     "metadata": {
      "needs_background": "light"
     },
     "output_type": "display_data"
    },
    {
     "name": "stdout",
     "output_type": "stream",
     "text": [
      "                                 precision    recall  f1-score   support\n",
      "\n",
      "Demographic and Racial language       0.91      1.00      0.95        62\n",
      "             Exclusive language       0.97      0.98      0.98       160\n",
      "           Feminine-coded words       0.99      1.00      0.99      1656\n",
      "        LGBTQ-coloured language       1.00      0.60      0.75         5\n",
      "          Masculine-coded words       0.99      1.00      0.99      1758\n",
      "                              O       1.00      1.00      1.00     96359\n",
      "\n",
      "                       accuracy                           1.00    100000\n",
      "                      macro avg       0.98      0.93      0.94    100000\n",
      "                   weighted avg       1.00      1.00      1.00    100000\n",
      "\n"
     ]
    }
   ],
   "source": [
    "# Evaluation Decision Tree\n",
    "\n",
    "y_pred = clf.predict(X_test)\n",
    "\n",
    "print(\"Accuracy:\", accuracy_score(y_test, y_pred))\n",
    "print(\"Precision:\", precision_score(y_test, y_pred, average='macro',zero_division=0))\n",
    "print(\"Recall:\", recall_score(y_test, y_pred, average='macro'))\n",
    "print(\"F1_score:\", f1_score(y_test, y_pred, average='macro'))\n",
    "\n",
    "classifier.append(\"DT\")\n",
    "accuracy.append(accuracy_score(y_test, y_pred))\n",
    "precision.append(precision_score(y_test, y_pred, average='macro',zero_division=0))\n",
    "recall.append(recall_score(y_test, y_pred, average='macro'))\n",
    "f1.append(f1_score(y_test, y_pred, average='macro'))\n",
    "\n",
    "plot_confusion_matrix(clf, X_test, y_test, xticks_rotation='vertical')\n",
    "plt.show()\n",
    "\n",
    "print(classification_report(y_test,y_pred))"
   ]
  },
  {
   "cell_type": "code",
   "execution_count": 19,
   "id": "functional-decision",
   "metadata": {
    "id": "functional-decision"
   },
   "outputs": [
    {
     "name": "stdout",
     "output_type": "stream",
     "text": [
      "0.9976285300864541\n",
      "0.9900472607315337\n",
      "0.9935529947449463\n",
      "CPU times: user 7min 50s, sys: 59.9 s, total: 8min 50s\n",
      "Wall time: 15min 45s\n"
     ]
    },
    {
     "data": {
      "text/plain": [
       "RandomForestClassifier()"
      ]
     },
     "execution_count": 19,
     "metadata": {},
     "output_type": "execute_result"
    }
   ],
   "source": [
    "%%time\n",
    "\n",
    "# Random Forest\n",
    "\n",
    "scoring = ['precision_macro', 'recall_macro', \"f1_macro\"]\n",
    "clf = RandomForestClassifier(random_state=seed)\n",
    "scores_RF = cross_validate(clf, X_train, y_train, scoring = scoring, cv=10, n_jobs=-1)\n",
    "RF_avg_precision = mean(scores_RF['test_precision_macro'])\n",
    "RF_avg_recall = mean(scores_RF['test_recall_macro'])\n",
    "RF_avg_f1 = mean(scores_RF['test_f1_macro'])\n",
    "\n",
    "print(RF_avg_precision)\n",
    "print(RF_avg_recall)\n",
    "print(RF_avg_f1)\n",
    "\n",
    "# Model fit\n",
    "clf.fit(X_train, y_train)"
   ]
  },
  {
   "cell_type": "code",
   "execution_count": 18,
   "id": "b478540b-028e-47f3-9fd9-d8ea9e1c6e32",
   "metadata": {},
   "outputs": [],
   "source": [
    "# Optionally the data can be saved to create a checkpoint - RF\n",
    "\n",
    "import pickle\n",
    "\n",
    "f = open('fasttext_rf.pckl', 'wb')\n",
    "pickle.dump(clf, f)\n",
    "f.close()\n",
    "\n",
    "f = open('fasttext_rf.pckl', 'rb')\n",
    "clf = pickle.load(f)\n",
    "f.close()"
   ]
  },
  {
   "cell_type": "code",
   "execution_count": 19,
   "id": "offshore-montreal",
   "metadata": {
    "id": "offshore-montreal"
   },
   "outputs": [
    {
     "name": "stdout",
     "output_type": "stream",
     "text": [
      "Accuracy: 0.9997\n",
      "Precision: 0.9962507084045193\n",
      "Recall: 0.928914240547166\n",
      "F1_score: 0.9542237112758416\n"
     ]
    },
    {
     "data": {
      "image/png": "[encoded data removed]",
      "text/plain": [
       "<Figure size 432x288 with 2 Axes>"
      ]
     },
     "metadata": {
      "needs_background": "light"
     },
     "output_type": "display_data"
    },
    {
     "name": "stdout",
     "output_type": "stream",
     "text": [
      "                                 precision    recall  f1-score   support\n",
      "\n",
      "Demographic and Racial language       0.98      1.00      0.99        62\n",
      "             Exclusive language       1.00      0.98      0.99       160\n",
      "           Feminine-coded words       1.00      1.00      1.00      1656\n",
      "        LGBTQ-coloured language       1.00      0.60      0.75         5\n",
      "          Masculine-coded words       1.00      1.00      1.00      1758\n",
      "                              O       1.00      1.00      1.00     96359\n",
      "\n",
      "                       accuracy                           1.00    100000\n",
      "                      macro avg       1.00      0.93      0.95    100000\n",
      "                   weighted avg       1.00      1.00      1.00    100000\n",
      "\n"
     ]
    }
   ],
   "source": [
    "# Evaluation Random Forest\n",
    "\n",
    "y_pred = clf.predict(X_test)\n",
    "\n",
    "print(\"Accuracy:\", accuracy_score(y_test, y_pred))\n",
    "print(\"Precision:\", precision_score(y_test, y_pred, average='macro',zero_division=0))\n",
    "print(\"Recall:\", recall_score(y_test, y_pred, average='macro'))\n",
    "print(\"F1_score:\", f1_score(y_test, y_pred, average='macro'))\n",
    "\n",
    "classifier.append(\"RF\")\n",
    "accuracy.append(accuracy_score(y_test, y_pred))\n",
    "precision.append(precision_score(y_test, y_pred, average='macro',zero_division=0))\n",
    "recall.append(recall_score(y_test, y_pred, average='macro'))\n",
    "f1.append(f1_score(y_test, y_pred, average='macro'))\n",
    "\n",
    "plot_confusion_matrix(clf, X_test, y_test, xticks_rotation='vertical')\n",
    "plt.show()\n",
    "\n",
    "print(classification_report(y_test,y_pred))"
   ]
  },
  {
   "cell_type": "code",
   "execution_count": null,
   "id": "1326fdad-3965-418f-9eb8-65ac45ba4e7a",
   "metadata": {},
   "outputs": [],
   "source": [
    "%%time\n",
    "\n",
    "# Find optimal Neural network MLP settings\n",
    "\n",
    "# from sklearn import svm\n",
    "# from sklearn.model_selection import GridSearchCV\n",
    "\n",
    "# activations = ['identity', 'logistic', 'tanh', 'relu']\n",
    "# alphas = [0.0001, 0.001, 00.1, 0.1, 1]\n",
    "# param_grid = {'activation': activations, 'alpha' : alphas, 'solver': ('lbfgs', 'sgd', 'adam'), 'learning_rate': ('constant', 'invscaling', 'adaptive')}\n",
    "# grid_search = GridSearchCV(MLPClassifier(random_state=seed), param_grid, cv=10, n_jobs=-1)\n",
    "# grid_search.fit(X_train, y_train)\n",
    "# grid_search.best_params_\n",
    "\n",
    "# print(grid_search.best_params_)"
   ]
  },
  {
   "cell_type": "code",
   "execution_count": 22,
   "id": "fluid-director",
   "metadata": {
    "id": "fluid-director"
   },
   "outputs": [
    {
     "name": "stderr",
     "output_type": "stream",
     "text": [
      "/opt/conda/lib/python3.9/site-packages/sklearn/metrics/_classification.py:1248: UndefinedMetricWarning: Precision is ill-defined and being set to 0.0 in labels with no predicted samples. Use `zero_division` parameter to control this behavior.\n",
      "  _warn_prf(average, modifier, msg_start, len(result))\n",
      "/opt/conda/lib/python3.9/site-packages/sklearn/metrics/_classification.py:1248: UndefinedMetricWarning: Precision is ill-defined and being set to 0.0 in labels with no predicted samples. Use `zero_division` parameter to control this behavior.\n",
      "  _warn_prf(average, modifier, msg_start, len(result))\n",
      "/opt/conda/lib/python3.9/site-packages/sklearn/metrics/_classification.py:1248: UndefinedMetricWarning: Precision is ill-defined and being set to 0.0 in labels with no predicted samples. Use `zero_division` parameter to control this behavior.\n",
      "  _warn_prf(average, modifier, msg_start, len(result))\n",
      "/opt/conda/lib/python3.9/site-packages/sklearn/metrics/_classification.py:1248: UndefinedMetricWarning: Precision is ill-defined and being set to 0.0 in labels with no predicted samples. Use `zero_division` parameter to control this behavior.\n",
      "  _warn_prf(average, modifier, msg_start, len(result))\n",
      "/opt/conda/lib/python3.9/site-packages/sklearn/metrics/_classification.py:1248: UndefinedMetricWarning: Precision is ill-defined and being set to 0.0 in labels with no predicted samples. Use `zero_division` parameter to control this behavior.\n",
      "  _warn_prf(average, modifier, msg_start, len(result))\n",
      "/opt/conda/lib/python3.9/site-packages/sklearn/metrics/_classification.py:1248: UndefinedMetricWarning: Precision is ill-defined and being set to 0.0 in labels with no predicted samples. Use `zero_division` parameter to control this behavior.\n",
      "  _warn_prf(average, modifier, msg_start, len(result))\n",
      "/opt/conda/lib/python3.9/site-packages/sklearn/metrics/_classification.py:1248: UndefinedMetricWarning: Precision is ill-defined and being set to 0.0 in labels with no predicted samples. Use `zero_division` parameter to control this behavior.\n",
      "  _warn_prf(average, modifier, msg_start, len(result))\n",
      "/opt/conda/lib/python3.9/site-packages/sklearn/metrics/_classification.py:1248: UndefinedMetricWarning: Precision is ill-defined and being set to 0.0 in labels with no predicted samples. Use `zero_division` parameter to control this behavior.\n",
      "  _warn_prf(average, modifier, msg_start, len(result))\n",
      "/opt/conda/lib/python3.9/site-packages/sklearn/metrics/_classification.py:1248: UndefinedMetricWarning: Precision is ill-defined and being set to 0.0 in labels with no predicted samples. Use `zero_division` parameter to control this behavior.\n",
      "  _warn_prf(average, modifier, msg_start, len(result))\n",
      "/opt/conda/lib/python3.9/site-packages/sklearn/metrics/_classification.py:1248: UndefinedMetricWarning: Precision is ill-defined and being set to 0.0 in labels with no predicted samples. Use `zero_division` parameter to control this behavior.\n",
      "  _warn_prf(average, modifier, msg_start, len(result))\n"
     ]
    },
    {
     "name": "stdout",
     "output_type": "stream",
     "text": [
      "0.16128875740643514\n",
      "0.1666670997133231\n",
      "0.14769125450913934\n",
      "CPU times: user 1h 24min 54s, sys: 3h 25min 40s, total: 4h 50min 35s\n",
      "Wall time: 9min 49s\n"
     ]
    },
    {
     "data": {
      "text/plain": [
       "MLPClassifier()"
      ]
     },
     "execution_count": 22,
     "metadata": {},
     "output_type": "execute_result"
    }
   ],
   "source": [
    "%%time\n",
    "\n",
    "# Neural network MLP\n",
    "\n",
    "scoring = ['precision_macro', 'recall_macro', \"f1_macro\"]\n",
    "clf = MLPClassifier(solver='adam', random_state=seed)\n",
    "scores_NN = cross_validate(clf, X_train, y_train, scoring = scoring, cv=10, n_jobs=-1)\n",
    "NN_avg_precision = mean(scores_NN['test_precision_macro'])\n",
    "NN_avg_recall = mean(scores_NN['test_recall_macro'])\n",
    "NN_avg_f1 = mean(scores_NN['test_f1_macro'])\n",
    "\n",
    "print(NN_avg_precision)\n",
    "print(NN_avg_recall)\n",
    "print(NN_avg_f1)\n",
    "\n",
    "# Model fit\n",
    "clf.fit(X_train, y_train)"
   ]
  },
  {
   "cell_type": "code",
   "execution_count": 20,
   "id": "a0b21e08-dd62-4bff-bccc-4115550ded96",
   "metadata": {},
   "outputs": [],
   "source": [
    "# Optionally the data can be saved to create a checkpoint - MLP\n",
    "\n",
    "import pickle\n",
    "\n",
    "f = open('fasttext_mlp.pckl', 'wb')\n",
    "pickle.dump(clf, f)\n",
    "f.close()\n",
    "\n",
    "f = open('fasttext_mlp.pckl', 'rb')\n",
    "clf = pickle.load(f)\n",
    "f.close()"
   ]
  },
  {
   "cell_type": "code",
   "execution_count": 21,
   "id": "9ea140c1-bc88-4d17-badc-a8eb70eb73ba",
   "metadata": {},
   "outputs": [
    {
     "name": "stdout",
     "output_type": "stream",
     "text": [
      "Accuracy: 0.96359\n",
      "Precision: 0.16059833333333332\n",
      "Recall: 0.16666666666666666\n",
      "F1_score: 0.1635762387599584\n"
     ]
    },
    {
     "data": {
      "image/png": "[encoded data removed]",
      "text/plain": [
       "<Figure size 432x288 with 2 Axes>"
      ]
     },
     "metadata": {
      "needs_background": "light"
     },
     "output_type": "display_data"
    },
    {
     "name": "stderr",
     "output_type": "stream",
     "text": [
      "/opt/conda/lib/python3.9/site-packages/sklearn/metrics/_classification.py:1248: UndefinedMetricWarning: Precision and F-score are ill-defined and being set to 0.0 in labels with no predicted samples. Use `zero_division` parameter to control this behavior.\n",
      "  _warn_prf(average, modifier, msg_start, len(result))\n",
      "/opt/conda/lib/python3.9/site-packages/sklearn/metrics/_classification.py:1248: UndefinedMetricWarning: Precision and F-score are ill-defined and being set to 0.0 in labels with no predicted samples. Use `zero_division` parameter to control this behavior.\n",
      "  _warn_prf(average, modifier, msg_start, len(result))\n"
     ]
    },
    {
     "name": "stdout",
     "output_type": "stream",
     "text": [
      "                                 precision    recall  f1-score   support\n",
      "\n",
      "Demographic and Racial language       0.00      0.00      0.00        62\n",
      "             Exclusive language       0.00      0.00      0.00       160\n",
      "           Feminine-coded words       0.00      0.00      0.00      1656\n",
      "        LGBTQ-coloured language       0.00      0.00      0.00         5\n",
      "          Masculine-coded words       0.00      0.00      0.00      1758\n",
      "                              O       0.96      1.00      0.98     96359\n",
      "\n",
      "                       accuracy                           0.96    100000\n",
      "                      macro avg       0.16      0.17      0.16    100000\n",
      "                   weighted avg       0.93      0.96      0.95    100000\n",
      "\n"
     ]
    },
    {
     "name": "stderr",
     "output_type": "stream",
     "text": [
      "/opt/conda/lib/python3.9/site-packages/sklearn/metrics/_classification.py:1248: UndefinedMetricWarning: Precision and F-score are ill-defined and being set to 0.0 in labels with no predicted samples. Use `zero_division` parameter to control this behavior.\n",
      "  _warn_prf(average, modifier, msg_start, len(result))\n"
     ]
    }
   ],
   "source": [
    "# Evaluation Neural network MLP\n",
    "\n",
    "y_pred = clf.predict(X_test)\n",
    "\n",
    "print(\"Accuracy:\", accuracy_score(y_test, y_pred))\n",
    "print(\"Precision:\", precision_score(y_test, y_pred, average='macro',zero_division=0))\n",
    "print(\"Recall:\", recall_score(y_test, y_pred, average='macro'))\n",
    "print(\"F1_score:\", f1_score(y_test, y_pred, average='macro'))\n",
    "\n",
    "classifier.append(\"MLP\")\n",
    "accuracy.append(accuracy_score(y_test, y_pred))\n",
    "precision.append(precision_score(y_test, y_pred, average='macro',zero_division=0))\n",
    "recall.append(recall_score(y_test, y_pred, average='macro'))\n",
    "f1.append(f1_score(y_test, y_pred, average='macro'))\n",
    "\n",
    "plot_confusion_matrix(clf, X_test, y_test, xticks_rotation='vertical')\n",
    "plt.show()\n",
    "\n",
    "print(classification_report(y_test,y_pred))"
   ]
  },
  {
   "cell_type": "code",
   "execution_count": 25,
   "id": "incorporated-plasma",
   "metadata": {
    "id": "incorporated-plasma"
   },
   "outputs": [
    {
     "name": "stderr",
     "output_type": "stream",
     "text": [
      "/opt/conda/lib/python3.9/site-packages/sklearn/metrics/_classification.py:1248: UndefinedMetricWarning: Precision is ill-defined and being set to 0.0 in labels with no predicted samples. Use `zero_division` parameter to control this behavior.\n",
      "  _warn_prf(average, modifier, msg_start, len(result))\n",
      "/opt/conda/lib/python3.9/site-packages/sklearn/metrics/_classification.py:1248: UndefinedMetricWarning: Precision is ill-defined and being set to 0.0 in labels with no predicted samples. Use `zero_division` parameter to control this behavior.\n",
      "  _warn_prf(average, modifier, msg_start, len(result))\n",
      "/opt/conda/lib/python3.9/site-packages/sklearn/metrics/_classification.py:1248: UndefinedMetricWarning: Precision is ill-defined and being set to 0.0 in labels with no predicted samples. Use `zero_division` parameter to control this behavior.\n",
      "  _warn_prf(average, modifier, msg_start, len(result))\n",
      "/opt/conda/lib/python3.9/site-packages/sklearn/metrics/_classification.py:1248: UndefinedMetricWarning: Precision is ill-defined and being set to 0.0 in labels with no predicted samples. Use `zero_division` parameter to control this behavior.\n",
      "  _warn_prf(average, modifier, msg_start, len(result))\n",
      "/opt/conda/lib/python3.9/site-packages/sklearn/metrics/_classification.py:1248: UndefinedMetricWarning: Precision is ill-defined and being set to 0.0 in labels with no predicted samples. Use `zero_division` parameter to control this behavior.\n",
      "  _warn_prf(average, modifier, msg_start, len(result))\n",
      "/opt/conda/lib/python3.9/site-packages/sklearn/metrics/_classification.py:1248: UndefinedMetricWarning: Precision is ill-defined and being set to 0.0 in labels with no predicted samples. Use `zero_division` parameter to control this behavior.\n",
      "  _warn_prf(average, modifier, msg_start, len(result))\n",
      "/opt/conda/lib/python3.9/site-packages/sklearn/metrics/_classification.py:1248: UndefinedMetricWarning: Precision is ill-defined and being set to 0.0 in labels with no predicted samples. Use `zero_division` parameter to control this behavior.\n",
      "  _warn_prf(average, modifier, msg_start, len(result))\n",
      "/opt/conda/lib/python3.9/site-packages/sklearn/metrics/_classification.py:1248: UndefinedMetricWarning: Precision is ill-defined and being set to 0.0 in labels with no predicted samples. Use `zero_division` parameter to control this behavior.\n",
      "  _warn_prf(average, modifier, msg_start, len(result))\n",
      "/opt/conda/lib/python3.9/site-packages/sklearn/metrics/_classification.py:1248: UndefinedMetricWarning: Precision is ill-defined and being set to 0.0 in labels with no predicted samples. Use `zero_division` parameter to control this behavior.\n",
      "  _warn_prf(average, modifier, msg_start, len(result))\n",
      "/opt/conda/lib/python3.9/site-packages/sklearn/metrics/_classification.py:1248: UndefinedMetricWarning: Precision is ill-defined and being set to 0.0 in labels with no predicted samples. Use `zero_division` parameter to control this behavior.\n",
      "  _warn_prf(average, modifier, msg_start, len(result))\n"
     ]
    },
    {
     "name": "stdout",
     "output_type": "stream",
     "text": [
      "0.11970472004188243\n",
      "0.16667446151773477\n",
      "0.005982920730818852\n",
      "CPU times: user 1min 8s, sys: 57.7 s, total: 2min 6s\n",
      "Wall time: 2min 34s\n"
     ]
    },
    {
     "data": {
      "text/plain": [
       "GaussianNB()"
      ]
     },
     "execution_count": 25,
     "metadata": {},
     "output_type": "execute_result"
    }
   ],
   "source": [
    "%%time\n",
    "\n",
    "# Naive Bayes\n",
    "\n",
    "scoring = ['precision_macro', 'recall_macro', \"f1_macro\"]\n",
    "clf = GaussianNB()\n",
    "scores_NB = cross_validate(clf, X_train, y_train, scoring = scoring, cv=10, n_jobs=-1)\n",
    "NB_avg_precision = mean(scores_NB['test_precision_macro'])\n",
    "NB_avg_recall = mean(scores_NB['test_recall_macro'])\n",
    "NB_avg_f1 = mean(scores_NB['test_f1_macro'])\n",
    "\n",
    "print(NB_avg_precision)\n",
    "print(NB_avg_recall)\n",
    "print(NB_avg_f1)\n",
    "\n",
    "# Model fit\n",
    "clf.fit(X_train, y_train)"
   ]
  },
  {
   "cell_type": "code",
   "execution_count": 22,
   "id": "cd18c1d8-2778-4e2c-a9ee-e65e04096e04",
   "metadata": {},
   "outputs": [],
   "source": [
    "# Optionally the data can be saved to create a checkpoint - NB\n",
    "\n",
    "import pickle\n",
    "\n",
    "f = open('fasttext_nb.pckl', 'wb')\n",
    "pickle.dump(clf, f)\n",
    "f.close()\n",
    "\n",
    "f = open('fasttext_nb.pckl', 'rb')\n",
    "clf = pickle.load(f)\n",
    "f.close()"
   ]
  },
  {
   "cell_type": "code",
   "execution_count": 23,
   "id": "regulated-trial",
   "metadata": {
    "id": "regulated-trial"
   },
   "outputs": [
    {
     "name": "stdout",
     "output_type": "stream",
     "text": [
      "Accuracy: 0.0166\n",
      "Precision: 0.16942677707108286\n",
      "Recall: 0.16667358523853507\n",
      "F1_score: 0.005444128152409039\n"
     ]
    },
    {
     "data": {
      "image/png": "[encoded data removed]",
      "text/plain": [
       "<Figure size 432x288 with 2 Axes>"
      ]
     },
     "metadata": {
      "needs_background": "light"
     },
     "output_type": "display_data"
    },
    {
     "name": "stderr",
     "output_type": "stream",
     "text": [
      "/opt/conda/lib/python3.9/site-packages/sklearn/metrics/_classification.py:1248: UndefinedMetricWarning: Precision and F-score are ill-defined and being set to 0.0 in labels with no predicted samples. Use `zero_division` parameter to control this behavior.\n",
      "  _warn_prf(average, modifier, msg_start, len(result))\n",
      "/opt/conda/lib/python3.9/site-packages/sklearn/metrics/_classification.py:1248: UndefinedMetricWarning: Precision and F-score are ill-defined and being set to 0.0 in labels with no predicted samples. Use `zero_division` parameter to control this behavior.\n",
      "  _warn_prf(average, modifier, msg_start, len(result))\n"
     ]
    },
    {
     "name": "stdout",
     "output_type": "stream",
     "text": [
      "                                 precision    recall  f1-score   support\n",
      "\n",
      "Demographic and Racial language       0.00      0.00      0.00        62\n",
      "             Exclusive language       0.00      0.00      0.00       160\n",
      "           Feminine-coded words       0.02      1.00      0.03      1656\n",
      "        LGBTQ-coloured language       0.00      0.00      0.00         5\n",
      "          Masculine-coded words       0.00      0.00      0.00      1758\n",
      "                              O       1.00      0.00      0.00     96359\n",
      "\n",
      "                       accuracy                           0.02    100000\n",
      "                      macro avg       0.17      0.17      0.01    100000\n",
      "                   weighted avg       0.96      0.02      0.00    100000\n",
      "\n"
     ]
    },
    {
     "name": "stderr",
     "output_type": "stream",
     "text": [
      "/opt/conda/lib/python3.9/site-packages/sklearn/metrics/_classification.py:1248: UndefinedMetricWarning: Precision and F-score are ill-defined and being set to 0.0 in labels with no predicted samples. Use `zero_division` parameter to control this behavior.\n",
      "  _warn_prf(average, modifier, msg_start, len(result))\n"
     ]
    }
   ],
   "source": [
    "# Evaluation Naive Bayes\n",
    "\n",
    "y_pred = clf.predict(X_test)\n",
    "\n",
    "print(\"Accuracy:\", accuracy_score(y_test, y_pred))\n",
    "print(\"Precision:\", precision_score(y_test, y_pred, average='macro',zero_division=0))\n",
    "print(\"Recall:\", recall_score(y_test, y_pred, average='macro'))\n",
    "print(\"F1_score:\", f1_score(y_test, y_pred, average='macro'))\n",
    "\n",
    "classifier.append(\"NB\")\n",
    "accuracy.append(accuracy_score(y_test, y_pred))\n",
    "precision.append(precision_score(y_test, y_pred, average='macro',zero_division=0))\n",
    "recall.append(recall_score(y_test, y_pred, average='macro'))\n",
    "f1.append(f1_score(y_test, y_pred, average='macro'))\n",
    "\n",
    "plot_confusion_matrix(clf, X_test, y_test, xticks_rotation='vertical')\n",
    "plt.show()\n",
    "\n",
    "print(classification_report(y_test,y_pred))"
   ]
  },
  {
   "cell_type": "code",
   "execution_count": 24,
   "id": "5447ca44-ab46-4f05-b60b-c8d0e0d6fd16",
   "metadata": {},
   "outputs": [
    {
     "name": "stdout",
     "output_type": "stream",
     "text": [
      "  Classifier  Accuracy  Precision    Recall  F1-score\n",
      "4         RF   0.99970   0.996251  0.928914  0.954224\n",
      "3         DT   0.99930   0.976227  0.928746  0.943803\n",
      "2         LR   0.96359   0.160598  0.166667  0.163576\n",
      "5        MLP   0.96359   0.160598  0.166667  0.163576\n",
      "1        SVM   0.26250   0.188380  0.399100  0.103765\n",
      "0   Baseline   0.16662   0.166698  0.163158  0.058334\n",
      "6         NB   0.01660   0.169427  0.166674  0.005444\n"
     ]
    }
   ],
   "source": [
    "results = pd.DataFrame(zip(classifier, accuracy, precision, recall, f1), columns = ['Classifier', 'Accuracy', 'Precision', 'Recall', 'F1-score'])\n",
    "results = results.sort_values(by = \"F1-score\", ascending = False)\n",
    "\n",
    "f = open('fasttext_results.pckl', 'wb')\n",
    "pickle.dump(results, f)\n",
    "f.close()\n",
    "\n",
    "f = open('fasttext_results.pckl', 'rb')\n",
    "results = pickle.load(f)\n",
    "f.close()\n",
    "\n",
    "print(results)"
   ]
  },
  {
   "cell_type": "code",
   "execution_count": 26,
   "id": "469f2c9f-1a43-4a27-84a8-742f3b2847e8",
   "metadata": {},
   "outputs": [],
   "source": [
    "# Save results dataframe\n",
    "\n",
    "results.to_csv('fasttext_results.csv', index = False)"
   ]
  },
  {
   "cell_type": "code",
   "execution_count": null,
   "id": "promotional-broadway",
   "metadata": {
    "id": "promotional-broadway"
   },
   "outputs": [],
   "source": [
    "# %%time\n",
    "\n",
    "# from sklearn.model_selection import train_test_split\n",
    "# from sklearn.datasets import load_breast_cancer\n",
    "# from sklearn.neighbors import KNeighborsClassifier\n",
    "# import matplotlib.pyplot as plt\n",
    "\n",
    "# %matplotlib inline\n",
    "\n",
    "# # We create two lists to keep training and test accuracies. We'll later use them to evaluate an \n",
    "# # appropriate number of neighbors\n",
    "# training_accuracy = []\n",
    "# test_accuracy = []\n",
    "\n",
    "# # We define a range of 1 to 10 (included) neighbors that will be tested\n",
    "# neighbors_settings = range(1,11)\n",
    "\n",
    "# # We loop the KNN model through the range of possible neighbors to evaluate which one would be \n",
    "# # appropriate for this analysis\n",
    "\n",
    "# for n_neighbors in neighbors_settings:\n",
    "    \n",
    "#     # creating the KNN classifier\n",
    "#     clf = KNeighborsClassifier(n_neighbors=n_neighbors)\n",
    "#     # fitting the model\n",
    "#     clf.fit(X_train, y_train)\n",
    "#     #recording the accuracy of the training set\n",
    "#     training_accuracy.append(clf.score(X_train, y_train))\n",
    "#     #recording the accuracy of the test set\n",
    "#     test_accuracy.append(clf.score(X_test, y_test))\n",
    "    \n",
    "# # Data Visualization - Evaluating the accuracy of both the training and the testing sets against \n",
    "# # n_neighbors\n",
    "    \n",
    "# plt.plot(neighbors_settings, training_accuracy, label='Accuracy of the Training Set')\n",
    "# plt.plot(neighbors_settings, test_accuracy, label='Accuracy of the Test Set')\n",
    "# plt.ylabel('Accuracy')\n",
    "# plt.xlabel('Number of Neighbors')\n",
    "# plt.legend()"
   ]
  },
  {
   "cell_type": "code",
   "execution_count": null,
   "id": "accepting-christmas",
   "metadata": {
    "id": "accepting-christmas"
   },
   "outputs": [],
   "source": [
    "# LR = LogisticRegression(solver='lbfgs', max_iter=self.iter,random_state=self.seed, n_jobs=self.processor_mode)\n",
    "\n",
    "# GBC = GradientBoostingClassifier(n_estimators=100, learning_rate=1.0,max_depth=1, random_state=self.seed)\n",
    "\n",
    "# SGD = SGDClassifier(loss=\"hinge\", penalty=\"l2\", max_iter=self.iter,random_state=self.seed, n_jobs=self.processor_mode)\n",
    "\n",
    "# RF = RandomForestClassifier(random_state=self.seed, n_jobs=self.processor_mode)\n",
    "\n",
    "# SVM = svm.SVC(decision_function_shape='ovo',random_state=self.seed)\n",
    "\n",
    "# MLP = MLPClassifier(solver='lbfgs', alpha=1e-5,\n",
    "#              hidden_layer_sizes=(15,), random_state=self.seed,max_iter=self.iter)"
   ]
  }
 ],
 "metadata": {
  "colab": {
   "name": "fasttext_Text_Classification500.ipynb",
   "provenance": []
  },
  "kernelspec": {
   "display_name": "Python 3 (ipykernel)",
   "language": "python",
   "name": "python3"
  },
  "language_info": {
   "codemirror_mode": {
    "name": "ipython",
    "version": 3
   },
   "file_extension": ".py",
   "mimetype": "text/x-python",
   "name": "python",
   "nbconvert_exporter": "python",
   "pygments_lexer": "ipython3",
   "version": "3.9.5"
  }
 },
 "nbformat": 4,
 "nbformat_minor": 5
}
